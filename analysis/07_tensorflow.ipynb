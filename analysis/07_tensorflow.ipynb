{
 "cells": [
  {
   "cell_type": "code",
   "execution_count": 1,
   "metadata": {},
   "outputs": [],
   "source": [
    "import pickle\n",
    "import tensorflow as tf\n",
    "import pandas as pd\n",
    "import numpy as np\n",
    "from sklearn.model_selection import train_test_split, KFold\n",
    "from sklearn.preprocessing import StandardScaler\n",
    "from sklearn import metrics\n",
    "from sklearn.metrics import classification_report,confusion_matrix,accuracy_score,roc_curve, roc_auc_score, auc, log_loss"
   ]
  },
  {
   "cell_type": "code",
   "execution_count": 2,
   "metadata": {},
   "outputs": [],
   "source": [
    "import matplotlib.pyplot as plt\n",
    "import seaborn as sns\n",
    "\n",
    "%matplotlib inline"
   ]
  },
  {
   "cell_type": "markdown",
   "metadata": {},
   "source": [
    "**There are two phases to building a `tensorflow` model.**\n",
    "\n",
    "1. Graph construction\n",
    "2. Training/evaluation"
   ]
  },
  {
   "cell_type": "markdown",
   "metadata": {},
   "source": [
    "## Building a Neural Network for Binary Classification\n",
    "\n",
    "---"
   ]
  },
  {
   "cell_type": "markdown",
   "metadata": {},
   "source": [
    "Now we'll build a neural net for _classification_.  \n",
    "1. Load the data.\n",
    "2. Data cleaning/munging, feature engineering (will not do today)\n",
    "3. Make test/train splits. (Should we use cross validation?)\n",
    "4. Standardize the data.\n",
    "5. Build the computational graph for the neural network.\n",
    "6. Train the network using gradient descent a.k.a. back propogation.\n",
    "7. Evaluate performance and iterate."
   ]
  },
  {
   "cell_type": "code",
   "execution_count": 3,
   "metadata": {},
   "outputs": [],
   "source": [
    "df = pd.read_csv('../data/dataset5.gz', compression='gzip', header=0, sep=',', quotechar='\"')"
   ]
  },
  {
   "cell_type": "code",
   "execution_count": 4,
   "metadata": {},
   "outputs": [],
   "source": [
    "# Split the data\n",
    "df_train, df_test = train_test_split(df, test_size = .3, random_state=42)"
   ]
  },
  {
   "cell_type": "code",
   "execution_count": 5,
   "metadata": {},
   "outputs": [
    {
     "data": {
      "text/plain": [
       "1    65524\n",
       "0    65524\n",
       "Name: failure, dtype: int64"
      ]
     },
     "execution_count": 5,
     "metadata": {},
     "output_type": "execute_result"
    }
   ],
   "source": [
    "from sklearn.utils import resample\n",
    "# Separate majority and minority classes\n",
    "df_majority = df_train[df_train['failure']==0]\n",
    "df_minority = df_train[df_train['failure']==1]\n",
    " \n",
    "# Upsample minority class\n",
    "df_minority_upsampled = resample(df_minority, \n",
    "                                 replace=True,     # sample with replacement\n",
    "                                 n_samples=len(df_majority),    # to match majority class\n",
    "                                 random_state=42) # reproducible results\n",
    " \n",
    "# Combine majority class with upsampled minority class\n",
    "df_train_upsampled = pd.concat([df_majority, df_minority_upsampled])\n",
    " \n",
    "# Display new class counts\n",
    "df_train_upsampled['failure'].value_counts()\n"
   ]
  },
  {
   "cell_type": "code",
   "execution_count": 6,
   "metadata": {},
   "outputs": [],
   "source": [
    "# final x-values (features)\n",
    "X_train=df_train_upsampled.drop(['failure', 'device'], axis=1)\n",
    "X_test=df_test.drop(['failure', 'device'], axis=1)"
   ]
  },
  {
   "cell_type": "code",
   "execution_count": 7,
   "metadata": {},
   "outputs": [],
   "source": [
    "# final y-values\n",
    "y_train=df_train_upsampled['failure'].values\n",
    "y1_test=df_test[['device','failure']] # Hold onto the device variable for later use, but remove it from the modeling data.\n",
    "y_test=df_test['failure'].values"
   ]
  },
  {
   "cell_type": "code",
   "execution_count": 8,
   "metadata": {},
   "outputs": [],
   "source": [
    "# confirm that lengths match\n",
    "assert len(X_train)==len(y_train)\n",
    "assert len(X_test)==len(y_test)"
   ]
  },
  {
   "cell_type": "code",
   "execution_count": 9,
   "metadata": {},
   "outputs": [],
   "source": [
    "# Standardize variables\n",
    "\n",
    "y_train = y_train*-1 + 1\n",
    "y_test = y_test*-1 + 1\n",
    "\n",
    "y_train = y_train.reshape(-1,1)\n",
    "y_test = y_test.reshape(-1,1)\n",
    "\n",
    "ss = StandardScaler()\n",
    "X_train = ss.fit_transform(X_train)\n",
    "X_test = ss.transform(X_test)"
   ]
  },
  {
   "cell_type": "code",
   "execution_count": 10,
   "metadata": {},
   "outputs": [],
   "source": [
    "tf.reset_default_graph()\n",
    "\n",
    "X = tf.placeholder(dtype=tf.float32, \n",
    "                   shape=(None,X_train.shape[1]),\n",
    "                   name='X')\n",
    "y = tf.placeholder(dtype=tf.float32,\n",
    "                   shape=(None),\n",
    "                   name='y')\n",
    "\n",
    "hidden1 = tf.layers.dense(X, units=y_train.shape[1],\n",
    "                          name='hidden1',\n",
    "                          activation=tf.nn.relu)\n",
    "y_hat = tf.layers.dense(hidden1, units=1,\n",
    "                        name='y_hat',\n",
    "                        activation=tf.nn.sigmoid)\n",
    "\n",
    "loss = tf.losses.log_loss(y, y_hat)\n",
    "\n",
    "optimizer = tf.train.AdamOptimizer(0.01)\n",
    "\n",
    "training_op = optimizer.minimize(loss)"
   ]
  },
  {
   "cell_type": "code",
   "execution_count": 11,
   "metadata": {},
   "outputs": [
    {
     "name": "stdout",
     "output_type": "stream",
     "text": [
      "epoch 1 0.7723722 0.5790646\n",
      "epoch 11 0.64870584 0.55259377\n",
      "epoch 21 0.58589697 0.4481223\n",
      "epoch 31 0.5295682 0.33371615\n",
      "epoch 41 0.49859485 0.28076744\n",
      "epoch 51 0.47393262 0.27843407\n",
      "epoch 61 0.4540556 0.29845908\n",
      "epoch 71 0.43805817 0.3078956\n",
      "epoch 81 0.42423776 0.30606622\n",
      "epoch 91 0.41225004 0.30686414\n",
      "epoch 101 0.40199688 0.3101119\n",
      "epoch 111 0.39480203 0.30768788\n",
      "epoch 121 0.3890934 0.31075463\n",
      "epoch 131 0.3844852 0.31806016\n",
      "epoch 141 0.3806682 0.32238638\n",
      "epoch 151 0.37737992 0.3265144\n",
      "epoch 161 0.37455243 0.33013824\n",
      "epoch 171 0.3721157 0.33304211\n",
      "epoch 181 0.37003767 0.3359358\n",
      "epoch 191 0.36818898 0.33808863\n",
      "epoch 201 0.36664864 0.34178457\n",
      "epoch 211 0.36529875 0.34438977\n",
      "epoch 221 0.36419806 0.3470402\n",
      "epoch 231 0.3632592 0.34960893\n",
      "epoch 241 0.36244896 0.35212013\n",
      "epoch 251 0.36180484 0.35297158\n",
      "epoch 261 0.36124837 0.35593185\n",
      "epoch 271 0.36075282 0.35753357\n",
      "epoch 281 0.3603149 0.3589636\n",
      "epoch 291 0.35997105 0.36031023\n",
      "epoch 301 0.35963514 0.361491\n",
      "epoch 311 0.35936093 0.36308995\n",
      "epoch 321 0.35912517 0.36399502\n",
      "epoch 331 0.3589169 0.36527944\n",
      "epoch 341 0.3587128 0.36720368\n",
      "epoch 351 0.35856658 0.36773208\n",
      "epoch 361 0.35843018 0.36899704\n",
      "epoch 371 0.3583003 0.37048513\n",
      "epoch 381 0.35818937 0.37101436\n",
      "epoch 391 0.35810143 0.37176454\n",
      "epoch 401 0.35801768 0.37233722\n",
      "epoch 411 0.35794774 0.37312824\n",
      "epoch 421 0.3578683 0.37454182\n",
      "epoch 431 0.35781908 0.37455085\n",
      "epoch 441 0.357779 0.37574208\n",
      "epoch 451 0.35771006 0.3756384\n",
      "epoch 461 0.35768598 0.37661752\n",
      "epoch 471 0.35764375 0.37656254\n",
      "epoch 481 0.35759515 0.37694654\n",
      "epoch 491 0.35755673 0.3774937\n",
      "epoch 501 0.3575279 0.37802407\n"
     ]
    }
   ],
   "source": [
    "init = tf.global_variables_initializer()\n",
    "\n",
    "test_err = []\n",
    "train_err = []\n",
    "\n",
    "with tf.Session() as sess:\n",
    "    init.run()\n",
    "    \n",
    "    for epoch in range(501):\n",
    "        sess.run(training_op,\n",
    "                     feed_dict={X:X_train, y:y_train})\n",
    "        \n",
    "        train_loss = sess.run(loss, feed_dict={X:X_train, y:y_train})\n",
    "        test_loss = sess.run(loss, feed_dict={X:X_test, y:y_test})\n",
    "        test_err.append(test_loss)\n",
    "        train_err.append(train_loss)\n",
    "        if epoch % 10 == 0:\n",
    "            print('epoch', epoch+1, train_loss, test_loss)\n",
    "        \n",
    "    pred = sess.run(y_hat, feed_dict={X:X_test})"
   ]
  },
  {
   "cell_type": "code",
   "execution_count": 12,
   "metadata": {},
   "outputs": [
    {
     "data": {
      "text/plain": [
       "<matplotlib.legend.Legend at 0x1a18362ba8>"
      ]
     },
     "execution_count": 12,
     "metadata": {},
     "output_type": "execute_result"
    },
    {
     "data": {
      "image/png": "[encoded data removed]",
      "text/plain": [
       "<matplotlib.figure.Figure at 0x104b943c8>"
      ]
     },
     "metadata": {},
     "output_type": "display_data"
    }
   ],
   "source": [
    "plt.plot(train_err, label='Train error')\n",
    "plt.plot(test_err, label='Test error')\n",
    "plt.legend()"
   ]
  },
  {
   "cell_type": "code",
   "execution_count": 13,
   "metadata": {},
   "outputs": [],
   "source": [
    "pred_bin = (pred > 0.5).astype(int)"
   ]
  },
  {
   "cell_type": "code",
   "execution_count": 14,
   "metadata": {},
   "outputs": [
    {
     "data": {
      "text/plain": [
       "0.8564618832485504"
      ]
     },
     "execution_count": 14,
     "metadata": {},
     "output_type": "execute_result"
    }
   ],
   "source": [
    "metrics.accuracy_score(y_test, pred_bin)"
   ]
  },
  {
   "cell_type": "code",
   "execution_count": 15,
   "metadata": {},
   "outputs": [
    {
     "data": {
      "text/plain": [
       "array([[   19,     6],\n",
       "       [ 4029, 24057]])"
      ]
     },
     "execution_count": 15,
     "metadata": {},
     "output_type": "execute_result"
    }
   ],
   "source": [
    "metrics.confusion_matrix(y_test, pred_bin)"
   ]
  },
  {
   "cell_type": "code",
   "execution_count": 16,
   "metadata": {},
   "outputs": [
    {
     "data": {
      "text/plain": [
       "(array([0.78992397], dtype=float32), array([1]))"
      ]
     },
     "execution_count": 16,
     "metadata": {},
     "output_type": "execute_result"
    }
   ],
   "source": [
    "pred[0], y_test[0]"
   ]
  },
  {
   "cell_type": "code",
   "execution_count": 17,
   "metadata": {},
   "outputs": [
    {
     "name": "stdout",
     "output_type": "stream",
     "text": [
      "F1 Score 0.9226\n",
      "Accuracy 0.8565\n",
      "AUC Score 0.8083\n"
     ]
    }
   ],
   "source": [
    "# Calculate the roc-auc score\n",
    "auc_rf=metrics.roc_auc_score(y_test, pred_bin)\n",
    "acc_rf = metrics.accuracy_score(y_test, pred_bin)\n",
    "f1_rf = metrics.f1_score(y_test, pred_bin)\n",
    "# Display\n",
    "print('F1 Score', \"%.4f\" % round(f1_rf,4))\n",
    "print('Accuracy', \"%.4f\" % round(acc_rf,4))\n",
    "print('AUC Score', \"%.4f\" % round(auc_rf,4))"
   ]
  },
  {
   "cell_type": "code",
   "execution_count": 18,
   "metadata": {},
   "outputs": [
    {
     "name": "stdout",
     "output_type": "stream",
     "text": [
      "0.6931471805599453\n",
      "4.957631089290641\n"
     ]
    }
   ],
   "source": [
    "# Log loss. Can we beat random guessing? Lower is better.\n",
    "guesses=np.full((len(y_test), ), .5)\n",
    "print(log_loss(y_test, guesses))\n",
    "print(log_loss(y_test, pred_bin)) "
   ]
  }
 ],
 "metadata": {
  "kernelspec": {
   "display_name": "Python 3",
   "language": "python",
   "name": "python3"
  },
  "language_info": {
   "codemirror_mode": {
    "name": "ipython",
    "version": 3
   },
   "file_extension": ".py",
   "mimetype": "text/x-python",
   "name": "python",
   "nbconvert_exporter": "python",
   "pygments_lexer": "ipython3",
   "version": "3.6.4"
  }
 },
 "nbformat": 4,
 "nbformat_minor": 2
}
