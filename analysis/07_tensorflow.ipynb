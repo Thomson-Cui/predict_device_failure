{
 "cells": [
  {
   "cell_type": "code",
   "execution_count": 1,
   "metadata": {},
   "outputs": [],
   "source": [
    "import pickle\n",
    "import tensorflow as tf\n",
    "import pandas as pd\n",
    "import numpy as np\n",
    "from sklearn.model_selection import train_test_split, KFold\n",
    "from sklearn.preprocessing import StandardScaler\n",
    "from sklearn import metrics\n",
    "from sklearn.metrics import classification_report,confusion_matrix,accuracy_score,roc_curve, roc_auc_score, auc, log_loss"
   ]
  },
  {
   "cell_type": "code",
   "execution_count": 2,
   "metadata": {},
   "outputs": [],
   "source": [
    "import matplotlib.pyplot as plt\n",
    "import seaborn as sns\n",
    "%matplotlib inline"
   ]
  },
  {
   "cell_type": "code",
   "execution_count": 3,
   "metadata": {},
   "outputs": [
    {
     "data": {
      "text/html": [
       "<script type=\"text/javascript\">window.PlotlyConfig = {MathJaxConfig: 'local'};</script><script type=\"text/javascript\">if (window.MathJax) {MathJax.Hub.Config({SVG: {font: \"STIX-Web\"}});}</script><script>requirejs.config({paths: { 'plotly': ['https://cdn.plot.ly/plotly-latest.min']},});if(!window._Plotly) {require(['plotly'],function(plotly) {window._Plotly=plotly;});}</script>"
      ],
      "text/vnd.plotly.v1+html": [
       "<script type=\"text/javascript\">window.PlotlyConfig = {MathJaxConfig: 'local'};</script><script type=\"text/javascript\">if (window.MathJax) {MathJax.Hub.Config({SVG: {font: \"STIX-Web\"}});}</script><script>requirejs.config({paths: { 'plotly': ['https://cdn.plot.ly/plotly-latest.min']},});if(!window._Plotly) {require(['plotly'],function(plotly) {window._Plotly=plotly;});}</script>"
      ]
     },
     "metadata": {},
     "output_type": "display_data"
    }
   ],
   "source": [
    "from plotly.offline import download_plotlyjs, init_notebook_mode, plot, iplot\n",
    "init_notebook_mode(connected=True)\n",
    "import plotly.io as pio\n",
    "import plotly.plotly as py\n",
    "import plotly.graph_objs as go\n",
    "from plotly.graph_objs import *"
   ]
  },
  {
   "cell_type": "code",
   "execution_count": 4,
   "metadata": {},
   "outputs": [],
   "source": [
    "# Define the color palette (17 colors).\n",
    "Viridis= ['#440154', '#48186a', '#472d7b', '#424086', '#3b528b', '#33638d', '#2c728e', '#26828e', '#21918c', '#1fa088',\n",
    "          '#28ae80', '#3fbc73', '#5ec962', '#84d44b', '#addc30','#d8e219', '#fde725']  "
   ]
  },
  {
   "cell_type": "markdown",
   "metadata": {},
   "source": [
    "## Neural Network for Binary Classification\n",
    "\n",
    "---"
   ]
  },
  {
   "cell_type": "markdown",
   "metadata": {},
   "source": [
    "Now we'll build a neural net for classification.  \n",
    "1. Load the data.\n",
    "2. Make test/train splits. (Should we use cross validation?)\n",
    "3. Standardize the data.\n",
    "4. Build the computational graph for the neural network.\n",
    "5. Train the network using gradient descent a.k.a. back propogation.\n",
    "6. Evaluate performance "
   ]
  },
  {
   "cell_type": "code",
   "execution_count": 5,
   "metadata": {},
   "outputs": [],
   "source": [
    "df = pd.read_csv('../data/dataset5.gz', compression='gzip', header=0, sep=',', quotechar='\"')"
   ]
  },
  {
   "cell_type": "code",
   "execution_count": 6,
   "metadata": {},
   "outputs": [
    {
     "data": {
      "text/plain": [
       "Index(['device', 'failure', 'ndays', 'attribute2', 'attribute3', 'attribute4',\n",
       "       'att5', 'att6', 'attribute7', 'S1F0', 'S1F1', 'W1F0', 'W1F1', 'Z1F0',\n",
       "       'Z1F1', 'attribute2_lag01', 'attribute2_lag02', 'attribute2_lag03',\n",
       "       'attribute2_lag04', 'attribute3_lag01', 'attribute3_lag02',\n",
       "       'attribute3_lag03', 'attribute3_lag04', 'attribute4_lag01',\n",
       "       'attribute4_lag02', 'attribute4_lag03', 'attribute4_lag04',\n",
       "       'att5_lag01', 'att5_lag02', 'att5_lag03', 'att5_lag04', 'att6_lag01',\n",
       "       'att6_lag02', 'att6_lag03', 'att6_lag04', 'attribute7_lag01',\n",
       "       'attribute7_lag02', 'attribute7_lag03', 'attribute7_lag04'],\n",
       "      dtype='object')"
      ]
     },
     "execution_count": 6,
     "metadata": {},
     "output_type": "execute_result"
    }
   ],
   "source": [
    "df.columns"
   ]
  },
  {
   "cell_type": "code",
   "execution_count": 7,
   "metadata": {},
   "outputs": [],
   "source": [
    "# Split the data\n",
    "df_train, df_test = train_test_split(df, test_size = .3, random_state=42)"
   ]
  },
  {
   "cell_type": "code",
   "execution_count": 8,
   "metadata": {},
   "outputs": [
    {
     "data": {
      "text/plain": [
       "1    65524\n",
       "0    65524\n",
       "Name: failure, dtype: int64"
      ]
     },
     "execution_count": 8,
     "metadata": {},
     "output_type": "execute_result"
    }
   ],
   "source": [
    "from sklearn.utils import resample\n",
    "# Separate majority and minority classes\n",
    "df_majority = df_train[df_train['failure']==0]\n",
    "df_minority = df_train[df_train['failure']==1]\n",
    " \n",
    "# Upsample minority class\n",
    "df_minority_upsampled = resample(df_minority, \n",
    "                                 replace=True,     # sample with replacement\n",
    "                                 n_samples=len(df_majority),    # to match majority class\n",
    "                                 random_state=42) # reproducible results\n",
    " \n",
    "# Combine majority class with upsampled minority class\n",
    "df_train_upsampled = pd.concat([df_majority, df_minority_upsampled])\n",
    " \n",
    "# Display new class counts\n",
    "df_train_upsampled['failure'].value_counts()\n"
   ]
  },
  {
   "cell_type": "code",
   "execution_count": 9,
   "metadata": {},
   "outputs": [],
   "source": [
    "# final x-values (features)\n",
    "X_train=df_train_upsampled.drop(['failure', 'device'], axis=1)\n",
    "X_test=df_test.drop(['failure', 'device'], axis=1)"
   ]
  },
  {
   "cell_type": "code",
   "execution_count": 10,
   "metadata": {},
   "outputs": [],
   "source": [
    "# final y-values\n",
    "y_train=df_train_upsampled['failure'].values\n",
    "y1_test=df_test[['device','failure']] # Hold onto the device variable for later use, but remove it from the modeling data.\n",
    "y_test=df_test['failure'].values"
   ]
  },
  {
   "cell_type": "code",
   "execution_count": 11,
   "metadata": {},
   "outputs": [],
   "source": [
    "# confirm that lengths match\n",
    "assert len(X_train)==len(y_train)\n",
    "assert len(X_test)==len(y_test)"
   ]
  },
  {
   "cell_type": "code",
   "execution_count": 12,
   "metadata": {},
   "outputs": [],
   "source": [
    "# Standardize variables\n",
    "\n",
    "y_train = y_train*-1 + 1\n",
    "y_test = y_test*-1 + 1\n",
    "\n",
    "y_train = y_train.reshape(-1,1)\n",
    "y_test = y_test.reshape(-1,1)\n",
    "\n",
    "ss = StandardScaler()\n",
    "X_train = ss.fit_transform(X_train)\n",
    "X_test = ss.transform(X_test)"
   ]
  },
  {
   "cell_type": "code",
   "execution_count": 13,
   "metadata": {},
   "outputs": [],
   "source": [
    "tf.reset_default_graph()\n",
    "\n",
    "X = tf.placeholder(dtype=tf.float32, \n",
    "                   shape=(None,X_train.shape[1]),\n",
    "                   name='X')\n",
    "y = tf.placeholder(dtype=tf.float32,\n",
    "                   shape=(None),\n",
    "                   name='y')\n",
    "\n",
    "hidden1 = tf.layers.dense(X, units=y_train.shape[1],\n",
    "                          name='hidden1',\n",
    "                          activation=tf.nn.relu)\n",
    "y_hat = tf.layers.dense(hidden1, units=1,\n",
    "                        name='y_hat',\n",
    "                        activation=tf.nn.sigmoid)\n",
    "\n",
    "loss = tf.losses.log_loss(y, y_hat)\n",
    "\n",
    "optimizer = tf.train.AdamOptimizer(0.01)\n",
    "\n",
    "training_op = optimizer.minimize(loss)"
   ]
  },
  {
   "cell_type": "code",
   "execution_count": 14,
   "metadata": {},
   "outputs": [
    {
     "name": "stdout",
     "output_type": "stream",
     "text": [
      "epoch 1 0.6984744 0.9264716\n",
      "epoch 11 0.5659402 0.71683866\n",
      "epoch 21 0.5253942 0.6902922\n",
      "epoch 31 0.50599766 0.66178757\n",
      "epoch 41 0.4901385 0.6253845\n",
      "epoch 51 0.47826588 0.5858666\n",
      "epoch 61 0.4683307 0.5504045\n",
      "epoch 71 0.4596053 0.5260645\n",
      "epoch 81 0.45166492 0.5110684\n",
      "epoch 91 0.4441743 0.49910054\n",
      "epoch 101 0.43170407 0.48034048\n",
      "epoch 111 0.42141464 0.46720982\n",
      "epoch 121 0.41722694 0.45639062\n",
      "epoch 131 0.41449752 0.44123447\n",
      "epoch 141 0.4121362 0.42691475\n",
      "epoch 151 0.41051048 0.41803136\n",
      "epoch 161 0.40909663 0.41009083\n",
      "epoch 171 0.4080269 0.40332773\n",
      "epoch 181 0.40711734 0.39702126\n",
      "epoch 191 0.40640357 0.39183912\n",
      "epoch 201 0.40579394 0.38761836\n",
      "epoch 211 0.40529662 0.38397923\n",
      "epoch 221 0.40485287 0.38079193\n",
      "epoch 231 0.4044928 0.37811932\n",
      "epoch 241 0.40418738 0.3758657\n",
      "epoch 251 0.403941 0.37395296\n",
      "epoch 261 0.40370497 0.37231067\n",
      "epoch 271 0.4034787 0.37089616\n",
      "epoch 281 0.40329725 0.36972344\n",
      "epoch 291 0.4031233 0.36873835\n",
      "epoch 301 0.4030101 0.3679237\n",
      "epoch 311 0.40284598 0.36717486\n",
      "epoch 321 0.4027179 0.3665311\n",
      "epoch 331 0.4025894 0.36600566\n",
      "epoch 341 0.4024821 0.36555886\n",
      "epoch 351 0.4023764 0.3651677\n",
      "epoch 361 0.4022775 0.36479476\n",
      "epoch 371 0.40216932 0.3645026\n",
      "epoch 381 0.4020967 0.36427417\n",
      "epoch 391 0.40203246 0.36411688\n",
      "epoch 401 0.40195274 0.363937\n",
      "epoch 411 0.4018538 0.363752\n",
      "epoch 421 0.4017794 0.36357436\n",
      "epoch 431 0.40171266 0.36346474\n",
      "epoch 441 0.40166685 0.3633585\n",
      "epoch 451 0.4016142 0.3632471\n",
      "epoch 461 0.40156975 0.36315435\n",
      "epoch 471 0.40150073 0.36301848\n",
      "epoch 481 0.40145153 0.36292735\n",
      "epoch 491 0.40141916 0.36285183\n",
      "epoch 501 0.4013468 0.36274678\n"
     ]
    }
   ],
   "source": [
    "init = tf.global_variables_initializer()\n",
    "\n",
    "test_err = []\n",
    "train_err = []\n",
    "\n",
    "with tf.Session() as sess:\n",
    "    init.run()\n",
    "    \n",
    "    for epoch in range(501):\n",
    "        sess.run(training_op,\n",
    "                     feed_dict={X:X_train, y:y_train})\n",
    "        \n",
    "        train_loss = sess.run(loss, feed_dict={X:X_train, y:y_train})\n",
    "        test_loss = sess.run(loss, feed_dict={X:X_test, y:y_test})\n",
    "        test_err.append(test_loss)\n",
    "        train_err.append(train_loss)\n",
    "        if epoch % 10 == 0:\n",
    "            print('epoch', epoch+1, train_loss, test_loss)\n",
    "        \n",
    "    pred = sess.run(y_hat, feed_dict={X:X_test})"
   ]
  },
  {
   "cell_type": "code",
   "execution_count": 15,
   "metadata": {},
   "outputs": [
    {
     "data": {
      "image/png": "[encoded data removed]",
      "text/plain": [
       "<matplotlib.figure.Figure at 0x1a225e35c0>"
      ]
     },
     "metadata": {},
     "output_type": "display_data"
    }
   ],
   "source": [
    "plt.plot(train_err, label='Train error')\n",
    "plt.plot(test_err, label='Test error')\n",
    "plt.legend()\n",
    "plt.savefig('nn_error.png')"
   ]
  },
  {
   "cell_type": "code",
   "execution_count": 16,
   "metadata": {},
   "outputs": [
    {
     "data": {
      "text/plain": [
       "(array([0.7950365], dtype=float32), array([1]))"
      ]
     },
     "execution_count": 16,
     "metadata": {},
     "output_type": "execute_result"
    }
   ],
   "source": [
    "predictions = (pred > 0.5).astype(int)\n",
    "pred[0], y_test[0]"
   ]
  },
  {
   "cell_type": "markdown",
   "metadata": {},
   "source": [
    "## Model Evaluation"
   ]
  },
  {
   "cell_type": "code",
   "execution_count": 17,
   "metadata": {},
   "outputs": [
    {
     "name": "stdout",
     "output_type": "stream",
     "text": [
      "F1 Score 0.9606\n",
      "Accuracy 0.9242\n",
      "AUC Score 0.8422\n"
     ]
    }
   ],
   "source": [
    "# Calculate the roc-auc score\n",
    "auc_tf=metrics.roc_auc_score(y_test, predictions)\n",
    "acc_tf = metrics.accuracy_score(y_test, predictions)\n",
    "f1_tf = metrics.f1_score(y_test, predictions)\n",
    "# Display\n",
    "print('F1 Score', \"%.4f\" % round(f1_tf,4))\n",
    "print('Accuracy', \"%.4f\" % round(acc_tf,4))\n",
    "print('AUC Score', \"%.4f\" % round(auc_tf,4))"
   ]
  },
  {
   "cell_type": "code",
   "execution_count": 18,
   "metadata": {},
   "outputs": [
    {
     "name": "stdout",
     "output_type": "stream",
     "text": [
      "0.6931471805599453\n",
      "2.618268197329845\n"
     ]
    }
   ],
   "source": [
    "# Log loss. Can we beat random guessing? Lower is better.\n",
    "guesses=np.full((len(y_test), ), .5)\n",
    "print(log_loss(y_test, guesses))\n",
    "print(log_loss(y_test, predictions)) "
   ]
  },
  {
   "cell_type": "code",
   "execution_count": 19,
   "metadata": {},
   "outputs": [
    {
     "data": {
      "text/html": [
       "<div>\n",
       "<style scoped>\n",
       "    .dataframe tbody tr th:only-of-type {\n",
       "        vertical-align: middle;\n",
       "    }\n",
       "\n",
       "    .dataframe tbody tr th {\n",
       "        vertical-align: top;\n",
       "    }\n",
       "\n",
       "    .dataframe thead th {\n",
       "        text-align: right;\n",
       "    }\n",
       "</style>\n",
       "<table border=\"1\" class=\"dataframe\">\n",
       "  <thead>\n",
       "    <tr style=\"text-align: right;\">\n",
       "      <th></th>\n",
       "      <th>naive bayes</th>\n",
       "      <th>logistic regression</th>\n",
       "      <th>k-nearest neighbors</th>\n",
       "      <th>random forest</th>\n",
       "      <th>neural net</th>\n",
       "    </tr>\n",
       "  </thead>\n",
       "  <tbody>\n",
       "    <tr>\n",
       "      <th>F1 score</th>\n",
       "      <td>0.004476</td>\n",
       "      <td>0.010887</td>\n",
       "      <td>0.020202</td>\n",
       "      <td>0.000000</td>\n",
       "      <td>0.960576</td>\n",
       "    </tr>\n",
       "    <tr>\n",
       "      <th>Accuracy</th>\n",
       "      <td>0.778450</td>\n",
       "      <td>0.890114</td>\n",
       "      <td>0.996549</td>\n",
       "      <td>0.998826</td>\n",
       "      <td>0.924193</td>\n",
       "    </tr>\n",
       "    <tr>\n",
       "      <th>AUC score</th>\n",
       "      <td>0.669322</td>\n",
       "      <td>0.785151</td>\n",
       "      <td>0.518700</td>\n",
       "      <td>0.499858</td>\n",
       "      <td>0.842170</td>\n",
       "    </tr>\n",
       "  </tbody>\n",
       "</table>\n",
       "</div>"
      ],
      "text/plain": [
       "           naive bayes  logistic regression  k-nearest neighbors  \\\n",
       "F1 score      0.004476             0.010887             0.020202   \n",
       "Accuracy      0.778450             0.890114             0.996549   \n",
       "AUC score     0.669322             0.785151             0.518700   \n",
       "\n",
       "           random forest  neural net  \n",
       "F1 score        0.000000    0.960576  \n",
       "Accuracy        0.998826    0.924193  \n",
       "AUC score       0.499858    0.842170  "
      ]
     },
     "execution_count": 19,
     "metadata": {},
     "output_type": "execute_result"
    }
   ],
   "source": [
    "# Unpickle the results from previous models (logreg, etc.)\n",
    "pickle_off = open('model_metrics.pkl','rb')\n",
    "results = pickle.load(pickle_off)\n",
    "results['neural net']=[f1_tf, acc_tf, auc_tf]\n",
    "results"
   ]
  },
  {
   "cell_type": "code",
   "execution_count": 20,
   "metadata": {},
   "outputs": [
    {
     "data": {
      "application/vnd.plotly.v1+json": {
       "config": {
        "linkText": "Export to plot.ly",
        "plotlyServerURL": "https://plot.ly",
        "showLink": false
       },
       "data": [
        {
         "marker": {
          "color": "#fde725"
         },
         "name": "F1 score",
         "type": "bar",
         "uid": "4be44590-1796-437d-a98e-0224494f3ca8",
         "x": [
          "naive bayes",
          "logistic regression",
          "k-nearest neighbors",
          "random forest",
          "neural net"
         ],
         "y": [
          0.004475703324808184,
          0.010886967659301952,
          0.0202020202020202,
          0,
          0.960575731226759
         ]
        },
        {
         "marker": {
          "color": "#28ae80"
         },
         "name": "Accuracy",
         "type": "bar",
         "uid": "70596bdb-c32f-49fb-b841-c0c7ff15f8a1",
         "x": [
          "naive bayes",
          "logistic regression",
          "k-nearest neighbors",
          "random forest",
          "neural net"
         ],
         "y": [
          0.7784497171925581,
          0.8901141901746648,
          0.9965493934758636,
          0.9988260823165309,
          0.9241933762584041
         ]
        },
        {
         "marker": {
          "color": "#440154"
         },
         "name": "AUC score",
         "type": "bar",
         "uid": "fdcbb3dc-7bf7-4ff2-b551-f575c51d2d33",
         "x": [
          "naive bayes",
          "logistic regression",
          "k-nearest neighbors",
          "random forest",
          "neural net"
         ],
         "y": [
          0.6693220821761732,
          0.7851506088442641,
          0.5187004201381471,
          0.49985758028911204,
          0.8421697642953785
         ]
        }
       ],
       "layout": {
        "title": {
         "text": "Comparison of Possible Models"
        },
        "xaxis": {
         "title": {
          "text": "Predictive models"
         }
        },
        "yaxis": {
         "title": {
          "text": "Score"
         }
        }
       }
      },
      "text/html": [
       "<div id=\"88ac4786-aa90-4a3a-8ce7-c540dea6fe1e\" style=\"height: 525px; width: 100%;\" class=\"plotly-graph-div\"></div><script type=\"text/javascript\">require([\"plotly\"], function(Plotly) { window.PLOTLYENV=window.PLOTLYENV || {};window.PLOTLYENV.BASE_URL=\"https://plot.ly\";\n",
       "if (document.getElementById(\"88ac4786-aa90-4a3a-8ce7-c540dea6fe1e\")) {\n",
       "    Plotly.newPlot(\"88ac4786-aa90-4a3a-8ce7-c540dea6fe1e\", [{\"marker\": {\"color\": \"#fde725\"}, \"name\": \"F1 score\", \"x\": [\"naive bayes\", \"logistic regression\", \"k-nearest neighbors\", \"random forest\", \"neural net\"], \"y\": [0.004475703324808184, 0.010886967659301952, 0.0202020202020202, 0.0, 0.960575731226759], \"type\": \"bar\", \"uid\": \"4be44590-1796-437d-a98e-0224494f3ca8\"}, {\"marker\": {\"color\": \"#28ae80\"}, \"name\": \"Accuracy\", \"x\": [\"naive bayes\", \"logistic regression\", \"k-nearest neighbors\", \"random forest\", \"neural net\"], \"y\": [0.7784497171925581, 0.8901141901746648, 0.9965493934758636, 0.9988260823165309, 0.9241933762584041], \"type\": \"bar\", \"uid\": \"70596bdb-c32f-49fb-b841-c0c7ff15f8a1\"}, {\"marker\": {\"color\": \"#440154\"}, \"name\": \"AUC score\", \"x\": [\"naive bayes\", \"logistic regression\", \"k-nearest neighbors\", \"random forest\", \"neural net\"], \"y\": [0.6693220821761732, 0.7851506088442641, 0.5187004201381471, 0.49985758028911204, 0.8421697642953785], \"type\": \"bar\", \"uid\": \"fdcbb3dc-7bf7-4ff2-b551-f575c51d2d33\"}], {\"title\": {\"text\": \"Comparison of Possible Models\"}, \"xaxis\": {\"title\": {\"text\": \"Predictive models\"}}, \"yaxis\": {\"title\": {\"text\": \"Score\"}}}, {\"showLink\": false, \"linkText\": \"Export to plot.ly\", \"plotlyServerURL\": \"https://plot.ly\"}); \n",
       "}\n",
       "});</script><script type=\"text/javascript\">window.addEventListener(\"resize\", function(){if (document.getElementById(\"88ac4786-aa90-4a3a-8ce7-c540dea6fe1e\")) {window._Plotly.Plots.resize(document.getElementById(\"88ac4786-aa90-4a3a-8ce7-c540dea6fe1e\"));};})</script>"
      ],
      "text/vnd.plotly.v1+html": [
       "<div id=\"88ac4786-aa90-4a3a-8ce7-c540dea6fe1e\" style=\"height: 525px; width: 100%;\" class=\"plotly-graph-div\"></div><script type=\"text/javascript\">require([\"plotly\"], function(Plotly) { window.PLOTLYENV=window.PLOTLYENV || {};window.PLOTLYENV.BASE_URL=\"https://plot.ly\";\n",
       "if (document.getElementById(\"88ac4786-aa90-4a3a-8ce7-c540dea6fe1e\")) {\n",
       "    Plotly.newPlot(\"88ac4786-aa90-4a3a-8ce7-c540dea6fe1e\", [{\"marker\": {\"color\": \"#fde725\"}, \"name\": \"F1 score\", \"x\": [\"naive bayes\", \"logistic regression\", \"k-nearest neighbors\", \"random forest\", \"neural net\"], \"y\": [0.004475703324808184, 0.010886967659301952, 0.0202020202020202, 0.0, 0.960575731226759], \"type\": \"bar\", \"uid\": \"4be44590-1796-437d-a98e-0224494f3ca8\"}, {\"marker\": {\"color\": \"#28ae80\"}, \"name\": \"Accuracy\", \"x\": [\"naive bayes\", \"logistic regression\", \"k-nearest neighbors\", \"random forest\", \"neural net\"], \"y\": [0.7784497171925581, 0.8901141901746648, 0.9965493934758636, 0.9988260823165309, 0.9241933762584041], \"type\": \"bar\", \"uid\": \"70596bdb-c32f-49fb-b841-c0c7ff15f8a1\"}, {\"marker\": {\"color\": \"#440154\"}, \"name\": \"AUC score\", \"x\": [\"naive bayes\", \"logistic regression\", \"k-nearest neighbors\", \"random forest\", \"neural net\"], \"y\": [0.6693220821761732, 0.7851506088442641, 0.5187004201381471, 0.49985758028911204, 0.8421697642953785], \"type\": \"bar\", \"uid\": \"fdcbb3dc-7bf7-4ff2-b551-f575c51d2d33\"}], {\"title\": {\"text\": \"Comparison of Possible Models\"}, \"xaxis\": {\"title\": {\"text\": \"Predictive models\"}}, \"yaxis\": {\"title\": {\"text\": \"Score\"}}}, {\"showLink\": false, \"linkText\": \"Export to plot.ly\", \"plotlyServerURL\": \"https://plot.ly\"}); \n",
       "}\n",
       "});</script><script type=\"text/javascript\">window.addEventListener(\"resize\", function(){if (document.getElementById(\"88ac4786-aa90-4a3a-8ce7-c540dea6fe1e\")) {window._Plotly.Plots.resize(document.getElementById(\"88ac4786-aa90-4a3a-8ce7-c540dea6fe1e\"));};})</script>"
      ]
     },
     "metadata": {},
     "output_type": "display_data"
    }
   ],
   "source": [
    "# Let's display that with plotly.\n",
    "mydata1 = go.Bar(\n",
    "    x=results.loc['F1 score'].index,\n",
    "    y=results.loc['F1 score'],\n",
    "    name=results.index[0],\n",
    "    marker=dict(color=Viridis[16])\n",
    ")\n",
    "mydata2 = go.Bar(\n",
    "    x=results.loc['Accuracy'].index,\n",
    "    y=results.loc['Accuracy'],\n",
    "    name=results.index[1],\n",
    "    marker=dict(color=Viridis[10])\n",
    ")\n",
    "mydata3 = go.Bar(\n",
    "    x=results.loc['AUC score'].index,\n",
    "    y=results.loc['AUC score'],\n",
    "    name=results.index[2],\n",
    "    marker=dict(color=Viridis[0])\n",
    ")\n",
    "mylayout = go.Layout(\n",
    "    title='Comparison of Possible Models',\n",
    "    xaxis = dict(title = 'Predictive models'), # x-axis label\n",
    "    yaxis = dict(title = 'Score'), # y-axis label\n",
    "    \n",
    ")\n",
    "fig = go.Figure(data=[mydata1, mydata2, mydata3], layout=mylayout)\n",
    "iplot(fig)"
   ]
  },
  {
   "cell_type": "code",
   "execution_count": 21,
   "metadata": {},
   "outputs": [
    {
     "data": {
      "text/plain": [
       "{'ROC-AUC score': 0.8421697642953785,\n",
       " 'accuracy score': 0.9241933762584041,\n",
       " 'error rate': 0.07580662374159586,\n",
       " 'f1 score': 0.960575731226759,\n",
       " 'precision score': 0.9997689374975931,\n",
       " 'recall score': 0.924339528590757}"
      ]
     },
     "execution_count": 21,
     "metadata": {},
     "output_type": "execute_result"
    }
   ],
   "source": [
    "def model_metrics(y_test, predictions):\n",
    "    '''\n",
    "    Calculate 5 standard model metrics\n",
    "    Return a dictionary with the metrics\n",
    "    '''\n",
    "    f1 = metrics.f1_score(y_test, predictions)\n",
    "    accuracy = metrics.accuracy_score(y_test, predictions)\n",
    "    error = 1 - accuracy\n",
    "    precision = metrics.precision_score(y_test, predictions)\n",
    "    recall = metrics.recall_score(y_test, predictions)\n",
    "    rocauc =  metrics.roc_auc_score(y_test, predictions)\n",
    "    return {'f1 score':f1, 'accuracy score': accuracy, 'error rate': error, 'precision score': precision, 'recall score': recall, 'ROC-AUC score': rocauc}\n",
    "\n",
    "model_metrics(y_test, predictions)"
   ]
  },
  {
   "cell_type": "markdown",
   "metadata": {},
   "source": [
    "### ROC-AUC (Receiver Operating Characteristic - Area Under the Curve)"
   ]
  },
  {
   "cell_type": "code",
   "execution_count": 22,
   "metadata": {},
   "outputs": [
    {
     "data": {
      "text/plain": [
       "84.2"
      ]
     },
     "execution_count": 22,
     "metadata": {},
     "output_type": "execute_result"
    }
   ],
   "source": [
    "FPR, TPR, _ = roc_curve(y_test, predictions)\n",
    "roc_score=round(100*roc_auc_score(y_test, predictions),1)\n",
    "roc_score"
   ]
  },
  {
   "cell_type": "code",
   "execution_count": 23,
   "metadata": {},
   "outputs": [
    {
     "data": {
      "application/vnd.plotly.v1+json": {
       "config": {
        "linkText": "Export to plot.ly",
        "plotlyServerURL": "https://plot.ly",
        "showLink": false
       },
       "data": [
        {
         "mode": "lines",
         "name": "AUC: 84.2",
         "type": "scatter",
         "uid": "74249636-40d5-41bc-8415-eae29e97971f",
         "x": [
          0,
          0.24,
          1
         ],
         "y": [
          0,
          0.924339528590757,
          1
         ]
        },
        {
         "mode": "lines",
         "name": "Baseline Area: 50.0",
         "type": "scatter",
         "uid": "86136ac7-5745-4013-9488-cd98c344a6de",
         "x": [
          0,
          1
         ],
         "y": [
          0,
          1
         ]
        }
       ],
       "layout": {
        "height": 600,
        "title": {
         "text": "Receiver Operating Characteristic - Area Under Curve"
        },
        "width": 650
       }
      },
      "text/html": [
       "<div id=\"b9f00f97-eaf6-4a31-b168-d0ae878e5ce8\" style=\"height: 600px; width: 650px;\" class=\"plotly-graph-div\"></div><script type=\"text/javascript\">require([\"plotly\"], function(Plotly) { window.PLOTLYENV=window.PLOTLYENV || {};window.PLOTLYENV.BASE_URL=\"https://plot.ly\";\n",
       "if (document.getElementById(\"b9f00f97-eaf6-4a31-b168-d0ae878e5ce8\")) {\n",
       "    Plotly.newPlot(\"b9f00f97-eaf6-4a31-b168-d0ae878e5ce8\", [{\"mode\": \"lines\", \"name\": \"AUC: 84.2\", \"x\": [0.0, 0.24, 1.0], \"y\": [0.0, 0.924339528590757, 1.0], \"type\": \"scatter\", \"uid\": \"74249636-40d5-41bc-8415-eae29e97971f\"}, {\"mode\": \"lines\", \"name\": \"Baseline Area: 50.0\", \"x\": [0, 1], \"y\": [0, 1], \"type\": \"scatter\", \"uid\": \"86136ac7-5745-4013-9488-cd98c344a6de\"}], {\"height\": 600, \"title\": {\"text\": \"Receiver Operating Characteristic - Area Under Curve\"}, \"width\": 650}, {\"showLink\": false, \"linkText\": \"Export to plot.ly\", \"plotlyServerURL\": \"https://plot.ly\"}); \n",
       "}\n",
       "});</script>"
      ],
      "text/vnd.plotly.v1+html": [
       "<div id=\"b9f00f97-eaf6-4a31-b168-d0ae878e5ce8\" style=\"height: 600px; width: 650px;\" class=\"plotly-graph-div\"></div><script type=\"text/javascript\">require([\"plotly\"], function(Plotly) { window.PLOTLYENV=window.PLOTLYENV || {};window.PLOTLYENV.BASE_URL=\"https://plot.ly\";\n",
       "if (document.getElementById(\"b9f00f97-eaf6-4a31-b168-d0ae878e5ce8\")) {\n",
       "    Plotly.newPlot(\"b9f00f97-eaf6-4a31-b168-d0ae878e5ce8\", [{\"mode\": \"lines\", \"name\": \"AUC: 84.2\", \"x\": [0.0, 0.24, 1.0], \"y\": [0.0, 0.924339528590757, 1.0], \"type\": \"scatter\", \"uid\": \"74249636-40d5-41bc-8415-eae29e97971f\"}, {\"mode\": \"lines\", \"name\": \"Baseline Area: 50.0\", \"x\": [0, 1], \"y\": [0, 1], \"type\": \"scatter\", \"uid\": \"86136ac7-5745-4013-9488-cd98c344a6de\"}], {\"height\": 600, \"title\": {\"text\": \"Receiver Operating Characteristic - Area Under Curve\"}, \"width\": 650}, {\"showLink\": false, \"linkText\": \"Export to plot.ly\", \"plotlyServerURL\": \"https://plot.ly\"}); \n",
       "}\n",
       "});</script>"
      ]
     },
     "metadata": {},
     "output_type": "display_data"
    }
   ],
   "source": [
    "# ROC-AUC figure\n",
    "\n",
    "data = [\n",
    "    {\n",
    "      'x':FPR, \n",
    "      'y':TPR, \n",
    "      'type':'scatter',\n",
    "      'mode': 'lines',\n",
    "      'name': 'AUC: '+str(roc_score)\n",
    "      },\n",
    "     {'x':[0,1], \n",
    "      'y':[0,1], \n",
    "      'type':'scatter',\n",
    "      'mode': 'lines',\n",
    "      'name': 'Baseline Area: 50.0'}]\n",
    "\n",
    "layout = go.Layout(\n",
    "    title = 'Receiver Operating Characteristic - Area Under Curve',\n",
    "    width=650,\n",
    "    height=600, \n",
    ")\n",
    "fig = go.Figure(data=data, layout=layout)\n",
    "iplot(fig)"
   ]
  },
  {
   "cell_type": "code",
   "execution_count": 24,
   "metadata": {},
   "outputs": [],
   "source": [
    "# A confusion matrix tells us our false positives and false negatives:\n",
    "matrix=confusion_matrix(y_test, predictions)\n",
    "cm=pd.DataFrame(matrix, columns=['predicted: +', 'predicted: -'], index=['ground truth: +', 'ground truth: -'])\n",
    "cm=cm.reset_index(drop=False)\n",
    "cm=cm.rename(columns={'index': f'n = {len(y_test)}'})"
   ]
  },
  {
   "cell_type": "code",
   "execution_count": 25,
   "metadata": {},
   "outputs": [
    {
     "data": {
      "application/vnd.plotly.v1+json": {
       "config": {
        "linkText": "Export to plot.ly",
        "plotlyServerURL": "https://plot.ly",
        "showLink": false
       },
       "data": [
        {
         "colorscale": [
          [
           0,
           "#00083e"
          ],
          [
           0.5,
           "#ededee"
          ],
          [
           1,
           "#ffffff"
          ]
         ],
         "hoverinfo": "none",
         "opacity": 0.75,
         "showscale": false,
         "type": "heatmap",
         "uid": "9b1b7393-ea53-433e-84e5-87ef661ba6f0",
         "z": [
          [
           0,
           0,
           0
          ],
          [
           0.5,
           0.5,
           0.5
          ],
          [
           1,
           1,
           1
          ]
         ]
        }
       ],
       "layout": {
        "annotations": [
         {
          "align": "left",
          "font": {
           "color": "#ffffff"
          },
          "showarrow": false,
          "text": "<b>n = 28111</b>",
          "x": -0.45,
          "xanchor": "left",
          "xref": "x",
          "y": 0,
          "yref": "y"
         },
         {
          "align": "left",
          "font": {
           "color": "#ffffff"
          },
          "showarrow": false,
          "text": "<b>predicted: +</b>",
          "x": 0.55,
          "xanchor": "left",
          "xref": "x",
          "y": 0,
          "yref": "y"
         },
         {
          "align": "left",
          "font": {
           "color": "#ffffff"
          },
          "showarrow": false,
          "text": "<b>predicted: -</b>",
          "x": 1.55,
          "xanchor": "left",
          "xref": "x",
          "y": 0,
          "yref": "y"
         },
         {
          "align": "left",
          "font": {
           "color": "#000000"
          },
          "showarrow": false,
          "text": "ground truth: +",
          "x": -0.45,
          "xanchor": "left",
          "xref": "x",
          "y": 1,
          "yref": "y"
         },
         {
          "align": "left",
          "font": {
           "color": "#000000"
          },
          "showarrow": false,
          "text": "19",
          "x": 0.55,
          "xanchor": "left",
          "xref": "x",
          "y": 1,
          "yref": "y"
         },
         {
          "align": "left",
          "font": {
           "color": "#000000"
          },
          "showarrow": false,
          "text": "6",
          "x": 1.55,
          "xanchor": "left",
          "xref": "x",
          "y": 1,
          "yref": "y"
         },
         {
          "align": "left",
          "font": {
           "color": "#000000"
          },
          "showarrow": false,
          "text": "ground truth: -",
          "x": -0.45,
          "xanchor": "left",
          "xref": "x",
          "y": 2,
          "yref": "y"
         },
         {
          "align": "left",
          "font": {
           "color": "#000000"
          },
          "showarrow": false,
          "text": "2125",
          "x": 0.55,
          "xanchor": "left",
          "xref": "x",
          "y": 2,
          "yref": "y"
         },
         {
          "align": "left",
          "font": {
           "color": "#000000"
          },
          "showarrow": false,
          "text": "25961",
          "x": 1.55,
          "xanchor": "left",
          "xref": "x",
          "y": 2,
          "yref": "y"
         }
        ],
        "height": 140,
        "margin": {
         "b": 0,
         "l": 0,
         "r": 0,
         "t": 0
        },
        "xaxis": {
         "dtick": 1,
         "gridwidth": 2,
         "showticklabels": false,
         "tick0": -0.5,
         "ticks": "",
         "zeroline": false
        },
        "yaxis": {
         "autorange": "reversed",
         "dtick": 1,
         "gridwidth": 2,
         "showticklabels": false,
         "tick0": 0.5,
         "ticks": "",
         "zeroline": false
        }
       }
      },
      "text/html": [
       "<div id=\"85d0cec3-5304-4e29-a807-5d9cc0ed408b\" style=\"height: 140px; width: 100%;\" class=\"plotly-graph-div\"></div><script type=\"text/javascript\">require([\"plotly\"], function(Plotly) { window.PLOTLYENV=window.PLOTLYENV || {};window.PLOTLYENV.BASE_URL=\"https://plot.ly\";\n",
       "if (document.getElementById(\"85d0cec3-5304-4e29-a807-5d9cc0ed408b\")) {\n",
       "    Plotly.newPlot(\"85d0cec3-5304-4e29-a807-5d9cc0ed408b\", [{\"colorscale\": [[0, \"#00083e\"], [0.5, \"#ededee\"], [1, \"#ffffff\"]], \"hoverinfo\": \"none\", \"opacity\": 0.75, \"showscale\": false, \"z\": [[0, 0, 0], [0.5, 0.5, 0.5], [1, 1, 1]], \"type\": \"heatmap\", \"uid\": \"9b1b7393-ea53-433e-84e5-87ef661ba6f0\"}], {\"annotations\": [{\"align\": \"left\", \"font\": {\"color\": \"#ffffff\"}, \"showarrow\": false, \"text\": \"<b>n = 28111</b>\", \"x\": -0.45, \"xanchor\": \"left\", \"xref\": \"x\", \"y\": 0, \"yref\": \"y\"}, {\"align\": \"left\", \"font\": {\"color\": \"#ffffff\"}, \"showarrow\": false, \"text\": \"<b>predicted: +</b>\", \"x\": 0.55, \"xanchor\": \"left\", \"xref\": \"x\", \"y\": 0, \"yref\": \"y\"}, {\"align\": \"left\", \"font\": {\"color\": \"#ffffff\"}, \"showarrow\": false, \"text\": \"<b>predicted: -</b>\", \"x\": 1.55, \"xanchor\": \"left\", \"xref\": \"x\", \"y\": 0, \"yref\": \"y\"}, {\"align\": \"left\", \"font\": {\"color\": \"#000000\"}, \"showarrow\": false, \"text\": \"ground truth: +\", \"x\": -0.45, \"xanchor\": \"left\", \"xref\": \"x\", \"y\": 1, \"yref\": \"y\"}, {\"align\": \"left\", \"font\": {\"color\": \"#000000\"}, \"showarrow\": false, \"text\": \"19\", \"x\": 0.55, \"xanchor\": \"left\", \"xref\": \"x\", \"y\": 1, \"yref\": \"y\"}, {\"align\": \"left\", \"font\": {\"color\": \"#000000\"}, \"showarrow\": false, \"text\": \"6\", \"x\": 1.55, \"xanchor\": \"left\", \"xref\": \"x\", \"y\": 1, \"yref\": \"y\"}, {\"align\": \"left\", \"font\": {\"color\": \"#000000\"}, \"showarrow\": false, \"text\": \"ground truth: -\", \"x\": -0.45, \"xanchor\": \"left\", \"xref\": \"x\", \"y\": 2, \"yref\": \"y\"}, {\"align\": \"left\", \"font\": {\"color\": \"#000000\"}, \"showarrow\": false, \"text\": \"2125\", \"x\": 0.55, \"xanchor\": \"left\", \"xref\": \"x\", \"y\": 2, \"yref\": \"y\"}, {\"align\": \"left\", \"font\": {\"color\": \"#000000\"}, \"showarrow\": false, \"text\": \"25961\", \"x\": 1.55, \"xanchor\": \"left\", \"xref\": \"x\", \"y\": 2, \"yref\": \"y\"}], \"height\": 140, \"margin\": {\"b\": 0, \"l\": 0, \"r\": 0, \"t\": 0}, \"xaxis\": {\"dtick\": 1, \"gridwidth\": 2, \"showticklabels\": false, \"tick0\": -0.5, \"ticks\": \"\", \"zeroline\": false}, \"yaxis\": {\"autorange\": \"reversed\", \"dtick\": 1, \"gridwidth\": 2, \"showticklabels\": false, \"tick0\": 0.5, \"ticks\": \"\", \"zeroline\": false}}, {\"showLink\": false, \"linkText\": \"Export to plot.ly\", \"plotlyServerURL\": \"https://plot.ly\"}); \n",
       "}\n",
       "});</script><script type=\"text/javascript\">window.addEventListener(\"resize\", function(){if (document.getElementById(\"85d0cec3-5304-4e29-a807-5d9cc0ed408b\")) {window._Plotly.Plots.resize(document.getElementById(\"85d0cec3-5304-4e29-a807-5d9cc0ed408b\"));};})</script>"
      ],
      "text/vnd.plotly.v1+html": [
       "<div id=\"85d0cec3-5304-4e29-a807-5d9cc0ed408b\" style=\"height: 140px; width: 100%;\" class=\"plotly-graph-div\"></div><script type=\"text/javascript\">require([\"plotly\"], function(Plotly) { window.PLOTLYENV=window.PLOTLYENV || {};window.PLOTLYENV.BASE_URL=\"https://plot.ly\";\n",
       "if (document.getElementById(\"85d0cec3-5304-4e29-a807-5d9cc0ed408b\")) {\n",
       "    Plotly.newPlot(\"85d0cec3-5304-4e29-a807-5d9cc0ed408b\", [{\"colorscale\": [[0, \"#00083e\"], [0.5, \"#ededee\"], [1, \"#ffffff\"]], \"hoverinfo\": \"none\", \"opacity\": 0.75, \"showscale\": false, \"z\": [[0, 0, 0], [0.5, 0.5, 0.5], [1, 1, 1]], \"type\": \"heatmap\", \"uid\": \"9b1b7393-ea53-433e-84e5-87ef661ba6f0\"}], {\"annotations\": [{\"align\": \"left\", \"font\": {\"color\": \"#ffffff\"}, \"showarrow\": false, \"text\": \"<b>n = 28111</b>\", \"x\": -0.45, \"xanchor\": \"left\", \"xref\": \"x\", \"y\": 0, \"yref\": \"y\"}, {\"align\": \"left\", \"font\": {\"color\": \"#ffffff\"}, \"showarrow\": false, \"text\": \"<b>predicted: +</b>\", \"x\": 0.55, \"xanchor\": \"left\", \"xref\": \"x\", \"y\": 0, \"yref\": \"y\"}, {\"align\": \"left\", \"font\": {\"color\": \"#ffffff\"}, \"showarrow\": false, \"text\": \"<b>predicted: -</b>\", \"x\": 1.55, \"xanchor\": \"left\", \"xref\": \"x\", \"y\": 0, \"yref\": \"y\"}, {\"align\": \"left\", \"font\": {\"color\": \"#000000\"}, \"showarrow\": false, \"text\": \"ground truth: +\", \"x\": -0.45, \"xanchor\": \"left\", \"xref\": \"x\", \"y\": 1, \"yref\": \"y\"}, {\"align\": \"left\", \"font\": {\"color\": \"#000000\"}, \"showarrow\": false, \"text\": \"19\", \"x\": 0.55, \"xanchor\": \"left\", \"xref\": \"x\", \"y\": 1, \"yref\": \"y\"}, {\"align\": \"left\", \"font\": {\"color\": \"#000000\"}, \"showarrow\": false, \"text\": \"6\", \"x\": 1.55, \"xanchor\": \"left\", \"xref\": \"x\", \"y\": 1, \"yref\": \"y\"}, {\"align\": \"left\", \"font\": {\"color\": \"#000000\"}, \"showarrow\": false, \"text\": \"ground truth: -\", \"x\": -0.45, \"xanchor\": \"left\", \"xref\": \"x\", \"y\": 2, \"yref\": \"y\"}, {\"align\": \"left\", \"font\": {\"color\": \"#000000\"}, \"showarrow\": false, \"text\": \"2125\", \"x\": 0.55, \"xanchor\": \"left\", \"xref\": \"x\", \"y\": 2, \"yref\": \"y\"}, {\"align\": \"left\", \"font\": {\"color\": \"#000000\"}, \"showarrow\": false, \"text\": \"25961\", \"x\": 1.55, \"xanchor\": \"left\", \"xref\": \"x\", \"y\": 2, \"yref\": \"y\"}], \"height\": 140, \"margin\": {\"b\": 0, \"l\": 0, \"r\": 0, \"t\": 0}, \"xaxis\": {\"dtick\": 1, \"gridwidth\": 2, \"showticklabels\": false, \"tick0\": -0.5, \"ticks\": \"\", \"zeroline\": false}, \"yaxis\": {\"autorange\": \"reversed\", \"dtick\": 1, \"gridwidth\": 2, \"showticklabels\": false, \"tick0\": 0.5, \"ticks\": \"\", \"zeroline\": false}}, {\"showLink\": false, \"linkText\": \"Export to plot.ly\", \"plotlyServerURL\": \"https://plot.ly\"}); \n",
       "}\n",
       "});</script><script type=\"text/javascript\">window.addEventListener(\"resize\", function(){if (document.getElementById(\"85d0cec3-5304-4e29-a807-5d9cc0ed408b\")) {window._Plotly.Plots.resize(document.getElementById(\"85d0cec3-5304-4e29-a807-5d9cc0ed408b\"));};})</script>"
      ]
     },
     "metadata": {},
     "output_type": "display_data"
    }
   ],
   "source": [
    "import plotly.figure_factory as ff\n",
    "table = ff.create_table(cm)\n",
    "iplot(table)"
   ]
  },
  {
   "cell_type": "markdown",
   "metadata": {},
   "source": [
    "## How often are we accurate when aggregated to the device level?"
   ]
  },
  {
   "cell_type": "code",
   "execution_count": 26,
   "metadata": {},
   "outputs": [
    {
     "name": "stdout",
     "output_type": "stream",
     "text": [
      "y_test:  28111\n",
      "predictions:  28111\n",
      "combined:  28111\n"
     ]
    }
   ],
   "source": [
    "y1_test=y1_test.reset_index(drop=True) # for the concat to work correctly, must have a clean index.\n",
    "preds_df=pd.DataFrame(predictions, columns=['preds'])\n",
    "combined_testdf=pd.concat([y1_test, preds_df], axis=1)\n",
    "\n",
    "print('y_test: ', len(y1_test))\n",
    "print('predictions: ', len(preds_df))\n",
    "print('combined: ', len(combined_testdf))"
   ]
  },
  {
   "cell_type": "code",
   "execution_count": 27,
   "metadata": {},
   "outputs": [
    {
     "data": {
      "text/html": [
       "<div>\n",
       "<style scoped>\n",
       "    .dataframe tbody tr th:only-of-type {\n",
       "        vertical-align: middle;\n",
       "    }\n",
       "\n",
       "    .dataframe tbody tr th {\n",
       "        vertical-align: top;\n",
       "    }\n",
       "\n",
       "    .dataframe thead th {\n",
       "        text-align: right;\n",
       "    }\n",
       "</style>\n",
       "<table border=\"1\" class=\"dataframe\">\n",
       "  <thead>\n",
       "    <tr style=\"text-align: right;\">\n",
       "      <th></th>\n",
       "      <th>device</th>\n",
       "      <th>failure</th>\n",
       "      <th>preds</th>\n",
       "    </tr>\n",
       "  </thead>\n",
       "  <tbody>\n",
       "    <tr>\n",
       "      <th>0</th>\n",
       "      <td>S1F0S68M</td>\n",
       "      <td>0</td>\n",
       "      <td>1</td>\n",
       "    </tr>\n",
       "    <tr>\n",
       "      <th>1</th>\n",
       "      <td>Z1F1R76A</td>\n",
       "      <td>0</td>\n",
       "      <td>1</td>\n",
       "    </tr>\n",
       "    <tr>\n",
       "      <th>2</th>\n",
       "      <td>W1F16RA7</td>\n",
       "      <td>0</td>\n",
       "      <td>1</td>\n",
       "    </tr>\n",
       "    <tr>\n",
       "      <th>3</th>\n",
       "      <td>S1F131F6</td>\n",
       "      <td>0</td>\n",
       "      <td>1</td>\n",
       "    </tr>\n",
       "    <tr>\n",
       "      <th>4</th>\n",
       "      <td>W1F14GTK</td>\n",
       "      <td>0</td>\n",
       "      <td>1</td>\n",
       "    </tr>\n",
       "  </tbody>\n",
       "</table>\n",
       "</div>"
      ],
      "text/plain": [
       "     device  failure  preds\n",
       "0  S1F0S68M        0      1\n",
       "1  Z1F1R76A        0      1\n",
       "2  W1F16RA7        0      1\n",
       "3  S1F131F6        0      1\n",
       "4  W1F14GTK        0      1"
      ]
     },
     "execution_count": 27,
     "metadata": {},
     "output_type": "execute_result"
    }
   ],
   "source": [
    "combined_testdf.head()"
   ]
  },
  {
   "cell_type": "code",
   "execution_count": 28,
   "metadata": {},
   "outputs": [
    {
     "name": "stdout",
     "output_type": "stream",
     "text": [
      "(676, 3)\n"
     ]
    },
    {
     "data": {
      "text/html": [
       "<div>\n",
       "<style scoped>\n",
       "    .dataframe tbody tr th:only-of-type {\n",
       "        vertical-align: middle;\n",
       "    }\n",
       "\n",
       "    .dataframe tbody tr th {\n",
       "        vertical-align: top;\n",
       "    }\n",
       "\n",
       "    .dataframe thead th {\n",
       "        text-align: right;\n",
       "    }\n",
       "</style>\n",
       "<table border=\"1\" class=\"dataframe\">\n",
       "  <thead>\n",
       "    <tr style=\"text-align: right;\">\n",
       "      <th></th>\n",
       "      <th>device</th>\n",
       "      <th>failure</th>\n",
       "      <th>preds</th>\n",
       "    </tr>\n",
       "  </thead>\n",
       "  <tbody>\n",
       "    <tr>\n",
       "      <th>0</th>\n",
       "      <td>S1F01E6Y</td>\n",
       "      <td>0.000000</td>\n",
       "      <td>1.000000</td>\n",
       "    </tr>\n",
       "    <tr>\n",
       "      <th>1</th>\n",
       "      <td>S1F01XDJ</td>\n",
       "      <td>0.000000</td>\n",
       "      <td>1.000000</td>\n",
       "    </tr>\n",
       "    <tr>\n",
       "      <th>2</th>\n",
       "      <td>S1F023H2</td>\n",
       "      <td>0.166667</td>\n",
       "      <td>0.166667</td>\n",
       "    </tr>\n",
       "    <tr>\n",
       "      <th>3</th>\n",
       "      <td>S1F02L38</td>\n",
       "      <td>0.000000</td>\n",
       "      <td>1.000000</td>\n",
       "    </tr>\n",
       "    <tr>\n",
       "      <th>4</th>\n",
       "      <td>S1F03YZM</td>\n",
       "      <td>0.012821</td>\n",
       "      <td>0.666667</td>\n",
       "    </tr>\n",
       "  </tbody>\n",
       "</table>\n",
       "</div>"
      ],
      "text/plain": [
       "     device   failure     preds\n",
       "0  S1F01E6Y  0.000000  1.000000\n",
       "1  S1F01XDJ  0.000000  1.000000\n",
       "2  S1F023H2  0.166667  0.166667\n",
       "3  S1F02L38  0.000000  1.000000\n",
       "4  S1F03YZM  0.012821  0.666667"
      ]
     },
     "execution_count": 28,
     "metadata": {},
     "output_type": "execute_result"
    }
   ],
   "source": [
    "aggdf=combined_testdf.groupby('device')[['device', 'failure', 'preds']].mean().reset_index(drop=False)\n",
    "print(aggdf.shape)\n",
    "aggdf.head()"
   ]
  },
  {
   "cell_type": "code",
   "execution_count": 29,
   "metadata": {},
   "outputs": [
    {
     "data": {
      "text/plain": [
       "0    651\n",
       "1     25\n",
       "Name: failed, dtype: int64"
      ]
     },
     "execution_count": 29,
     "metadata": {},
     "output_type": "execute_result"
    }
   ],
   "source": [
    "aggdf['failed']=0\n",
    "aggdf.loc[aggdf['failure']>0, 'failed']=1\n",
    "aggdf['failed'].value_counts()"
   ]
  },
  {
   "cell_type": "code",
   "execution_count": 30,
   "metadata": {},
   "outputs": [
    {
     "data": {
      "text/plain": [
       "1    661\n",
       "0     15\n",
       "Name: pred_failed, dtype: int64"
      ]
     },
     "execution_count": 30,
     "metadata": {},
     "output_type": "execute_result"
    }
   ],
   "source": [
    "aggdf['pred_failed']=0\n",
    "aggdf.loc[aggdf['preds']>0, 'pred_failed']=1\n",
    "aggdf['pred_failed'].value_counts()"
   ]
  },
  {
   "cell_type": "code",
   "execution_count": 31,
   "metadata": {},
   "outputs": [
    {
     "data": {
      "text/html": [
       "<div>\n",
       "<style scoped>\n",
       "    .dataframe tbody tr th:only-of-type {\n",
       "        vertical-align: middle;\n",
       "    }\n",
       "\n",
       "    .dataframe tbody tr th {\n",
       "        vertical-align: top;\n",
       "    }\n",
       "\n",
       "    .dataframe thead th {\n",
       "        text-align: right;\n",
       "    }\n",
       "</style>\n",
       "<table border=\"1\" class=\"dataframe\">\n",
       "  <thead>\n",
       "    <tr style=\"text-align: right;\">\n",
       "      <th>pred_failed</th>\n",
       "      <th>0</th>\n",
       "      <th>1</th>\n",
       "      <th>All</th>\n",
       "    </tr>\n",
       "    <tr>\n",
       "      <th>failed</th>\n",
       "      <th></th>\n",
       "      <th></th>\n",
       "      <th></th>\n",
       "    </tr>\n",
       "  </thead>\n",
       "  <tbody>\n",
       "    <tr>\n",
       "      <th>0</th>\n",
       "      <td>13</td>\n",
       "      <td>638</td>\n",
       "      <td>651</td>\n",
       "    </tr>\n",
       "    <tr>\n",
       "      <th>1</th>\n",
       "      <td>2</td>\n",
       "      <td>23</td>\n",
       "      <td>25</td>\n",
       "    </tr>\n",
       "    <tr>\n",
       "      <th>All</th>\n",
       "      <td>15</td>\n",
       "      <td>661</td>\n",
       "      <td>676</td>\n",
       "    </tr>\n",
       "  </tbody>\n",
       "</table>\n",
       "</div>"
      ],
      "text/plain": [
       "pred_failed   0    1  All\n",
       "failed                   \n",
       "0            13  638  651\n",
       "1             2   23   25\n",
       "All          15  661  676"
      ]
     },
     "execution_count": 31,
     "metadata": {},
     "output_type": "execute_result"
    }
   ],
   "source": [
    "# Confusion Matrix (device level)\n",
    "pd.crosstab(aggdf['failed'], aggdf['pred_failed'],  margins=True)"
   ]
  },
  {
   "cell_type": "code",
   "execution_count": null,
   "metadata": {},
   "outputs": [],
   "source": []
  }
 ],
 "metadata": {
  "kernelspec": {
   "display_name": "Python 3",
   "language": "python",
   "name": "python3"
  },
  "language_info": {
   "codemirror_mode": {
    "name": "ipython",
    "version": 3
   },
   "file_extension": ".py",
   "mimetype": "text/x-python",
   "name": "python",
   "nbconvert_exporter": "python",
   "pygments_lexer": "ipython3",
   "version": "3.6.8"
  }
 },
 "nbformat": 4,
 "nbformat_minor": 2
}
