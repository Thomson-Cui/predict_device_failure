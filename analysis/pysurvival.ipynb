{
 "cells": [
  {
   "cell_type": "markdown",
   "metadata": {},
   "source": [
    "# Data cleaning"
   ]
  },
  {
   "cell_type": "code",
   "execution_count": 3,
   "metadata": {},
   "outputs": [
    {
     "name": "stdout",
     "output_type": "stream",
     "text": [
      "Collecting pysurvival\n",
      "  Using cached pysurvival-0.1.2-cp36-cp36m-linux_x86_64.whl\n",
      "Requirement already satisfied: pandas in /home/ec2-user/anaconda3/envs/python3/lib/python3.6/site-packages (from pysurvival) (1.1.5)\n",
      "Requirement already satisfied: scikit-learn in /home/ec2-user/anaconda3/envs/python3/lib/python3.6/site-packages (from pysurvival) (0.24.1)\n",
      "Requirement already satisfied: matplotlib in /home/ec2-user/anaconda3/envs/python3/lib/python3.6/site-packages (from pysurvival) (3.3.4)\n",
      "Requirement already satisfied: pyarrow in /home/ec2-user/anaconda3/envs/python3/lib/python3.6/site-packages (from pysurvival) (4.0.1)\n",
      "Requirement already satisfied: scipy in /home/ec2-user/anaconda3/envs/python3/lib/python3.6/site-packages (from pysurvival) (1.5.3)\n",
      "Requirement already satisfied: numpy in /home/ec2-user/anaconda3/envs/python3/lib/python3.6/site-packages (from pysurvival) (1.19.5)\n",
      "Collecting progressbar\n",
      "  Using cached progressbar-2.5-py3-none-any.whl\n",
      "Collecting torch\n",
      "  Using cached torch-1.9.0-cp36-cp36m-manylinux1_x86_64.whl (831.4 MB)\n",
      "Requirement already satisfied: sklearn in /home/ec2-user/anaconda3/envs/python3/lib/python3.6/site-packages (from pysurvival) (0.0)\n",
      "Requirement already satisfied: pip in /home/ec2-user/anaconda3/envs/python3/lib/python3.6/site-packages (from pysurvival) (21.1.2)\n",
      "Requirement already satisfied: kiwisolver>=1.0.1 in /home/ec2-user/anaconda3/envs/python3/lib/python3.6/site-packages (from matplotlib->pysurvival) (1.3.1)\n",
      "Requirement already satisfied: pillow>=6.2.0 in /home/ec2-user/anaconda3/envs/python3/lib/python3.6/site-packages (from matplotlib->pysurvival) (8.2.0)\n",
      "Requirement already satisfied: cycler>=0.10 in /home/ec2-user/anaconda3/envs/python3/lib/python3.6/site-packages (from matplotlib->pysurvival) (0.10.0)\n",
      "Requirement already satisfied: python-dateutil>=2.1 in /home/ec2-user/anaconda3/envs/python3/lib/python3.6/site-packages (from matplotlib->pysurvival) (2.8.1)\n",
      "Requirement already satisfied: pyparsing!=2.0.4,!=2.1.2,!=2.1.6,>=2.0.3 in /home/ec2-user/anaconda3/envs/python3/lib/python3.6/site-packages (from matplotlib->pysurvival) (2.4.7)\n",
      "Requirement already satisfied: six in /home/ec2-user/anaconda3/envs/python3/lib/python3.6/site-packages (from cycler>=0.10->matplotlib->pysurvival) (1.15.0)\n",
      "Requirement already satisfied: pytz>=2017.2 in /home/ec2-user/anaconda3/envs/python3/lib/python3.6/site-packages (from pandas->pysurvival) (2021.1)\n",
      "Requirement already satisfied: joblib>=0.11 in /home/ec2-user/anaconda3/envs/python3/lib/python3.6/site-packages (from scikit-learn->pysurvival) (1.0.1)\n",
      "Requirement already satisfied: threadpoolctl>=2.0.0 in /home/ec2-user/anaconda3/envs/python3/lib/python3.6/site-packages (from scikit-learn->pysurvival) (2.1.0)\n",
      "Requirement already satisfied: typing-extensions in /home/ec2-user/anaconda3/envs/python3/lib/python3.6/site-packages (from torch->pysurvival) (3.7.4.3)\n",
      "Requirement already satisfied: dataclasses in /home/ec2-user/anaconda3/envs/python3/lib/python3.6/site-packages (from torch->pysurvival) (0.8)\n",
      "Installing collected packages: torch, progressbar, pysurvival\n",
      "Successfully installed progressbar-2.5 pysurvival-0.1.2 torch-1.9.0\n",
      "\u001b[33mWARNING: You are using pip version 21.1.2; however, version 21.1.3 is available.\n",
      "You should consider upgrading via the '/home/ec2-user/anaconda3/envs/python3/bin/python -m pip install --upgrade pip' command.\u001b[0m\n"
     ]
    }
   ],
   "source": [
    "! pip install pysurvival\n",
    "# ! pip install scikit-survival"
   ]
  },
  {
   "cell_type": "code",
   "execution_count": 4,
   "metadata": {},
   "outputs": [],
   "source": [
    "import pandas as pd\n",
    "import numpy as np\n",
    "import matplotlib.pyplot as plt\n",
    "from sklearn.model_selection import train_test_split\n",
    "# from sksurv.metrics import concordance_index_censored\n",
    "# from sksurv.linear_model import CoxPHSurvivalAnalysis"
   ]
  },
  {
   "cell_type": "markdown",
   "metadata": {},
   "source": [
    "# Part 1. Exploratory Analysis and Feature Engineering"
   ]
  },
  {
   "cell_type": "markdown",
   "metadata": {},
   "source": [
    "### Basic descriptives"
   ]
  },
  {
   "cell_type": "code",
   "execution_count": 5,
   "metadata": {},
   "outputs": [
    {
     "name": "stdout",
     "output_type": "stream",
     "text": [
      "(124494, 12)\n"
     ]
    }
   ],
   "source": [
    "df=pd.read_csv('http://aws-proserve-data-science.s3.amazonaws.com/predictive_maintenance.csv')\n",
    "print(df.shape)"
   ]
  },
  {
   "cell_type": "code",
   "execution_count": 6,
   "metadata": {},
   "outputs": [
    {
     "data": {
      "text/html": [
       "<div>\n",
       "<style scoped>\n",
       "    .dataframe tbody tr th:only-of-type {\n",
       "        vertical-align: middle;\n",
       "    }\n",
       "\n",
       "    .dataframe tbody tr th {\n",
       "        vertical-align: top;\n",
       "    }\n",
       "\n",
       "    .dataframe thead th {\n",
       "        text-align: right;\n",
       "    }\n",
       "</style>\n",
       "<table border=\"1\" class=\"dataframe\">\n",
       "  <thead>\n",
       "    <tr style=\"text-align: right;\">\n",
       "      <th></th>\n",
       "      <th>0</th>\n",
       "      <th>1</th>\n",
       "    </tr>\n",
       "  </thead>\n",
       "  <tbody>\n",
       "    <tr>\n",
       "      <th>date</th>\n",
       "      <td>1/1/15</td>\n",
       "      <td>1/1/15</td>\n",
       "    </tr>\n",
       "    <tr>\n",
       "      <th>device</th>\n",
       "      <td>S1F01085</td>\n",
       "      <td>S1F0166B</td>\n",
       "    </tr>\n",
       "    <tr>\n",
       "      <th>failure</th>\n",
       "      <td>0</td>\n",
       "      <td>0</td>\n",
       "    </tr>\n",
       "    <tr>\n",
       "      <th>metric1</th>\n",
       "      <td>215630672</td>\n",
       "      <td>61370680</td>\n",
       "    </tr>\n",
       "    <tr>\n",
       "      <th>metric2</th>\n",
       "      <td>56</td>\n",
       "      <td>0</td>\n",
       "    </tr>\n",
       "    <tr>\n",
       "      <th>metric3</th>\n",
       "      <td>0</td>\n",
       "      <td>3</td>\n",
       "    </tr>\n",
       "    <tr>\n",
       "      <th>metric4</th>\n",
       "      <td>52</td>\n",
       "      <td>0</td>\n",
       "    </tr>\n",
       "    <tr>\n",
       "      <th>metric5</th>\n",
       "      <td>6</td>\n",
       "      <td>6</td>\n",
       "    </tr>\n",
       "    <tr>\n",
       "      <th>metric6</th>\n",
       "      <td>407438</td>\n",
       "      <td>403174</td>\n",
       "    </tr>\n",
       "    <tr>\n",
       "      <th>metric7</th>\n",
       "      <td>0</td>\n",
       "      <td>0</td>\n",
       "    </tr>\n",
       "    <tr>\n",
       "      <th>metric8</th>\n",
       "      <td>0</td>\n",
       "      <td>0</td>\n",
       "    </tr>\n",
       "    <tr>\n",
       "      <th>metric9</th>\n",
       "      <td>7</td>\n",
       "      <td>0</td>\n",
       "    </tr>\n",
       "  </tbody>\n",
       "</table>\n",
       "</div>"
      ],
      "text/plain": [
       "                 0         1\n",
       "date        1/1/15    1/1/15\n",
       "device    S1F01085  S1F0166B\n",
       "failure          0         0\n",
       "metric1  215630672  61370680\n",
       "metric2         56         0\n",
       "metric3          0         3\n",
       "metric4         52         0\n",
       "metric5          6         6\n",
       "metric6     407438    403174\n",
       "metric7          0         0\n",
       "metric8          0         0\n",
       "metric9          7         0"
      ]
     },
     "execution_count": 6,
     "metadata": {},
     "output_type": "execute_result"
    }
   ],
   "source": [
    "# first few rows\n",
    "df.head(2).T"
   ]
  },
  {
   "cell_type": "code",
   "execution_count": 8,
   "metadata": {},
   "outputs": [
    {
     "data": {
      "text/plain": [
       "date       object\n",
       "device     object\n",
       "failure     int64\n",
       "metric1     int64\n",
       "metric2     int64\n",
       "metric3     int64\n",
       "metric4     int64\n",
       "metric5     int64\n",
       "metric6     int64\n",
       "metric7     int64\n",
       "metric8     int64\n",
       "metric9     int64\n",
       "dtype: object"
      ]
     },
     "execution_count": 8,
     "metadata": {},
     "output_type": "execute_result"
    }
   ],
   "source": [
    "# except for the first two columns, all metrics are integers.\n",
    "df.dtypes"
   ]
  },
  {
   "cell_type": "markdown",
   "metadata": {},
   "source": [
    "### Hypotheses about the data:\n",
    "\n",
    "* one reading every day, per device\n",
    "* no more than one reading per day, per device\n",
    "* most devices start on the same day (Jan 1st)\n",
    "* there are no devices with two failure records (each device can only fail once)\n",
    "* once a failure happens, device is removed from service\n",
    "* some models never fail during the observation period (censoring)"
   ]
  },
  {
   "cell_type": "markdown",
   "metadata": {},
   "source": [
    "### Data cleaning"
   ]
  },
  {
   "cell_type": "code",
   "execution_count": 9,
   "metadata": {},
   "outputs": [
    {
     "data": {
      "text/plain": [
       "date       0\n",
       "device     0\n",
       "failure    0\n",
       "metric1    0\n",
       "metric2    0\n",
       "metric3    0\n",
       "metric4    0\n",
       "metric5    0\n",
       "metric6    0\n",
       "metric7    0\n",
       "metric8    0\n",
       "metric9    0\n",
       "dtype: int64"
      ]
     },
     "execution_count": 9,
     "metadata": {},
     "output_type": "execute_result"
    }
   ],
   "source": [
    "# There is no obvious missing data in any variable.\n",
    "df.isnull().sum()"
   ]
  },
  {
   "cell_type": "code",
   "execution_count": 10,
   "metadata": {},
   "outputs": [
    {
     "name": "stdout",
     "output_type": "stream",
     "text": [
      "correlation: 1.0\n",
      "Are there any rows where 7!=8? False\n",
      "(124494, 11)\n"
     ]
    }
   ],
   "source": [
    "# metrics 7 and 8 are identical. Drop one of them.\n",
    "print('correlation:', df['metric7'].corr(df['metric8']))\n",
    "print ('Are there any rows where 7!=8?', False in list(df['metric7']==df['metric8']))\n",
    "df=df.drop('metric8', axis=1)\n",
    "print(df.shape)"
   ]
  },
  {
   "cell_type": "code",
   "execution_count": 11,
   "metadata": {},
   "outputs": [
    {
     "name": "stdout",
     "output_type": "stream",
     "text": [
      "How many devices have 2 measurements in one day? 1\n",
      "          device     date\n",
      "101335  S1F0R4Q8  7/10/15\n"
     ]
    },
    {
     "data": {
      "text/html": [
       "<div>\n",
       "<style scoped>\n",
       "    .dataframe tbody tr th:only-of-type {\n",
       "        vertical-align: middle;\n",
       "    }\n",
       "\n",
       "    .dataframe tbody tr th {\n",
       "        vertical-align: top;\n",
       "    }\n",
       "\n",
       "    .dataframe thead th {\n",
       "        text-align: right;\n",
       "    }\n",
       "</style>\n",
       "<table border=\"1\" class=\"dataframe\">\n",
       "  <thead>\n",
       "    <tr style=\"text-align: right;\">\n",
       "      <th></th>\n",
       "      <th>date</th>\n",
       "      <th>device</th>\n",
       "      <th>failure</th>\n",
       "      <th>metric1</th>\n",
       "      <th>metric2</th>\n",
       "      <th>metric3</th>\n",
       "      <th>metric4</th>\n",
       "      <th>metric5</th>\n",
       "      <th>metric6</th>\n",
       "      <th>metric7</th>\n",
       "      <th>metric9</th>\n",
       "    </tr>\n",
       "  </thead>\n",
       "  <tbody>\n",
       "  </tbody>\n",
       "</table>\n",
       "</div>"
      ],
      "text/plain": [
       "Empty DataFrame\n",
       "Columns: [date, device, failure, metric1, metric2, metric3, metric4, metric5, metric6, metric7, metric9]\n",
       "Index: []"
      ]
     },
     "execution_count": 11,
     "metadata": {},
     "output_type": "execute_result"
    }
   ],
   "source": [
    "# There is only one instance of a duplicated device-date pair.\n",
    "print('How many devices have 2 measurements in one day?', df[['device', 'date']].duplicated().sum())\n",
    "# what is that row?\n",
    "print(df[df[['device', 'date']].duplicated()==True][['device', 'date']])\n",
    "df.loc[(df['device']=='S1F0R4Q8') & (df['date']=='2015-07-10')]"
   ]
  },
  {
   "cell_type": "code",
   "execution_count": 12,
   "metadata": {},
   "outputs": [
    {
     "data": {
      "text/plain": [
       "(124493, 11)"
      ]
     },
     "execution_count": 12,
     "metadata": {},
     "output_type": "execute_result"
    }
   ],
   "source": [
    "# we should remove one of these duplicate rows.\n",
    "df=df.drop(df.index[101335], axis=0)\n",
    "df.reset_index(drop=True)\n",
    "df.shape"
   ]
  },
  {
   "cell_type": "code",
   "execution_count": 13,
   "metadata": {},
   "outputs": [
    {
     "name": "stdout",
     "output_type": "stream",
     "text": [
      "object\n"
     ]
    },
    {
     "data": {
      "text/plain": [
       "dtype('<M8[ns]')"
      ]
     },
     "execution_count": 13,
     "metadata": {},
     "output_type": "execute_result"
    }
   ],
   "source": [
    "# The dates are coded as strings. Replace this.\n",
    "print(df['date'].dtype)\n",
    "df['date']=pd.to_datetime(df['date'],infer_datetime_format=True)\n",
    "df['date'].dtype"
   ]
  },
  {
   "cell_type": "code",
   "execution_count": 14,
   "metadata": {},
   "outputs": [],
   "source": [
    "# metric 1 appears to be an entirely random signal. remove it.\n",
    "df['metric1'].describe()\n",
    "df=df.drop('metric1', axis=1)"
   ]
  },
  {
   "cell_type": "code",
   "execution_count": 15,
   "metadata": {},
   "outputs": [
    {
     "name": "stdout",
     "output_type": "stream",
     "text": [
      "metric2: 0.95\n",
      "metric3: 0.93\n",
      "metric4: 0.92\n",
      "metric7: 0.99\n"
     ]
    }
   ],
   "source": [
    "# what percentage of each is a zero? very high.\n",
    "def lotsa_zeroes(col):\n",
    "    numerator=len(df.loc[df[col]==0])\n",
    "    denominator=len(df[col])\n",
    "    print(col+':', round(numerator/denominator, 2))\n",
    "for i in [2, 3,4,7]:\n",
    "    lotsa_zeroes('metric'+str(i))"
   ]
  },
  {
   "cell_type": "markdown",
   "metadata": {},
   "source": [
    "### Censoring\n",
    "What is censoring? One of the challenges specific to survival analysis is that only some individuals will have experienced the event by the end of the study, and therefore survival times will be unknown for a subset of the study group. This phenomenon is called censoring"
   ]
  },
  {
   "cell_type": "code",
   "execution_count": 16,
   "metadata": {},
   "outputs": [
    {
     "data": {
      "text/plain": [
       "1169"
      ]
     },
     "execution_count": 16,
     "metadata": {},
     "output_type": "execute_result"
    }
   ],
   "source": [
    "# How many unique devices are there?\n",
    "df['device'].nunique()"
   ]
  },
  {
   "cell_type": "code",
   "execution_count": 17,
   "metadata": {},
   "outputs": [
    {
     "data": {
      "text/plain": [
       "0    1063\n",
       "1     106\n",
       "Name: failure, dtype: int64"
      ]
     },
     "execution_count": 17,
     "metadata": {},
     "output_type": "execute_result"
    }
   ],
   "source": [
    "# Do all of them experience failure? Most do not.\n",
    "df.groupby('device').max()['failure'].value_counts()"
   ]
  },
  {
   "cell_type": "code",
   "execution_count": 18,
   "metadata": {},
   "outputs": [
    {
     "data": {
      "text/plain": [
       "0    1063\n",
       "1     106\n",
       "Name: failure, dtype: int64"
      ]
     },
     "execution_count": 18,
     "metadata": {},
     "output_type": "execute_result"
    }
   ],
   "source": [
    "# Do any fail multiple times? No.\n",
    "df.groupby('device').sum()['failure'].value_counts()"
   ]
  },
  {
   "cell_type": "markdown",
   "metadata": {},
   "source": [
    "For the most part, when a device fails it is removed. A few devices (5) continue after they're dead."
   ]
  },
  {
   "cell_type": "code",
   "execution_count": 19,
   "metadata": {},
   "outputs": [],
   "source": [
    "# confirm that there are no devices with two failure records (each device only fails once)\n",
    "dffailed=df.loc[df['failure']==1]\n",
    "assert dffailed['device'].nunique()==dffailed.shape[0]"
   ]
  },
  {
   "cell_type": "code",
   "execution_count": 20,
   "metadata": {},
   "outputs": [],
   "source": [
    "# restrict to the date on which a device failed.\n",
    "deaddevice=df[df['failure']==1][['device','date']]"
   ]
  },
  {
   "cell_type": "code",
   "execution_count": 21,
   "metadata": {},
   "outputs": [
    {
     "data": {
      "text/plain": [
       "(124493, 11)"
      ]
     },
     "execution_count": 21,
     "metadata": {},
     "output_type": "execute_result"
    }
   ],
   "source": [
    "# merge the deathdates back into the regular dataset.\n",
    "deaddevice = deaddevice.rename(columns={'date': 'deathdate'})\n",
    "df=pd.merge(df, deaddevice, on='device', how='outer')\n",
    "df.shape"
   ]
  },
  {
   "cell_type": "code",
   "execution_count": 22,
   "metadata": {},
   "outputs": [
    {
     "data": {
      "text/html": [
       "<div>\n",
       "<style scoped>\n",
       "    .dataframe tbody tr th:only-of-type {\n",
       "        vertical-align: middle;\n",
       "    }\n",
       "\n",
       "    .dataframe tbody tr th {\n",
       "        vertical-align: top;\n",
       "    }\n",
       "\n",
       "    .dataframe thead th {\n",
       "        text-align: right;\n",
       "    }\n",
       "</style>\n",
       "<table border=\"1\" class=\"dataframe\">\n",
       "  <thead>\n",
       "    <tr style=\"text-align: right;\">\n",
       "      <th></th>\n",
       "      <th>device</th>\n",
       "      <th>maxdate</th>\n",
       "      <th>deathdate</th>\n",
       "    </tr>\n",
       "  </thead>\n",
       "  <tbody>\n",
       "    <tr>\n",
       "      <th>101</th>\n",
       "      <td>S1F0GPFZ</td>\n",
       "      <td>2015-07-24</td>\n",
       "      <td>2015-07-12</td>\n",
       "    </tr>\n",
       "    <tr>\n",
       "      <th>504</th>\n",
       "      <td>S1F136J0</td>\n",
       "      <td>2015-05-06</td>\n",
       "      <td>2015-05-05</td>\n",
       "    </tr>\n",
       "    <tr>\n",
       "      <th>599</th>\n",
       "      <td>W1F0KCP2</td>\n",
       "      <td>2015-05-11</td>\n",
       "      <td>2015-05-09</td>\n",
       "    </tr>\n",
       "    <tr>\n",
       "      <th>625</th>\n",
       "      <td>W1F0M35B</td>\n",
       "      <td>2015-05-11</td>\n",
       "      <td>2015-05-09</td>\n",
       "    </tr>\n",
       "    <tr>\n",
       "      <th>819</th>\n",
       "      <td>W1F11ZG9</td>\n",
       "      <td>2015-08-17</td>\n",
       "      <td>2015-07-18</td>\n",
       "    </tr>\n",
       "  </tbody>\n",
       "</table>\n",
       "</div>"
      ],
      "text/plain": [
       "       device    maxdate  deathdate\n",
       "101  S1F0GPFZ 2015-07-24 2015-07-12\n",
       "504  S1F136J0 2015-05-06 2015-05-05\n",
       "599  W1F0KCP2 2015-05-11 2015-05-09\n",
       "625  W1F0M35B 2015-05-11 2015-05-09\n",
       "819  W1F11ZG9 2015-08-17 2015-07-18"
      ]
     },
     "execution_count": 22,
     "metadata": {},
     "output_type": "execute_result"
    }
   ],
   "source": [
    "# confirm that, for failed devices, there are no entries later than the failure date.\n",
    "devices=df.groupby('device').max().reset_index(drop=False)\n",
    "dead_devices=devices.loc[devices['failure']==1]\n",
    "dead_devices=dead_devices.rename(columns={'date': 'maxdate'})\n",
    "dead_devices=dead_devices[['device', 'maxdate', 'deathdate']]\n",
    "dead_devices.loc[dead_devices['maxdate']!=dead_devices['deathdate']]"
   ]
  },
  {
   "cell_type": "code",
   "execution_count": 23,
   "metadata": {},
   "outputs": [
    {
     "name": "stdout",
     "output_type": "stream",
     "text": [
      "Number of rows removed: 47\n",
      "124493\n",
      "124446\n"
     ]
    }
   ],
   "source": [
    "# For those 5 devices, remove any dates that occur after the failure.\n",
    "zombies=dead_devices.loc[dead_devices['maxdate']!=dead_devices['deathdate']]['device']\n",
    "print('Number of rows removed:', df.loc[(df['device'].isin(zombies)) & (df['date']>df['deathdate'])].shape[0])\n",
    "print(df.shape[0])\n",
    "df=df.loc[~((df['device'].isin(zombies)) & (df['date']>df['deathdate']))]\n",
    "print(df.shape[0])\n",
    "df=df.drop(['deathdate'], axis=1)"
   ]
  },
  {
   "cell_type": "markdown",
   "metadata": {},
   "source": [
    "## Feature engineering by device ID"
   ]
  },
  {
   "cell_type": "code",
   "execution_count": 24,
   "metadata": {},
   "outputs": [
    {
     "name": "stdout",
     "output_type": "stream",
     "text": [
      "2015-01-01 00:00:00\n"
     ]
    },
    {
     "name": "stderr",
     "output_type": "stream",
     "text": [
      "/home/ec2-user/anaconda3/envs/python3/lib/python3.6/site-packages/ipykernel/__main__.py:4: FutureWarning: Indexing with multiple keys (implicitly converted to a tuple of keys) will be deprecated, use a list instead.\n"
     ]
    },
    {
     "data": {
      "text/plain": [
       "2015-01-01    1163\n",
       "2015-05-06       4\n",
       "2015-01-27       1\n",
       "2015-06-13       1\n",
       "Name: date, dtype: int64"
      ]
     },
     "execution_count": 24,
     "metadata": {},
     "output_type": "execute_result"
    }
   ],
   "source": [
    "# What's the first date in the series?\n",
    "print(df['date'].min())\n",
    "# Do all devices start on this same date? No.\n",
    "bydevice=df.groupby('device')['date', 'failure'].min().reset_index(drop=False)\n",
    "bydevice['date'].value_counts()"
   ]
  },
  {
   "cell_type": "code",
   "execution_count": 25,
   "metadata": {},
   "outputs": [
    {
     "data": {
      "text/html": [
       "<div>\n",
       "<style scoped>\n",
       "    .dataframe tbody tr th:only-of-type {\n",
       "        vertical-align: middle;\n",
       "    }\n",
       "\n",
       "    .dataframe tbody tr th {\n",
       "        vertical-align: top;\n",
       "    }\n",
       "\n",
       "    .dataframe thead th {\n",
       "        text-align: right;\n",
       "    }\n",
       "</style>\n",
       "<table border=\"1\" class=\"dataframe\">\n",
       "  <thead>\n",
       "    <tr style=\"text-align: right;\">\n",
       "      <th></th>\n",
       "      <th>device</th>\n",
       "      <th>date</th>\n",
       "      <th>failure</th>\n",
       "      <th>metric2</th>\n",
       "      <th>metric3</th>\n",
       "      <th>metric4</th>\n",
       "      <th>metric5</th>\n",
       "      <th>metric6</th>\n",
       "      <th>metric7</th>\n",
       "      <th>metric9</th>\n",
       "    </tr>\n",
       "  </thead>\n",
       "  <tbody>\n",
       "    <tr>\n",
       "      <th>0</th>\n",
       "      <td>S1F01085</td>\n",
       "      <td>2015-01-01</td>\n",
       "      <td>0</td>\n",
       "      <td>56</td>\n",
       "      <td>0</td>\n",
       "      <td>52</td>\n",
       "      <td>6</td>\n",
       "      <td>407438</td>\n",
       "      <td>0</td>\n",
       "      <td>7</td>\n",
       "    </tr>\n",
       "    <tr>\n",
       "      <th>1</th>\n",
       "      <td>S1F013BB</td>\n",
       "      <td>2015-05-06</td>\n",
       "      <td>0</td>\n",
       "      <td>0</td>\n",
       "      <td>0</td>\n",
       "      <td>0</td>\n",
       "      <td>5</td>\n",
       "      <td>688952</td>\n",
       "      <td>0</td>\n",
       "      <td>0</td>\n",
       "    </tr>\n",
       "  </tbody>\n",
       "</table>\n",
       "</div>"
      ],
      "text/plain": [
       "     device       date  failure  metric2  metric3  metric4  metric5  metric6  \\\n",
       "0  S1F01085 2015-01-01        0       56        0       52        6   407438   \n",
       "1  S1F013BB 2015-05-06        0        0        0        0        5   688952   \n",
       "\n",
       "   metric7  metric9  \n",
       "0        0        7  \n",
       "1        0        0  "
      ]
     },
     "execution_count": 25,
     "metadata": {},
     "output_type": "execute_result"
    }
   ],
   "source": [
    "# creates new dataframe: one row for each device (reduces dimensions from 124K to 1163)\n",
    "dfmin=df.groupby('device').min().reset_index(drop=False)\n",
    "# same, but for max values\n",
    "dfmax=df.groupby('device').max().reset_index(drop=False)\n",
    "\n",
    "dfmin.head(2)"
   ]
  },
  {
   "cell_type": "markdown",
   "metadata": {},
   "source": [
    "Visualize a single device."
   ]
  },
  {
   "cell_type": "markdown",
   "metadata": {},
   "source": [
    "While the metrics are important, they are also not constant by device - they change over time. This calls for a time-series analysis. For the purpose of Cox regression, let's remove and focus only on device type (prefix)."
   ]
  },
  {
   "cell_type": "code",
   "execution_count": 26,
   "metadata": {},
   "outputs": [
    {
     "name": "stdout",
     "output_type": "stream",
     "text": [
      "metric2_z 633.0675791274593\n",
      "metric3_z 2.223267750213858\n",
      "metric4_z 6.098374679213003\n",
      "metric5_z 0.4679213002566296\n",
      "metric6_z 31298.350727117195\n",
      "metric7_z 4.076988879384089\n",
      "metric9_z 0.1787852865697177\n"
     ]
    }
   ],
   "source": [
    "# which metrics tend to change within a device? all of them.\n",
    "dfcompare=pd.merge(dfmax, dfmin, on='device', how='left')\n",
    "dfcompare['metric2_z']=dfcompare['metric2_x']-dfcompare['metric2_y']\n",
    "dfcompare['metric3_z']=dfcompare['metric3_x']-dfcompare['metric3_y']\n",
    "dfcompare['metric4_z']=dfcompare['metric4_x']-dfcompare['metric4_y']\n",
    "dfcompare['metric5_z']=dfcompare['metric5_x']-dfcompare['metric5_y']\n",
    "dfcompare['metric6_z']=dfcompare['metric6_x']-dfcompare['metric6_y']\n",
    "dfcompare['metric7_z']=dfcompare['metric7_x']-dfcompare['metric7_y']\n",
    "dfcompare['metric9_z']=dfcompare['metric9_x']-dfcompare['metric9_y']\n",
    "for var in ['metric2_z','metric3_z','metric4_z','metric5_z','metric6_z','metric7_z','metric9_z']:\n",
    "    print(str(var), dfcompare[var].mean())\n",
    "# this suggests that metrics change, and are an indicator of health."
   ]
  },
  {
   "cell_type": "code",
   "execution_count": 27,
   "metadata": {},
   "outputs": [
    {
     "name": "stdout",
     "output_type": "stream",
     "text": [
      "(1169, 2)\n"
     ]
    },
    {
     "data": {
      "text/html": [
       "<div>\n",
       "<style scoped>\n",
       "    .dataframe tbody tr th:only-of-type {\n",
       "        vertical-align: middle;\n",
       "    }\n",
       "\n",
       "    .dataframe tbody tr th {\n",
       "        vertical-align: top;\n",
       "    }\n",
       "\n",
       "    .dataframe thead th {\n",
       "        text-align: right;\n",
       "    }\n",
       "</style>\n",
       "<table border=\"1\" class=\"dataframe\">\n",
       "  <thead>\n",
       "    <tr style=\"text-align: right;\">\n",
       "      <th></th>\n",
       "      <th>device</th>\n",
       "      <th>mindate</th>\n",
       "    </tr>\n",
       "  </thead>\n",
       "  <tbody>\n",
       "    <tr>\n",
       "      <th>0</th>\n",
       "      <td>S1F01085</td>\n",
       "      <td>2015-01-01</td>\n",
       "    </tr>\n",
       "    <tr>\n",
       "      <th>1</th>\n",
       "      <td>S1F013BB</td>\n",
       "      <td>2015-05-06</td>\n",
       "    </tr>\n",
       "    <tr>\n",
       "      <th>2</th>\n",
       "      <td>S1F0166B</td>\n",
       "      <td>2015-01-01</td>\n",
       "    </tr>\n",
       "    <tr>\n",
       "      <th>3</th>\n",
       "      <td>S1F01E6Y</td>\n",
       "      <td>2015-01-01</td>\n",
       "    </tr>\n",
       "    <tr>\n",
       "      <th>4</th>\n",
       "      <td>S1F01JE0</td>\n",
       "      <td>2015-01-01</td>\n",
       "    </tr>\n",
       "  </tbody>\n",
       "</table>\n",
       "</div>"
      ],
      "text/plain": [
       "     device    mindate\n",
       "0  S1F01085 2015-01-01\n",
       "1  S1F013BB 2015-05-06\n",
       "2  S1F0166B 2015-01-01\n",
       "3  S1F01E6Y 2015-01-01\n",
       "4  S1F01JE0 2015-01-01"
      ]
     },
     "execution_count": 27,
     "metadata": {},
     "output_type": "execute_result"
    }
   ],
   "source": [
    "# just focus on the date for now. Create a column indicating the minimum date, for each device.\n",
    "dfmin=dfmin[['device', 'date']]\n",
    "dfmin.rename(columns={'date':'mindate'},inplace=True)\n",
    "print(dfmin.shape)\n",
    "dfmin.head()"
   ]
  },
  {
   "cell_type": "code",
   "execution_count": 28,
   "metadata": {},
   "outputs": [
    {
     "data": {
      "text/plain": [
       "S1F0    391\n",
       "W1F0    282\n",
       "Z1F0    149\n",
       "S1F1    139\n",
       "W1F1    138\n",
       "Z1F1     67\n",
       "Z1F2      3\n",
       "Name: prefix, dtype: int64"
      ]
     },
     "execution_count": 28,
     "metadata": {},
     "output_type": "execute_result"
    }
   ],
   "source": [
    "# We can group devices into 7 categories based on their device ID code\n",
    "dfmin['prefix']=dfmin['device'].apply(lambda row: row[:4])\n",
    "dfmin['prefix'].value_counts()"
   ]
  },
  {
   "cell_type": "code",
   "execution_count": 29,
   "metadata": {},
   "outputs": [
    {
     "name": "stdout",
     "output_type": "stream",
     "text": [
      "(124446, 10)\n"
     ]
    }
   ],
   "source": [
    "# merge the groupby-dataset back into primary the dataset\n",
    "print(df.shape)\n",
    "df=pd.merge(df, dfmin, on='device', how='left')"
   ]
  },
  {
   "cell_type": "code",
   "execution_count": 30,
   "metadata": {},
   "outputs": [
    {
     "data": {
      "text/plain": [
       "0      1169\n",
       "1      1168\n",
       "2      1168\n",
       "3      1167\n",
       "4      1166\n",
       "       ... \n",
       "303      31\n",
       "302      31\n",
       "301      31\n",
       "305      31\n",
       "299      31\n",
       "Name: timelapse, Length: 304, dtype: int64"
      ]
     },
     "execution_count": 30,
     "metadata": {},
     "output_type": "execute_result"
    }
   ],
   "source": [
    "# create a column to measure elapsed time.\n",
    "df['timelapse']=(df['date']-df['mindate']).dt.days\n",
    "df['timelapse'].value_counts()"
   ]
  },
  {
   "cell_type": "code",
   "execution_count": 31,
   "metadata": {},
   "outputs": [
    {
     "data": {
      "text/html": [
       "<div>\n",
       "<style scoped>\n",
       "    .dataframe tbody tr th:only-of-type {\n",
       "        vertical-align: middle;\n",
       "    }\n",
       "\n",
       "    .dataframe tbody tr th {\n",
       "        vertical-align: top;\n",
       "    }\n",
       "\n",
       "    .dataframe thead th {\n",
       "        text-align: right;\n",
       "    }\n",
       "</style>\n",
       "<table border=\"1\" class=\"dataframe\">\n",
       "  <thead>\n",
       "    <tr style=\"text-align: right;\">\n",
       "      <th></th>\n",
       "      <th>date</th>\n",
       "      <th>device</th>\n",
       "      <th>failure</th>\n",
       "      <th>metric2</th>\n",
       "      <th>metric3</th>\n",
       "      <th>metric4</th>\n",
       "      <th>metric5</th>\n",
       "      <th>metric6</th>\n",
       "      <th>metric7</th>\n",
       "      <th>metric9</th>\n",
       "      <th>mindate</th>\n",
       "      <th>prefix</th>\n",
       "      <th>timelapse</th>\n",
       "      <th>S1F0</th>\n",
       "      <th>S1F1</th>\n",
       "      <th>W1F0</th>\n",
       "      <th>W1F1</th>\n",
       "      <th>Z1F0</th>\n",
       "      <th>Z1F1</th>\n",
       "      <th>Z1F2</th>\n",
       "    </tr>\n",
       "  </thead>\n",
       "  <tbody>\n",
       "    <tr>\n",
       "      <th>0</th>\n",
       "      <td>2015-01-01</td>\n",
       "      <td>S1F01085</td>\n",
       "      <td>0</td>\n",
       "      <td>56</td>\n",
       "      <td>0</td>\n",
       "      <td>52</td>\n",
       "      <td>6</td>\n",
       "      <td>407438</td>\n",
       "      <td>0</td>\n",
       "      <td>7</td>\n",
       "      <td>2015-01-01</td>\n",
       "      <td>S1F0</td>\n",
       "      <td>0</td>\n",
       "      <td>1</td>\n",
       "      <td>0</td>\n",
       "      <td>0</td>\n",
       "      <td>0</td>\n",
       "      <td>0</td>\n",
       "      <td>0</td>\n",
       "      <td>0</td>\n",
       "    </tr>\n",
       "    <tr>\n",
       "      <th>1</th>\n",
       "      <td>2015-01-02</td>\n",
       "      <td>S1F01085</td>\n",
       "      <td>0</td>\n",
       "      <td>56</td>\n",
       "      <td>0</td>\n",
       "      <td>52</td>\n",
       "      <td>6</td>\n",
       "      <td>407438</td>\n",
       "      <td>0</td>\n",
       "      <td>7</td>\n",
       "      <td>2015-01-01</td>\n",
       "      <td>S1F0</td>\n",
       "      <td>1</td>\n",
       "      <td>1</td>\n",
       "      <td>0</td>\n",
       "      <td>0</td>\n",
       "      <td>0</td>\n",
       "      <td>0</td>\n",
       "      <td>0</td>\n",
       "      <td>0</td>\n",
       "    </tr>\n",
       "    <tr>\n",
       "      <th>2</th>\n",
       "      <td>2015-01-03</td>\n",
       "      <td>S1F01085</td>\n",
       "      <td>0</td>\n",
       "      <td>56</td>\n",
       "      <td>0</td>\n",
       "      <td>52</td>\n",
       "      <td>6</td>\n",
       "      <td>407438</td>\n",
       "      <td>0</td>\n",
       "      <td>7</td>\n",
       "      <td>2015-01-01</td>\n",
       "      <td>S1F0</td>\n",
       "      <td>2</td>\n",
       "      <td>1</td>\n",
       "      <td>0</td>\n",
       "      <td>0</td>\n",
       "      <td>0</td>\n",
       "      <td>0</td>\n",
       "      <td>0</td>\n",
       "      <td>0</td>\n",
       "    </tr>\n",
       "    <tr>\n",
       "      <th>3</th>\n",
       "      <td>2015-01-04</td>\n",
       "      <td>S1F01085</td>\n",
       "      <td>0</td>\n",
       "      <td>56</td>\n",
       "      <td>0</td>\n",
       "      <td>52</td>\n",
       "      <td>6</td>\n",
       "      <td>407439</td>\n",
       "      <td>0</td>\n",
       "      <td>7</td>\n",
       "      <td>2015-01-01</td>\n",
       "      <td>S1F0</td>\n",
       "      <td>3</td>\n",
       "      <td>1</td>\n",
       "      <td>0</td>\n",
       "      <td>0</td>\n",
       "      <td>0</td>\n",
       "      <td>0</td>\n",
       "      <td>0</td>\n",
       "      <td>0</td>\n",
       "    </tr>\n",
       "    <tr>\n",
       "      <th>4</th>\n",
       "      <td>2015-01-05</td>\n",
       "      <td>S1F01085</td>\n",
       "      <td>0</td>\n",
       "      <td>56</td>\n",
       "      <td>0</td>\n",
       "      <td>52</td>\n",
       "      <td>6</td>\n",
       "      <td>408114</td>\n",
       "      <td>0</td>\n",
       "      <td>7</td>\n",
       "      <td>2015-01-01</td>\n",
       "      <td>S1F0</td>\n",
       "      <td>4</td>\n",
       "      <td>1</td>\n",
       "      <td>0</td>\n",
       "      <td>0</td>\n",
       "      <td>0</td>\n",
       "      <td>0</td>\n",
       "      <td>0</td>\n",
       "      <td>0</td>\n",
       "    </tr>\n",
       "  </tbody>\n",
       "</table>\n",
       "</div>"
      ],
      "text/plain": [
       "        date    device  failure  metric2  metric3  metric4  metric5  metric6  \\\n",
       "0 2015-01-01  S1F01085        0       56        0       52        6   407438   \n",
       "1 2015-01-02  S1F01085        0       56        0       52        6   407438   \n",
       "2 2015-01-03  S1F01085        0       56        0       52        6   407438   \n",
       "3 2015-01-04  S1F01085        0       56        0       52        6   407439   \n",
       "4 2015-01-05  S1F01085        0       56        0       52        6   408114   \n",
       "\n",
       "   metric7  metric9    mindate prefix  timelapse  S1F0  S1F1  W1F0  W1F1  \\\n",
       "0        0        7 2015-01-01   S1F0          0     1     0     0     0   \n",
       "1        0        7 2015-01-01   S1F0          1     1     0     0     0   \n",
       "2        0        7 2015-01-01   S1F0          2     1     0     0     0   \n",
       "3        0        7 2015-01-01   S1F0          3     1     0     0     0   \n",
       "4        0        7 2015-01-01   S1F0          4     1     0     0     0   \n",
       "\n",
       "   Z1F0  Z1F1  Z1F2  \n",
       "0     0     0     0  \n",
       "1     0     0     0  \n",
       "2     0     0     0  \n",
       "3     0     0     0  \n",
       "4     0     0     0  "
      ]
     },
     "execution_count": 31,
     "metadata": {},
     "output_type": "execute_result"
    }
   ],
   "source": [
    "# one-hot encoding of device prefix\n",
    "ohe=pd.get_dummies(df['prefix'])\n",
    "df=pd.concat([df, ohe],axis=1)\n",
    "df.drop(['prefix'],axis=1)\n",
    "df.head()"
   ]
  },
  {
   "cell_type": "code",
   "execution_count": 32,
   "metadata": {},
   "outputs": [
    {
     "name": "stdout",
     "output_type": "stream",
     "text": [
      "305\n"
     ]
    }
   ],
   "source": [
    "# What's the longest-lived device that failed?\n",
    "print(df['timelapse'].max())\n",
    "df.loc[(df['timelapse']>=280) & (df['failure']==1)]['device'].unique()\n",
    "T0B1=df.loc[df['device']=='W1F0T0B1']"
   ]
  },
  {
   "cell_type": "code",
   "execution_count": 33,
   "metadata": {},
   "outputs": [
    {
     "data": {
      "image/png": "[encoded data removed]",
      "text/plain": [
       "<Figure size 1152x144 with 1 Axes>"
      ]
     },
     "metadata": {
      "needs_background": "light"
     },
     "output_type": "display_data"
    },
    {
     "data": {
      "image/png": "[encoded data removed]",
      "text/plain": [
       "<Figure size 1152x144 with 1 Axes>"
      ]
     },
     "metadata": {
      "needs_background": "light"
     },
     "output_type": "display_data"
    },
    {
     "data": {
      "image/png": "[encoded data removed]",
      "text/plain": [
       "<Figure size 1152x144 with 1 Axes>"
      ]
     },
     "metadata": {
      "needs_background": "light"
     },
     "output_type": "display_data"
    },
    {
     "data": {
      "image/png": "[encoded data removed]",
      "text/plain": [
       "<Figure size 1152x144 with 1 Axes>"
      ]
     },
     "metadata": {
      "needs_background": "light"
     },
     "output_type": "display_data"
    },
    {
     "data": {
      "image/png": "[encoded data removed]",
      "text/plain": [
       "<Figure size 1152x144 with 1 Axes>"
      ]
     },
     "metadata": {
      "needs_background": "light"
     },
     "output_type": "display_data"
    },
    {
     "data": {
      "image/png": "[encoded data removed]",
      "text/plain": [
       "<Figure size 1152x144 with 1 Axes>"
      ]
     },
     "metadata": {
      "needs_background": "light"
     },
     "output_type": "display_data"
    },
    {
     "data": {
      "image/png": "[encoded data removed]",
      "text/plain": [
       "<Figure size 1152x144 with 1 Axes>"
      ]
     },
     "metadata": {
      "needs_background": "light"
     },
     "output_type": "display_data"
    },
    {
     "data": {
      "image/png": "[encoded data removed]",
      "text/plain": [
       "<Figure size 1152x144 with 1 Axes>"
      ]
     },
     "metadata": {
      "needs_background": "light"
     },
     "output_type": "display_data"
    }
   ],
   "source": [
    "# display the metrics for one device\n",
    "metrics=['metric2','metric3','metric4','metric5','metric6','metric7','metric9','failure']\n",
    "for num in range(len(metrics)):\n",
    "    plt.figure(figsize=(16,2))\n",
    "    plt.plot(T0B1['timelapse'], T0B1[metrics[num]], color = 'r')\n",
    "    plt.xlabel(metrics[num])\n",
    "    plt.ylabel(\"Range\")\n",
    "    plt.show()"
   ]
  },
  {
   "cell_type": "markdown",
   "metadata": {},
   "source": [
    "# Part 2. Modeling"
   ]
  },
  {
   "cell_type": "markdown",
   "metadata": {},
   "source": [
    "## Cox regression analysis"
   ]
  },
  {
   "cell_type": "markdown",
   "metadata": {},
   "source": [
    "The Cox proportional hazards model (1972) is widely used in multivariate survival statistics due to a relatively easy implementation and informative interpretation. It describes relationships between survival distribution and covariates. The Cox model makes an estimation of log-risk function λ(t|x) as a linear combination of its static covariates and baseline hazard."
   ]
  },
  {
   "cell_type": "code",
   "execution_count": 29,
   "metadata": {},
   "outputs": [
    {
     "name": "stdout",
     "output_type": "stream",
     "text": [
      "(1169, 3)\n"
     ]
    },
    {
     "data": {
      "text/html": [
       "<div>\n",
       "<style scoped>\n",
       "    .dataframe tbody tr th:only-of-type {\n",
       "        vertical-align: middle;\n",
       "    }\n",
       "\n",
       "    .dataframe tbody tr th {\n",
       "        vertical-align: top;\n",
       "    }\n",
       "\n",
       "    .dataframe thead th {\n",
       "        text-align: right;\n",
       "    }\n",
       "</style>\n",
       "<table border=\"1\" class=\"dataframe\">\n",
       "  <thead>\n",
       "    <tr style=\"text-align: right;\">\n",
       "      <th></th>\n",
       "      <th>failure</th>\n",
       "      <th>prefix</th>\n",
       "      <th>timelapse</th>\n",
       "    </tr>\n",
       "    <tr>\n",
       "      <th>device</th>\n",
       "      <th></th>\n",
       "      <th></th>\n",
       "      <th></th>\n",
       "    </tr>\n",
       "  </thead>\n",
       "  <tbody>\n",
       "    <tr>\n",
       "      <th>Z1F1VMZB</th>\n",
       "      <td>0</td>\n",
       "      <td>Z1F1</td>\n",
       "      <td>291</td>\n",
       "    </tr>\n",
       "    <tr>\n",
       "      <th>Z1F1VQFY</th>\n",
       "      <td>1</td>\n",
       "      <td>Z1F1</td>\n",
       "      <td>180</td>\n",
       "    </tr>\n",
       "    <tr>\n",
       "      <th>Z1F26YZB</th>\n",
       "      <td>0</td>\n",
       "      <td>Z1F2</td>\n",
       "      <td>83</td>\n",
       "    </tr>\n",
       "    <tr>\n",
       "      <th>Z1F282ZV</th>\n",
       "      <td>0</td>\n",
       "      <td>Z1F2</td>\n",
       "      <td>83</td>\n",
       "    </tr>\n",
       "    <tr>\n",
       "      <th>Z1F2PBHX</th>\n",
       "      <td>0</td>\n",
       "      <td>Z1F2</td>\n",
       "      <td>95</td>\n",
       "    </tr>\n",
       "  </tbody>\n",
       "</table>\n",
       "</div>"
      ],
      "text/plain": [
       "          failure prefix  timelapse\n",
       "device                             \n",
       "Z1F1VMZB        0   Z1F1        291\n",
       "Z1F1VQFY        1   Z1F1        180\n",
       "Z1F26YZB        0   Z1F2         83\n",
       "Z1F282ZV        0   Z1F2         83\n",
       "Z1F2PBHX        0   Z1F2         95"
      ]
     },
     "execution_count": 29,
     "metadata": {},
     "output_type": "execute_result"
    }
   ],
   "source": [
    "# because metrics tend to vary over time, they're not fixed variables by device.\n",
    "# device prefix does not vary, and thus serves as an independent variable.\n",
    "coxdf = df[['device', 'failure', 'prefix', 'timelapse']]\n",
    "coxdf = coxdf.groupby('device').max()\n",
    "print(coxdf.shape)\n",
    "coxdf.tail()"
   ]
  },
  {
   "cell_type": "code",
   "execution_count": 30,
   "metadata": {},
   "outputs": [
    {
     "data": {
      "text/html": [
       "<div>\n",
       "<style scoped>\n",
       "    .dataframe tbody tr th:only-of-type {\n",
       "        vertical-align: middle;\n",
       "    }\n",
       "\n",
       "    .dataframe tbody tr th {\n",
       "        vertical-align: top;\n",
       "    }\n",
       "\n",
       "    .dataframe thead th {\n",
       "        text-align: right;\n",
       "    }\n",
       "</style>\n",
       "<table border=\"1\" class=\"dataframe\">\n",
       "  <thead>\n",
       "    <tr style=\"text-align: right;\">\n",
       "      <th></th>\n",
       "      <th>failure</th>\n",
       "      <th>prefix</th>\n",
       "      <th>timelapse</th>\n",
       "      <th>S1F0</th>\n",
       "      <th>S1F1</th>\n",
       "      <th>W1F0</th>\n",
       "      <th>W1F1</th>\n",
       "      <th>Z1F0</th>\n",
       "      <th>Z1F1</th>\n",
       "      <th>Z1F2</th>\n",
       "    </tr>\n",
       "    <tr>\n",
       "      <th>device</th>\n",
       "      <th></th>\n",
       "      <th></th>\n",
       "      <th></th>\n",
       "      <th></th>\n",
       "      <th></th>\n",
       "      <th></th>\n",
       "      <th></th>\n",
       "      <th></th>\n",
       "      <th></th>\n",
       "      <th></th>\n",
       "    </tr>\n",
       "  </thead>\n",
       "  <tbody>\n",
       "    <tr>\n",
       "      <th>S1F01085</th>\n",
       "      <td>0</td>\n",
       "      <td>S1F0</td>\n",
       "      <td>5</td>\n",
       "      <td>1</td>\n",
       "      <td>0</td>\n",
       "      <td>0</td>\n",
       "      <td>0</td>\n",
       "      <td>0</td>\n",
       "      <td>0</td>\n",
       "      <td>0</td>\n",
       "    </tr>\n",
       "    <tr>\n",
       "      <th>S1F013BB</th>\n",
       "      <td>0</td>\n",
       "      <td>S1F0</td>\n",
       "      <td>5</td>\n",
       "      <td>1</td>\n",
       "      <td>0</td>\n",
       "      <td>0</td>\n",
       "      <td>0</td>\n",
       "      <td>0</td>\n",
       "      <td>0</td>\n",
       "      <td>0</td>\n",
       "    </tr>\n",
       "    <tr>\n",
       "      <th>S1F0166B</th>\n",
       "      <td>0</td>\n",
       "      <td>S1F0</td>\n",
       "      <td>5</td>\n",
       "      <td>1</td>\n",
       "      <td>0</td>\n",
       "      <td>0</td>\n",
       "      <td>0</td>\n",
       "      <td>0</td>\n",
       "      <td>0</td>\n",
       "      <td>0</td>\n",
       "    </tr>\n",
       "    <tr>\n",
       "      <th>S1F01E6Y</th>\n",
       "      <td>0</td>\n",
       "      <td>S1F0</td>\n",
       "      <td>47</td>\n",
       "      <td>1</td>\n",
       "      <td>0</td>\n",
       "      <td>0</td>\n",
       "      <td>0</td>\n",
       "      <td>0</td>\n",
       "      <td>0</td>\n",
       "      <td>0</td>\n",
       "    </tr>\n",
       "    <tr>\n",
       "      <th>S1F01JE0</th>\n",
       "      <td>0</td>\n",
       "      <td>S1F0</td>\n",
       "      <td>5</td>\n",
       "      <td>1</td>\n",
       "      <td>0</td>\n",
       "      <td>0</td>\n",
       "      <td>0</td>\n",
       "      <td>0</td>\n",
       "      <td>0</td>\n",
       "      <td>0</td>\n",
       "    </tr>\n",
       "  </tbody>\n",
       "</table>\n",
       "</div>"
      ],
      "text/plain": [
       "          failure prefix  timelapse  S1F0  S1F1  W1F0  W1F1  Z1F0  Z1F1  Z1F2\n",
       "device                                                                       \n",
       "S1F01085        0   S1F0          5     1     0     0     0     0     0     0\n",
       "S1F013BB        0   S1F0          5     1     0     0     0     0     0     0\n",
       "S1F0166B        0   S1F0          5     1     0     0     0     0     0     0\n",
       "S1F01E6Y        0   S1F0         47     1     0     0     0     0     0     0\n",
       "S1F01JE0        0   S1F0          5     1     0     0     0     0     0     0"
      ]
     },
     "execution_count": 30,
     "metadata": {},
     "output_type": "execute_result"
    }
   ],
   "source": [
    "# one-hot encoding of device prefix\n",
    "ohe=pd.get_dummies(coxdf['prefix'])\n",
    "coxdf=pd.concat([coxdf, ohe],axis=1)\n",
    "coxdf.head()"
   ]
  },
  {
   "cell_type": "markdown",
   "metadata": {},
   "source": [
    "Survival models in scikit-survival follow the same rules as estimators in scikit-learn, i.e., they have a fit method, which expects a data matrix and a structured array of survival times and binary event indicators."
   ]
  },
  {
   "cell_type": "code",
   "execution_count": 31,
   "metadata": {},
   "outputs": [
    {
     "data": {
      "text/plain": [
       "Index(['S1F1', 'W1F0', 'W1F1', 'Z1F0', 'Z1F1', 'Z1F2'], dtype='object')"
      ]
     },
     "execution_count": 31,
     "metadata": {},
     "output_type": "execute_result"
    }
   ],
   "source": [
    "# We drop one category for comparison purposes (intercept)\n",
    "X=coxdf.drop(['prefix','failure','timelapse','S1F0'],axis=1)\n",
    "X.columns"
   ]
  },
  {
   "cell_type": "code",
   "execution_count": 32,
   "metadata": {},
   "outputs": [
    {
     "data": {
      "text/plain": [
       "rec.array([(False,  5), (False,  5), (False,  5), (False, 47),\n",
       "           (False,  5)],\n",
       "          dtype=[('failure', '?'), ('timelapse', '<i8')])"
      ]
     },
     "execution_count": 32,
     "metadata": {},
     "output_type": "execute_result"
    }
   ],
   "source": [
    "# Convert time & failure into a structured array of booleans\n",
    "coxdf['failure']=coxdf['failure'].astype('bool')\n",
    "y=coxdf[['failure','timelapse']].to_records(index=False)\n",
    "y[:5]"
   ]
  },
  {
   "cell_type": "code",
   "execution_count": 33,
   "metadata": {},
   "outputs": [],
   "source": [
    "# Split our data with a test size of 30%\n",
    "X_train, X_test, y_train, y_test = train_test_split(X, y, test_size=0.3)"
   ]
  },
  {
   "cell_type": "code",
   "execution_count": 34,
   "metadata": {},
   "outputs": [
    {
     "data": {
      "text/plain": [
       "CoxPHSurvivalAnalysis()"
      ]
     },
     "execution_count": 34,
     "metadata": {},
     "output_type": "execute_result"
    }
   ],
   "source": [
    "# Instantiate and fit the estimator\n",
    "estimator = CoxPHSurvivalAnalysis()\n",
    "estimator.fit(X_train, y_train)"
   ]
  },
  {
   "cell_type": "markdown",
   "metadata": {},
   "source": [
    "In survival analysis, the hazard ratio (HR) is the ratio of the hazard rates corresponding to the conditions described by two levels of an explanatory variable. Each coefficient is a hazard ratio for that specific variable. \n",
    "\n",
    "- A positive sign increases the baseline hazard λ0(t) and denotes that this covariate affects a higher risk of experiencing the event of interest. In contrary, a negative sign means that the risk of the event is lower.\n",
    "- For example, in a drug study, the treated population may die at twice the rate per unit time of the control population. The hazard ratio would be 2, indicating higher hazard of death from the treatment."
   ]
  },
  {
   "cell_type": "code",
   "execution_count": 35,
   "metadata": {},
   "outputs": [
    {
     "data": {
      "text/plain": [
       "S1F1    -1.084052\n",
       "W1F0     0.398483\n",
       "W1F1    -0.164566\n",
       "Z1F0    -0.212950\n",
       "Z1F1     0.412637\n",
       "Z1F2   -14.078557\n",
       "dtype: float64"
      ]
     },
     "execution_count": 35,
     "metadata": {},
     "output_type": "execute_result"
    }
   ],
   "source": [
    "# extract coefficients\n",
    "pd.Series(estimator.coef_, index=X_train.columns)"
   ]
  },
  {
   "cell_type": "markdown",
   "metadata": {},
   "source": [
    "the `predict_survival_function` method returns a sequence of step functions, which we can plot. This shows the probability of a device not failing, for a given point in time (measured in days since device activation)."
   ]
  },
  {
   "cell_type": "code",
   "execution_count": 36,
   "metadata": {},
   "outputs": [
    {
     "data": {
      "image/png": "[encoded data removed]",
      "text/plain": [
       "<Figure size 864x360 with 1 Axes>"
      ]
     },
     "metadata": {
      "needs_background": "light"
     },
     "output_type": "display_data"
    }
   ],
   "source": [
    "# create 7 new cases\n",
    "x_new = pd.DataFrame.from_dict({\n",
    "    1: [1,0,0,0,0,0],\n",
    "    2: [0,1,0,0,0,0],\n",
    "    3: [0,0,1,0,0,0],\n",
    "    4: [0,0,0,1,0,0],\n",
    "    5: [0,0,0,0,1,0],\n",
    "    6: [0,0,0,0,0,1]\n",
    "},\n",
    "     columns=X_train.columns, orient='index')\n",
    "\n",
    "# list the device categories\n",
    "device_types=list(X_train.columns)\n",
    "# display as curves\n",
    "pred_surv = estimator.predict_survival_function(x_new)\n",
    "time_points = np.arange(3, 305)\n",
    "plt.figure(figsize=(12,5))\n",
    "for i, surv_func in enumerate(pred_surv):\n",
    "    plt.step(time_points, surv_func(time_points), where=\"post\",\n",
    "             label=device_types[i])\n",
    "plt.ylabel(\"est. probability of survival $\\hat{S}(t)$\")\n",
    "plt.xlabel(\"time $t$\")\n",
    "plt.legend(loc=\"best\");"
   ]
  },
  {
   "cell_type": "markdown",
   "metadata": {},
   "source": [
    "### Evaluation of Cox Regression"
   ]
  },
  {
   "cell_type": "markdown",
   "metadata": {},
   "source": [
    "The most frequently used evaluation metric of survival models is the concordance index (c index, c statistic).  It is a measure of rank correlation between predicted risk scores f and observed time points y. Metrics like root mean squared error or correlation are unsuitable due to censoring.  The interpretation is identical to the traditional area under the ROC curve metric for binary classification: \n",
    "- a value of 0.5 denotes a random model, \n",
    "- a value of 1.0 denotes a perfect model, \n",
    "- a value of 0.0 denotes a perfectly wrong model."
   ]
  },
  {
   "cell_type": "code",
   "execution_count": 37,
   "metadata": {},
   "outputs": [
    {
     "name": "stdout",
     "output_type": "stream",
     "text": [
      "0.5950986135520406\n"
     ]
    }
   ],
   "source": [
    "# Measuring the Performance of the Survival Model\n",
    "print(estimator.score(X_test,y_test))"
   ]
  },
  {
   "cell_type": "markdown",
   "metadata": {},
   "source": [
    "Our model's c-index indicates that the model performs better than random chance, but is far from perfect. This is likely because we removed all of the attribute variables (metrics 2-9) from the analysis, which could have served as predictors. What this tells us is that lifespan, by itself, is not a strong predictor of when a device will fail (i.e., simply being old by itself is not necessarily a predictor of failure).  \n",
    "\n",
    "A different approach (time series analysis) can take into account the device metrics which likely indicate upcoming failure."
   ]
  },
  {
   "cell_type": "code",
   "execution_count": null,
   "metadata": {},
   "outputs": [],
   "source": []
  },
  {
   "cell_type": "code",
   "execution_count": null,
   "metadata": {},
   "outputs": [],
   "source": []
  },
  {
   "cell_type": "code",
   "execution_count": null,
   "metadata": {},
   "outputs": [],
   "source": []
  },
  {
   "cell_type": "code",
   "execution_count": null,
   "metadata": {},
   "outputs": [],
   "source": []
  },
  {
   "cell_type": "markdown",
   "metadata": {},
   "source": [
    "## Linear Modeling"
   ]
  },
  {
   "cell_type": "code",
   "execution_count": 34,
   "metadata": {},
   "outputs": [],
   "source": [
    "# make a list of features\n",
    "features = ['metric2', 'metric3', 'metric4', 'metric5', 'metric6', 'metric7',\n",
    "            'metric9','S1F0', 'S1F1', 'W1F0', 'W1F1', 'Z1F0', 'Z1F1', 'Z1F2']\n",
    "features = ['metric6'] # let's try with a single predictor, and later we'll expand the model."
   ]
  },
  {
   "cell_type": "code",
   "execution_count": 35,
   "metadata": {},
   "outputs": [
    {
     "name": "stdout",
     "output_type": "stream",
     "text": [
      "467\n",
      "['W1F0G9T7', 'W1F0X6TM', 'W1F1BW8W', 'Z1F0FSBY', 'S1F0QWZP']\n"
     ]
    }
   ],
   "source": [
    "# randomly select device ID numbers for train-test split\n",
    "import random\n",
    "device_ids=list(df['device'].unique())\n",
    "test_size=int(len(device_ids)*.4)\n",
    "print(test_size)\n",
    "test_list = random.sample(device_ids, test_size)\n",
    "print(test_list[:5])"
   ]
  },
  {
   "cell_type": "code",
   "execution_count": 36,
   "metadata": {},
   "outputs": [
    {
     "name": "stdout",
     "output_type": "stream",
     "text": [
      "124446\n",
      "76748\n",
      "47698\n"
     ]
    }
   ],
   "source": [
    "# train-test split\n",
    "data_test = df[df['device'].isin(test_list)]\n",
    "data_train = df[~df['device'].isin(test_list)]\n",
    "print(len(df))\n",
    "print(len(data_train))\n",
    "print(len(data_test))\n",
    "assert len(data_train)+len(data_test)==len(df)"
   ]
  },
  {
   "cell_type": "code",
   "execution_count": 37,
   "metadata": {},
   "outputs": [],
   "source": [
    "# Creating the X, T and E inputs\n",
    "X_train, X_test = data_train[features], data_test[features]\n",
    "T_train, T_test = data_train['timelapse'], data_test['timelapse']\n",
    "E_train, E_test = data_train['failure'], data_test['failure']"
   ]
  },
  {
   "cell_type": "markdown",
   "metadata": {},
   "source": [
    "The [Multi-Task Logistic Regression](https://square.github.io/pysurvival/tutorials/maintenance.html) (MTLR) model is an alternative to the Cox’s proportional hazard model. It can be seen as a series of logistic regression models built on different time intervals so as to estimate the probability that the event of interest happened within each interval."
   ]
  },
  {
   "cell_type": "code",
   "execution_count": 38,
   "metadata": {},
   "outputs": [
    {
     "name": "stderr",
     "output_type": "stream",
     "text": [
      "% Completion: 100%|***********************************************|Loss: 921.72\n"
     ]
    },
    {
     "data": {
      "text/plain": [
       "LinearMultiTaskModel"
      ]
     },
     "execution_count": 38,
     "metadata": {},
     "output_type": "execute_result"
    }
   ],
   "source": [
    "# Let's now fit a Linear MTLR model to the training set. \n",
    "from pysurvival.models.multi_task import LinearMultiTaskModel\n",
    "\n",
    "# Initializing the MTLR with a time axis split into 300 intervals\n",
    "linear_mtlr = LinearMultiTaskModel(bins=300)\n",
    "\n",
    "# Fitting the model\n",
    "linear_mtlr.fit(X_train, T_train, E_train, \n",
    "                num_epochs = 1000,\n",
    "                init_method = 'orthogonal', \n",
    "                optimizer ='rmsprop',\n",
    "                lr = 1e-3, \n",
    "                l2_reg = 3,  \n",
    "                l2_smooth = 3, )"
   ]
  },
  {
   "cell_type": "code",
   "execution_count": 39,
   "metadata": {},
   "outputs": [
    {
     "data": {
      "image/png": "[encoded data removed]",
      "text/plain": [
       "<Figure size 504x288 with 1 Axes>"
      ]
     },
     "metadata": {
      "needs_background": "light"
     },
     "output_type": "display_data"
    }
   ],
   "source": [
    "from pysurvival.utils.display import display_loss_values\n",
    "display_loss_values(linear_mtlr, figure_size=(7, 4))"
   ]
  },
  {
   "cell_type": "markdown",
   "metadata": {},
   "source": [
    "The C-index represents the global assessment of the model discrimination power: this is the model’s ability to correctly provide a reliable ranking of the survival times based on the individual risk scores. In general, when the C-index is close to 1, the model has an almost perfect discriminatory power; but if it is close to 0.5, it has no ability to discriminate between low and high risk subjects."
   ]
  },
  {
   "cell_type": "code",
   "execution_count": 40,
   "metadata": {},
   "outputs": [
    {
     "name": "stdout",
     "output_type": "stream",
     "text": [
      "C-index: 0.70\n"
     ]
    }
   ],
   "source": [
    "from pysurvival.utils.metrics import concordance_index\n",
    "c_index = concordance_index(linear_mtlr, X_test, T_test, E_test)\n",
    "print('C-index: {:.2f}'.format(c_index)) "
   ]
  },
  {
   "cell_type": "markdown",
   "metadata": {},
   "source": [
    "## Neural Multi-Task Logistic Regression model (N-MTLR) "
   ]
  },
  {
   "cell_type": "code",
   "execution_count": 44,
   "metadata": {},
   "outputs": [
    {
     "name": "stderr",
     "output_type": "stream",
     "text": [
      "% Completion: 100%|***********************************************|Loss: 917.86\n"
     ]
    },
    {
     "data": {
      "text/plain": [
       "NeuralMultiTaskModel( Layer(1): activation = ReLU, units = 128 )"
      ]
     },
     "execution_count": 44,
     "metadata": {},
     "output_type": "execute_result"
    }
   ],
   "source": [
    "# Instantiate\n",
    "from pysurvival.models.multi_task import NeuralMultiTaskModel\n",
    "structure = [ {'activation': 'ReLU', 'num_units': 128}, ]\n",
    "neural_mtlm = NeuralMultiTaskModel(structure, bins=100, auto_scaler=True)\n",
    "# Fitting the model\n",
    "neural_mtlm.fit(X_train, T_train, E_train, \n",
    "                init_method = 'glorot_uniform', \n",
    "                optimizer ='adam',\n",
    "                lr = 1e-4, \n",
    "                num_epochs = 1000, \n",
    "                dropout = 0.2, \n",
    "                l2_reg=1e-2,\n",
    "                l2_smooth=1e-2, \n",
    "                batch_normalization=False, \n",
    "                bn_and_dropout=False,\n",
    "                verbose=True, \n",
    "                extra_pct_time = 0.1, \n",
    "                is_min_time_zero=True)"
   ]
  },
  {
   "cell_type": "code",
   "execution_count": 48,
   "metadata": {},
   "outputs": [
    {
     "data": {
      "image/png": "[encoded data removed]",
      "text/plain": [
       "<Figure size 504x288 with 1 Axes>"
      ]
     },
     "metadata": {
      "needs_background": "light"
     },
     "output_type": "display_data"
    }
   ],
   "source": [
    "display_loss_values(neural_mtlm, figure_size=(7, 4))"
   ]
  },
  {
   "cell_type": "code",
   "execution_count": 47,
   "metadata": {},
   "outputs": [
    {
     "name": "stdout",
     "output_type": "stream",
     "text": [
      "C-index: 0.71\n"
     ]
    }
   ],
   "source": [
    "c_index = concordance_index(neural_mtlm, X_test, T_test, E_test)\n",
    "print('C-index: {:.2f}'.format(c_index)) "
   ]
  },
  {
   "cell_type": "markdown",
   "metadata": {},
   "source": [
    "Conclusion: The model included a single independent variable (Metric 6) which had the greatest variance over time. We left out a number of other predictors (the other metrics, and \"prefix\") because these had little or no variance over time. A future iteration of the model would include these as independent variables. This would likely improve the c-value above .71."
   ]
  },
  {
   "cell_type": "code",
   "execution_count": null,
   "metadata": {},
   "outputs": [],
   "source": []
  }
 ],
 "metadata": {
  "kernelspec": {
   "display_name": "conda_python3",
   "language": "python",
   "name": "conda_python3"
  },
  "language_info": {
   "codemirror_mode": {
    "name": "ipython",
    "version": 3
   },
   "file_extension": ".py",
   "mimetype": "text/x-python",
   "name": "python",
   "nbconvert_exporter": "python",
   "pygments_lexer": "ipython3",
   "version": "3.6.13"
  }
 },
 "nbformat": 4,
 "nbformat_minor": 2
}
