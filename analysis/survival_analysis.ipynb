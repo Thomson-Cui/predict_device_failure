{
 "cells": [
  {
   "cell_type": "markdown",
   "metadata": {},
   "source": [
    "# Device Survival Analysis\n",
    "### Maintenance cost reduction through predictive techniques"
   ]
  },
  {
   "cell_type": "markdown",
   "metadata": {},
   "source": [
    "\n",
    "BACKGROUND: A company has a fleet of devices transmitting daily telemetry readings. They\n",
    "would like to create a predictive maintenance solution to proactively identify when maintenance\n",
    "should be performed. This approach promises cost savings over routine or time-based\n",
    "preventive maintenance, because tasks are performed only when warranted. GOAL You are\n",
    "tasked with building a predictive model using machine learning to predict the probability of a\n",
    "device failure. When building this model, be sure to minimize false positives and false\n",
    "negatives. The column you are trying to predict is called failure with binary value 0 for non-\n",
    "failure and 1 for failure."
   ]
  },
  {
   "cell_type": "markdown",
   "metadata": {},
   "source": [
    "Trained on ml.p2.xlarge AWS SageMaker instance"
   ]
  },
  {
   "cell_type": "code",
   "execution_count": 1,
   "metadata": {},
   "outputs": [],
   "source": [
    "# ! pip install pysurvival\n",
    "# ! pip install scikit-survival"
   ]
  },
  {
   "cell_type": "code",
   "execution_count": 2,
   "metadata": {},
   "outputs": [],
   "source": [
    "import pandas as pd\n",
    "import numpy as np\n",
    "import matplotlib.pyplot as plt\n",
    "from sklearn.model_selection import train_test_split\n",
    "from sksurv.metrics import concordance_index_censored\n",
    "from sksurv.linear_model import CoxPHSurvivalAnalysis"
   ]
  },
  {
   "cell_type": "markdown",
   "metadata": {},
   "source": [
    "# Part 1. Exploratory Analysis and Feature Engineering"
   ]
  },
  {
   "cell_type": "markdown",
   "metadata": {},
   "source": [
    "### Basic descriptives"
   ]
  },
  {
   "cell_type": "code",
   "execution_count": 3,
   "metadata": {},
   "outputs": [
    {
     "name": "stdout",
     "output_type": "stream",
     "text": [
      "(124494, 12)\n"
     ]
    }
   ],
   "source": [
    "df=pd.read_csv('http://aws-proserve-data-science.s3.amazonaws.com/predictive_maintenance.csv')\n",
    "print(df.shape)"
   ]
  },
  {
   "cell_type": "code",
   "execution_count": 4,
   "metadata": {},
   "outputs": [
    {
     "data": {
      "text/html": [
       "<div>\n",
       "<style scoped>\n",
       "    .dataframe tbody tr th:only-of-type {\n",
       "        vertical-align: middle;\n",
       "    }\n",
       "\n",
       "    .dataframe tbody tr th {\n",
       "        vertical-align: top;\n",
       "    }\n",
       "\n",
       "    .dataframe thead th {\n",
       "        text-align: right;\n",
       "    }\n",
       "</style>\n",
       "<table border=\"1\" class=\"dataframe\">\n",
       "  <thead>\n",
       "    <tr style=\"text-align: right;\">\n",
       "      <th></th>\n",
       "      <th>0</th>\n",
       "      <th>1</th>\n",
       "    </tr>\n",
       "  </thead>\n",
       "  <tbody>\n",
       "    <tr>\n",
       "      <th>date</th>\n",
       "      <td>1/1/15</td>\n",
       "      <td>1/1/15</td>\n",
       "    </tr>\n",
       "    <tr>\n",
       "      <th>device</th>\n",
       "      <td>S1F01085</td>\n",
       "      <td>S1F0166B</td>\n",
       "    </tr>\n",
       "    <tr>\n",
       "      <th>failure</th>\n",
       "      <td>0</td>\n",
       "      <td>0</td>\n",
       "    </tr>\n",
       "    <tr>\n",
       "      <th>metric1</th>\n",
       "      <td>215630672</td>\n",
       "      <td>61370680</td>\n",
       "    </tr>\n",
       "    <tr>\n",
       "      <th>metric2</th>\n",
       "      <td>56</td>\n",
       "      <td>0</td>\n",
       "    </tr>\n",
       "    <tr>\n",
       "      <th>metric3</th>\n",
       "      <td>0</td>\n",
       "      <td>3</td>\n",
       "    </tr>\n",
       "    <tr>\n",
       "      <th>metric4</th>\n",
       "      <td>52</td>\n",
       "      <td>0</td>\n",
       "    </tr>\n",
       "    <tr>\n",
       "      <th>metric5</th>\n",
       "      <td>6</td>\n",
       "      <td>6</td>\n",
       "    </tr>\n",
       "    <tr>\n",
       "      <th>metric6</th>\n",
       "      <td>407438</td>\n",
       "      <td>403174</td>\n",
       "    </tr>\n",
       "    <tr>\n",
       "      <th>metric7</th>\n",
       "      <td>0</td>\n",
       "      <td>0</td>\n",
       "    </tr>\n",
       "    <tr>\n",
       "      <th>metric8</th>\n",
       "      <td>0</td>\n",
       "      <td>0</td>\n",
       "    </tr>\n",
       "    <tr>\n",
       "      <th>metric9</th>\n",
       "      <td>7</td>\n",
       "      <td>0</td>\n",
       "    </tr>\n",
       "  </tbody>\n",
       "</table>\n",
       "</div>"
      ],
      "text/plain": [
       "                 0         1\n",
       "date        1/1/15    1/1/15\n",
       "device    S1F01085  S1F0166B\n",
       "failure          0         0\n",
       "metric1  215630672  61370680\n",
       "metric2         56         0\n",
       "metric3          0         3\n",
       "metric4         52         0\n",
       "metric5          6         6\n",
       "metric6     407438    403174\n",
       "metric7          0         0\n",
       "metric8          0         0\n",
       "metric9          7         0"
      ]
     },
     "execution_count": 4,
     "metadata": {},
     "output_type": "execute_result"
    }
   ],
   "source": [
    "# first few rows\n",
    "df.head(2).T"
   ]
  },
  {
   "cell_type": "code",
   "execution_count": 5,
   "metadata": {},
   "outputs": [
    {
     "data": {
      "text/plain": [
       "date       object\n",
       "device     object\n",
       "failure     int64\n",
       "metric1     int64\n",
       "metric2     int64\n",
       "metric3     int64\n",
       "metric4     int64\n",
       "metric5     int64\n",
       "metric6     int64\n",
       "metric7     int64\n",
       "metric8     int64\n",
       "metric9     int64\n",
       "dtype: object"
      ]
     },
     "execution_count": 5,
     "metadata": {},
     "output_type": "execute_result"
    }
   ],
   "source": [
    "# except for the first two columns, all metrics are integers.\n",
    "df.dtypes"
   ]
  },
  {
   "cell_type": "markdown",
   "metadata": {},
   "source": [
    "### Hypotheses about the data:\n",
    "\n",
    "* one reading every day, per device\n",
    "* no more than one reading per day, per device\n",
    "* most devices start on the same day (Jan 1st)\n",
    "* there are no devices with two failure records (each device can only fail once)\n",
    "* once a failure happens, device is removed from service\n",
    "* some models never fail during the observation period (censoring)"
   ]
  },
  {
   "cell_type": "markdown",
   "metadata": {},
   "source": [
    "### Data cleaning"
   ]
  },
  {
   "cell_type": "code",
   "execution_count": 6,
   "metadata": {},
   "outputs": [
    {
     "data": {
      "text/plain": [
       "date       0\n",
       "device     0\n",
       "failure    0\n",
       "metric1    0\n",
       "metric2    0\n",
       "metric3    0\n",
       "metric4    0\n",
       "metric5    0\n",
       "metric6    0\n",
       "metric7    0\n",
       "metric8    0\n",
       "metric9    0\n",
       "dtype: int64"
      ]
     },
     "execution_count": 6,
     "metadata": {},
     "output_type": "execute_result"
    }
   ],
   "source": [
    "# There is no obvious missing data in any variable.\n",
    "df.isnull().sum()"
   ]
  },
  {
   "cell_type": "code",
   "execution_count": 7,
   "metadata": {},
   "outputs": [
    {
     "name": "stdout",
     "output_type": "stream",
     "text": [
      "correlation: 1.0\n",
      "Are there any rows where 7!=8? False\n",
      "(124494, 11)\n"
     ]
    }
   ],
   "source": [
    "# metrics 7 and 8 are identical. Drop one of them.\n",
    "print('correlation:', df['metric7'].corr(df['metric8']))\n",
    "print ('Are there any rows where 7!=8?', False in list(df['metric7']==df['metric8']))\n",
    "df=df.drop('metric8', axis=1)\n",
    "print(df.shape)"
   ]
  },
  {
   "cell_type": "code",
   "execution_count": 8,
   "metadata": {},
   "outputs": [
    {
     "name": "stdout",
     "output_type": "stream",
     "text": [
      "How many devices have 2 measurements in one day? 1\n",
      "          device     date\n",
      "101335  S1F0R4Q8  7/10/15\n"
     ]
    },
    {
     "data": {
      "text/html": [
       "<div>\n",
       "<style scoped>\n",
       "    .dataframe tbody tr th:only-of-type {\n",
       "        vertical-align: middle;\n",
       "    }\n",
       "\n",
       "    .dataframe tbody tr th {\n",
       "        vertical-align: top;\n",
       "    }\n",
       "\n",
       "    .dataframe thead th {\n",
       "        text-align: right;\n",
       "    }\n",
       "</style>\n",
       "<table border=\"1\" class=\"dataframe\">\n",
       "  <thead>\n",
       "    <tr style=\"text-align: right;\">\n",
       "      <th></th>\n",
       "      <th>date</th>\n",
       "      <th>device</th>\n",
       "      <th>failure</th>\n",
       "      <th>metric1</th>\n",
       "      <th>metric2</th>\n",
       "      <th>metric3</th>\n",
       "      <th>metric4</th>\n",
       "      <th>metric5</th>\n",
       "      <th>metric6</th>\n",
       "      <th>metric7</th>\n",
       "      <th>metric9</th>\n",
       "    </tr>\n",
       "  </thead>\n",
       "  <tbody>\n",
       "  </tbody>\n",
       "</table>\n",
       "</div>"
      ],
      "text/plain": [
       "Empty DataFrame\n",
       "Columns: [date, device, failure, metric1, metric2, metric3, metric4, metric5, metric6, metric7, metric9]\n",
       "Index: []"
      ]
     },
     "execution_count": 8,
     "metadata": {},
     "output_type": "execute_result"
    }
   ],
   "source": [
    "# There is only one instance of a duplicated device-date pair.\n",
    "print('How many devices have 2 measurements in one day?', df[['device', 'date']].duplicated().sum())\n",
    "# what is that row?\n",
    "print(df[df[['device', 'date']].duplicated()==True][['device', 'date']])\n",
    "df.loc[(df['device']=='S1F0R4Q8') & (df['date']=='2015-07-10')]"
   ]
  },
  {
   "cell_type": "code",
   "execution_count": 9,
   "metadata": {},
   "outputs": [
    {
     "data": {
      "text/plain": [
       "(124493, 11)"
      ]
     },
     "execution_count": 9,
     "metadata": {},
     "output_type": "execute_result"
    }
   ],
   "source": [
    "# we should remove one of these duplicate rows.\n",
    "df=df.drop(df.index[101335], axis=0)\n",
    "df.reset_index(drop=True)\n",
    "df.shape"
   ]
  },
  {
   "cell_type": "code",
   "execution_count": 10,
   "metadata": {},
   "outputs": [
    {
     "name": "stdout",
     "output_type": "stream",
     "text": [
      "object\n"
     ]
    },
    {
     "data": {
      "text/plain": [
       "dtype('<M8[ns]')"
      ]
     },
     "execution_count": 10,
     "metadata": {},
     "output_type": "execute_result"
    }
   ],
   "source": [
    "# The dates are coded as strings. Replace this.\n",
    "print(df['date'].dtype)\n",
    "df['date']=pd.to_datetime(df['date'],infer_datetime_format=True)\n",
    "df['date'].dtype"
   ]
  },
  {
   "cell_type": "code",
   "execution_count": 11,
   "metadata": {},
   "outputs": [],
   "source": [
    "# metric 1 appears to be an entirely random signal. remove it.\n",
    "df['metric1'].describe()\n",
    "df=df.drop('metric1', axis=1)"
   ]
  },
  {
   "cell_type": "code",
   "execution_count": 12,
   "metadata": {},
   "outputs": [
    {
     "name": "stdout",
     "output_type": "stream",
     "text": [
      "metric2: 0.95\n",
      "metric3: 0.93\n",
      "metric4: 0.92\n",
      "metric7: 0.99\n"
     ]
    }
   ],
   "source": [
    "# what percentage of each is a zero? very high.\n",
    "def lotsa_zeroes(col):\n",
    "    numerator=len(df.loc[df[col]==0])\n",
    "    denominator=len(df[col])\n",
    "    print(col+':', round(numerator/denominator, 2))\n",
    "for i in [2, 3,4,7]:\n",
    "    lotsa_zeroes('metric'+str(i))"
   ]
  },
  {
   "cell_type": "markdown",
   "metadata": {},
   "source": [
    "### Censoring\n",
    "What is censoring? One of the challenges specific to survival analysis is that only some individuals will have experienced the event by the end of the study, and therefore survival times will be unknown for a subset of the study group. This phenomenon is called censoring"
   ]
  },
  {
   "cell_type": "code",
   "execution_count": 13,
   "metadata": {},
   "outputs": [
    {
     "data": {
      "text/plain": [
       "1169"
      ]
     },
     "execution_count": 13,
     "metadata": {},
     "output_type": "execute_result"
    }
   ],
   "source": [
    "# How many unique devices are there?\n",
    "df['device'].nunique()"
   ]
  },
  {
   "cell_type": "code",
   "execution_count": 14,
   "metadata": {},
   "outputs": [
    {
     "data": {
      "text/plain": [
       "0    1063\n",
       "1     106\n",
       "Name: failure, dtype: int64"
      ]
     },
     "execution_count": 14,
     "metadata": {},
     "output_type": "execute_result"
    }
   ],
   "source": [
    "# Do all of them experience failure? Most do not.\n",
    "df.groupby('device').max()['failure'].value_counts()"
   ]
  },
  {
   "cell_type": "code",
   "execution_count": 15,
   "metadata": {},
   "outputs": [
    {
     "data": {
      "text/plain": [
       "0    1063\n",
       "1     106\n",
       "Name: failure, dtype: int64"
      ]
     },
     "execution_count": 15,
     "metadata": {},
     "output_type": "execute_result"
    }
   ],
   "source": [
    "# Do any fail multiple times? No.\n",
    "df.groupby('device').sum()['failure'].value_counts()"
   ]
  },
  {
   "cell_type": "markdown",
   "metadata": {},
   "source": [
    "For the most part, when a device fails it is removed. A few devices (5) continue after they're dead."
   ]
  },
  {
   "cell_type": "code",
   "execution_count": 16,
   "metadata": {},
   "outputs": [],
   "source": [
    "# confirm that there are no devices with two failure records (each device only fails once)\n",
    "dffailed=df.loc[df['failure']==1]\n",
    "assert dffailed['device'].nunique()==dffailed.shape[0]"
   ]
  },
  {
   "cell_type": "code",
   "execution_count": 17,
   "metadata": {},
   "outputs": [],
   "source": [
    "# restrict to the date on which a device failed.\n",
    "deaddevice=df[df['failure']==1][['device','date']]"
   ]
  },
  {
   "cell_type": "code",
   "execution_count": 18,
   "metadata": {},
   "outputs": [
    {
     "data": {
      "text/plain": [
       "(124493, 11)"
      ]
     },
     "execution_count": 18,
     "metadata": {},
     "output_type": "execute_result"
    }
   ],
   "source": [
    "# merge the deathdates back into the regular dataset.\n",
    "deaddevice = deaddevice.rename(columns={'date': 'deathdate'})\n",
    "df=pd.merge(df, deaddevice, on='device', how='outer')\n",
    "df.shape"
   ]
  },
  {
   "cell_type": "code",
   "execution_count": 19,
   "metadata": {},
   "outputs": [
    {
     "data": {
      "text/html": [
       "<div>\n",
       "<style scoped>\n",
       "    .dataframe tbody tr th:only-of-type {\n",
       "        vertical-align: middle;\n",
       "    }\n",
       "\n",
       "    .dataframe tbody tr th {\n",
       "        vertical-align: top;\n",
       "    }\n",
       "\n",
       "    .dataframe thead th {\n",
       "        text-align: right;\n",
       "    }\n",
       "</style>\n",
       "<table border=\"1\" class=\"dataframe\">\n",
       "  <thead>\n",
       "    <tr style=\"text-align: right;\">\n",
       "      <th></th>\n",
       "      <th>device</th>\n",
       "      <th>maxdate</th>\n",
       "      <th>deathdate</th>\n",
       "    </tr>\n",
       "  </thead>\n",
       "  <tbody>\n",
       "    <tr>\n",
       "      <th>101</th>\n",
       "      <td>S1F0GPFZ</td>\n",
       "      <td>2015-07-24</td>\n",
       "      <td>2015-07-12</td>\n",
       "    </tr>\n",
       "    <tr>\n",
       "      <th>504</th>\n",
       "      <td>S1F136J0</td>\n",
       "      <td>2015-05-06</td>\n",
       "      <td>2015-05-05</td>\n",
       "    </tr>\n",
       "    <tr>\n",
       "      <th>599</th>\n",
       "      <td>W1F0KCP2</td>\n",
       "      <td>2015-05-11</td>\n",
       "      <td>2015-05-09</td>\n",
       "    </tr>\n",
       "    <tr>\n",
       "      <th>625</th>\n",
       "      <td>W1F0M35B</td>\n",
       "      <td>2015-05-11</td>\n",
       "      <td>2015-05-09</td>\n",
       "    </tr>\n",
       "    <tr>\n",
       "      <th>819</th>\n",
       "      <td>W1F11ZG9</td>\n",
       "      <td>2015-08-17</td>\n",
       "      <td>2015-07-18</td>\n",
       "    </tr>\n",
       "  </tbody>\n",
       "</table>\n",
       "</div>"
      ],
      "text/plain": [
       "       device    maxdate  deathdate\n",
       "101  S1F0GPFZ 2015-07-24 2015-07-12\n",
       "504  S1F136J0 2015-05-06 2015-05-05\n",
       "599  W1F0KCP2 2015-05-11 2015-05-09\n",
       "625  W1F0M35B 2015-05-11 2015-05-09\n",
       "819  W1F11ZG9 2015-08-17 2015-07-18"
      ]
     },
     "execution_count": 19,
     "metadata": {},
     "output_type": "execute_result"
    }
   ],
   "source": [
    "# confirm that, for failed devices, there are no entries later than the failure date.\n",
    "devices=df.groupby('device').max().reset_index(drop=False)\n",
    "dead_devices=devices.loc[devices['failure']==1]\n",
    "dead_devices=dead_devices.rename(columns={'date': 'maxdate'})\n",
    "dead_devices=dead_devices[['device', 'maxdate', 'deathdate']]\n",
    "dead_devices.loc[dead_devices['maxdate']!=dead_devices['deathdate']]"
   ]
  },
  {
   "cell_type": "code",
   "execution_count": 20,
   "metadata": {},
   "outputs": [
    {
     "name": "stdout",
     "output_type": "stream",
     "text": [
      "Number of rows removed: 47\n",
      "124493\n",
      "124446\n"
     ]
    }
   ],
   "source": [
    "# For those 5 devices, remove any dates that occur after the failure.\n",
    "zombies=dead_devices.loc[dead_devices['maxdate']!=dead_devices['deathdate']]['device']\n",
    "print('Number of rows removed:', df.loc[(df['device'].isin(zombies)) & (df['date']>df['deathdate'])].shape[0])\n",
    "print(df.shape[0])\n",
    "df=df.loc[~((df['device'].isin(zombies)) & (df['date']>df['deathdate']))]\n",
    "print(df.shape[0])\n",
    "df=df.drop(['deathdate'], axis=1)"
   ]
  },
  {
   "cell_type": "markdown",
   "metadata": {},
   "source": [
    "## Feature engineering by device ID"
   ]
  },
  {
   "cell_type": "code",
   "execution_count": 21,
   "metadata": {},
   "outputs": [
    {
     "name": "stdout",
     "output_type": "stream",
     "text": [
      "2015-01-01 00:00:00\n"
     ]
    },
    {
     "name": "stderr",
     "output_type": "stream",
     "text": [
      "/home/ec2-user/anaconda3/envs/python3/lib/python3.6/site-packages/ipykernel/__main__.py:4: FutureWarning: Indexing with multiple keys (implicitly converted to a tuple of keys) will be deprecated, use a list instead.\n"
     ]
    },
    {
     "data": {
      "text/plain": [
       "2015-01-01    1163\n",
       "2015-05-06       4\n",
       "2015-01-27       1\n",
       "2015-06-13       1\n",
       "Name: date, dtype: int64"
      ]
     },
     "execution_count": 21,
     "metadata": {},
     "output_type": "execute_result"
    }
   ],
   "source": [
    "# What's the first date in the series?\n",
    "print(df['date'].min())\n",
    "# Do all devices start on this same date? No.\n",
    "bydevice=df.groupby('device')['date', 'failure'].min().reset_index(drop=False)\n",
    "bydevice['date'].value_counts()"
   ]
  },
  {
   "cell_type": "code",
   "execution_count": 22,
   "metadata": {},
   "outputs": [
    {
     "data": {
      "text/html": [
       "<div>\n",
       "<style scoped>\n",
       "    .dataframe tbody tr th:only-of-type {\n",
       "        vertical-align: middle;\n",
       "    }\n",
       "\n",
       "    .dataframe tbody tr th {\n",
       "        vertical-align: top;\n",
       "    }\n",
       "\n",
       "    .dataframe thead th {\n",
       "        text-align: right;\n",
       "    }\n",
       "</style>\n",
       "<table border=\"1\" class=\"dataframe\">\n",
       "  <thead>\n",
       "    <tr style=\"text-align: right;\">\n",
       "      <th></th>\n",
       "      <th>device</th>\n",
       "      <th>date</th>\n",
       "      <th>failure</th>\n",
       "      <th>metric2</th>\n",
       "      <th>metric3</th>\n",
       "      <th>metric4</th>\n",
       "      <th>metric5</th>\n",
       "      <th>metric6</th>\n",
       "      <th>metric7</th>\n",
       "      <th>metric9</th>\n",
       "    </tr>\n",
       "  </thead>\n",
       "  <tbody>\n",
       "    <tr>\n",
       "      <th>0</th>\n",
       "      <td>S1F01085</td>\n",
       "      <td>2015-01-01</td>\n",
       "      <td>0</td>\n",
       "      <td>56</td>\n",
       "      <td>0</td>\n",
       "      <td>52</td>\n",
       "      <td>6</td>\n",
       "      <td>407438</td>\n",
       "      <td>0</td>\n",
       "      <td>7</td>\n",
       "    </tr>\n",
       "    <tr>\n",
       "      <th>1</th>\n",
       "      <td>S1F013BB</td>\n",
       "      <td>2015-05-06</td>\n",
       "      <td>0</td>\n",
       "      <td>0</td>\n",
       "      <td>0</td>\n",
       "      <td>0</td>\n",
       "      <td>5</td>\n",
       "      <td>688952</td>\n",
       "      <td>0</td>\n",
       "      <td>0</td>\n",
       "    </tr>\n",
       "  </tbody>\n",
       "</table>\n",
       "</div>"
      ],
      "text/plain": [
       "     device       date  failure  metric2  metric3  metric4  metric5  metric6  \\\n",
       "0  S1F01085 2015-01-01        0       56        0       52        6   407438   \n",
       "1  S1F013BB 2015-05-06        0        0        0        0        5   688952   \n",
       "\n",
       "   metric7  metric9  \n",
       "0        0        7  \n",
       "1        0        0  "
      ]
     },
     "execution_count": 22,
     "metadata": {},
     "output_type": "execute_result"
    }
   ],
   "source": [
    "# creates new dataframe: one row for each device (reduces dimensions from 124K to 1163)\n",
    "dfmin=df.groupby('device').min().reset_index(drop=False)\n",
    "# same, but for max values\n",
    "dfmax=df.groupby('device').max().reset_index(drop=False)\n",
    "\n",
    "dfmin.head(2)"
   ]
  },
  {
   "cell_type": "markdown",
   "metadata": {},
   "source": [
    "Visualize a single device."
   ]
  },
  {
   "cell_type": "markdown",
   "metadata": {},
   "source": [
    "While the metrics are important, they are also not constant by device - they change over time. This calls for a time-series analysis. For the purpose of Cox regression, let's remove and focus only on device type (prefix)."
   ]
  },
  {
   "cell_type": "code",
   "execution_count": 23,
   "metadata": {},
   "outputs": [
    {
     "name": "stdout",
     "output_type": "stream",
     "text": [
      "metric2_z 633.0675791274593\n",
      "metric3_z 2.223267750213858\n",
      "metric4_z 6.098374679213003\n",
      "metric5_z 0.4679213002566296\n",
      "metric6_z 31298.350727117195\n",
      "metric7_z 4.076988879384089\n",
      "metric9_z 0.1787852865697177\n"
     ]
    }
   ],
   "source": [
    "# which metrics tend to change within a device? all of them.\n",
    "dfcompare=pd.merge(dfmax, dfmin, on='device', how='left')\n",
    "dfcompare['metric2_z']=dfcompare['metric2_x']-dfcompare['metric2_y']\n",
    "dfcompare['metric3_z']=dfcompare['metric3_x']-dfcompare['metric3_y']\n",
    "dfcompare['metric4_z']=dfcompare['metric4_x']-dfcompare['metric4_y']\n",
    "dfcompare['metric5_z']=dfcompare['metric5_x']-dfcompare['metric5_y']\n",
    "dfcompare['metric6_z']=dfcompare['metric6_x']-dfcompare['metric6_y']\n",
    "dfcompare['metric7_z']=dfcompare['metric7_x']-dfcompare['metric7_y']\n",
    "dfcompare['metric9_z']=dfcompare['metric9_x']-dfcompare['metric9_y']\n",
    "for var in ['metric2_z','metric3_z','metric4_z','metric5_z','metric6_z','metric7_z','metric9_z']:\n",
    "    print(str(var), dfcompare[var].mean())\n",
    "# this suggests that metrics change, and are an indicator of health."
   ]
  },
  {
   "cell_type": "code",
   "execution_count": 24,
   "metadata": {},
   "outputs": [
    {
     "name": "stdout",
     "output_type": "stream",
     "text": [
      "(1169, 2)\n"
     ]
    },
    {
     "data": {
      "text/html": [
       "<div>\n",
       "<style scoped>\n",
       "    .dataframe tbody tr th:only-of-type {\n",
       "        vertical-align: middle;\n",
       "    }\n",
       "\n",
       "    .dataframe tbody tr th {\n",
       "        vertical-align: top;\n",
       "    }\n",
       "\n",
       "    .dataframe thead th {\n",
       "        text-align: right;\n",
       "    }\n",
       "</style>\n",
       "<table border=\"1\" class=\"dataframe\">\n",
       "  <thead>\n",
       "    <tr style=\"text-align: right;\">\n",
       "      <th></th>\n",
       "      <th>device</th>\n",
       "      <th>mindate</th>\n",
       "    </tr>\n",
       "  </thead>\n",
       "  <tbody>\n",
       "    <tr>\n",
       "      <th>0</th>\n",
       "      <td>S1F01085</td>\n",
       "      <td>2015-01-01</td>\n",
       "    </tr>\n",
       "    <tr>\n",
       "      <th>1</th>\n",
       "      <td>S1F013BB</td>\n",
       "      <td>2015-05-06</td>\n",
       "    </tr>\n",
       "    <tr>\n",
       "      <th>2</th>\n",
       "      <td>S1F0166B</td>\n",
       "      <td>2015-01-01</td>\n",
       "    </tr>\n",
       "    <tr>\n",
       "      <th>3</th>\n",
       "      <td>S1F01E6Y</td>\n",
       "      <td>2015-01-01</td>\n",
       "    </tr>\n",
       "    <tr>\n",
       "      <th>4</th>\n",
       "      <td>S1F01JE0</td>\n",
       "      <td>2015-01-01</td>\n",
       "    </tr>\n",
       "  </tbody>\n",
       "</table>\n",
       "</div>"
      ],
      "text/plain": [
       "     device    mindate\n",
       "0  S1F01085 2015-01-01\n",
       "1  S1F013BB 2015-05-06\n",
       "2  S1F0166B 2015-01-01\n",
       "3  S1F01E6Y 2015-01-01\n",
       "4  S1F01JE0 2015-01-01"
      ]
     },
     "execution_count": 24,
     "metadata": {},
     "output_type": "execute_result"
    }
   ],
   "source": [
    "# just focus on the date for now. Create a column indicating the minimum date, for each device.\n",
    "dfmin=dfmin[['device', 'date']]\n",
    "dfmin.rename(columns={'date':'mindate'},inplace=True)\n",
    "print(dfmin.shape)\n",
    "dfmin.head()"
   ]
  },
  {
   "cell_type": "code",
   "execution_count": 25,
   "metadata": {},
   "outputs": [
    {
     "data": {
      "text/plain": [
       "S1F0    391\n",
       "W1F0    282\n",
       "Z1F0    149\n",
       "S1F1    139\n",
       "W1F1    138\n",
       "Z1F1     67\n",
       "Z1F2      3\n",
       "Name: prefix, dtype: int64"
      ]
     },
     "execution_count": 25,
     "metadata": {},
     "output_type": "execute_result"
    }
   ],
   "source": [
    "# We can group devices into 7 categories based on their device ID code\n",
    "dfmin['prefix']=dfmin['device'].apply(lambda row: row[:4])\n",
    "dfmin['prefix'].value_counts()"
   ]
  },
  {
   "cell_type": "code",
   "execution_count": 26,
   "metadata": {},
   "outputs": [
    {
     "name": "stdout",
     "output_type": "stream",
     "text": [
      "(124446, 10)\n"
     ]
    }
   ],
   "source": [
    "# merge the groupby-dataset back into primary the dataset\n",
    "print(df.shape)\n",
    "df=pd.merge(df, dfmin, on='device', how='left')"
   ]
  },
  {
   "cell_type": "code",
   "execution_count": 27,
   "metadata": {},
   "outputs": [
    {
     "data": {
      "text/plain": [
       "0      1169\n",
       "1      1168\n",
       "2      1168\n",
       "3      1167\n",
       "4      1166\n",
       "       ... \n",
       "303      31\n",
       "302      31\n",
       "301      31\n",
       "305      31\n",
       "299      31\n",
       "Name: timelapse, Length: 304, dtype: int64"
      ]
     },
     "execution_count": 27,
     "metadata": {},
     "output_type": "execute_result"
    }
   ],
   "source": [
    "# create a column to measure elapsed time.\n",
    "df['timelapse']=(df['date']-df['mindate']).dt.days\n",
    "df['timelapse'].value_counts()"
   ]
  },
  {
   "cell_type": "code",
   "execution_count": 28,
   "metadata": {},
   "outputs": [
    {
     "data": {
      "text/html": [
       "<div>\n",
       "<style scoped>\n",
       "    .dataframe tbody tr th:only-of-type {\n",
       "        vertical-align: middle;\n",
       "    }\n",
       "\n",
       "    .dataframe tbody tr th {\n",
       "        vertical-align: top;\n",
       "    }\n",
       "\n",
       "    .dataframe thead th {\n",
       "        text-align: right;\n",
       "    }\n",
       "</style>\n",
       "<table border=\"1\" class=\"dataframe\">\n",
       "  <thead>\n",
       "    <tr style=\"text-align: right;\">\n",
       "      <th></th>\n",
       "      <th>date</th>\n",
       "      <th>device</th>\n",
       "      <th>failure</th>\n",
       "      <th>metric2</th>\n",
       "      <th>metric3</th>\n",
       "      <th>metric4</th>\n",
       "      <th>metric5</th>\n",
       "      <th>metric6</th>\n",
       "      <th>metric7</th>\n",
       "      <th>metric9</th>\n",
       "      <th>mindate</th>\n",
       "      <th>prefix</th>\n",
       "      <th>timelapse</th>\n",
       "      <th>S1F0</th>\n",
       "      <th>S1F1</th>\n",
       "      <th>W1F0</th>\n",
       "      <th>W1F1</th>\n",
       "      <th>Z1F0</th>\n",
       "      <th>Z1F1</th>\n",
       "      <th>Z1F2</th>\n",
       "    </tr>\n",
       "  </thead>\n",
       "  <tbody>\n",
       "    <tr>\n",
       "      <th>0</th>\n",
       "      <td>2015-01-01</td>\n",
       "      <td>S1F01085</td>\n",
       "      <td>0</td>\n",
       "      <td>56</td>\n",
       "      <td>0</td>\n",
       "      <td>52</td>\n",
       "      <td>6</td>\n",
       "      <td>407438</td>\n",
       "      <td>0</td>\n",
       "      <td>7</td>\n",
       "      <td>2015-01-01</td>\n",
       "      <td>S1F0</td>\n",
       "      <td>0</td>\n",
       "      <td>1</td>\n",
       "      <td>0</td>\n",
       "      <td>0</td>\n",
       "      <td>0</td>\n",
       "      <td>0</td>\n",
       "      <td>0</td>\n",
       "      <td>0</td>\n",
       "    </tr>\n",
       "    <tr>\n",
       "      <th>1</th>\n",
       "      <td>2015-01-02</td>\n",
       "      <td>S1F01085</td>\n",
       "      <td>0</td>\n",
       "      <td>56</td>\n",
       "      <td>0</td>\n",
       "      <td>52</td>\n",
       "      <td>6</td>\n",
       "      <td>407438</td>\n",
       "      <td>0</td>\n",
       "      <td>7</td>\n",
       "      <td>2015-01-01</td>\n",
       "      <td>S1F0</td>\n",
       "      <td>1</td>\n",
       "      <td>1</td>\n",
       "      <td>0</td>\n",
       "      <td>0</td>\n",
       "      <td>0</td>\n",
       "      <td>0</td>\n",
       "      <td>0</td>\n",
       "      <td>0</td>\n",
       "    </tr>\n",
       "    <tr>\n",
       "      <th>2</th>\n",
       "      <td>2015-01-03</td>\n",
       "      <td>S1F01085</td>\n",
       "      <td>0</td>\n",
       "      <td>56</td>\n",
       "      <td>0</td>\n",
       "      <td>52</td>\n",
       "      <td>6</td>\n",
       "      <td>407438</td>\n",
       "      <td>0</td>\n",
       "      <td>7</td>\n",
       "      <td>2015-01-01</td>\n",
       "      <td>S1F0</td>\n",
       "      <td>2</td>\n",
       "      <td>1</td>\n",
       "      <td>0</td>\n",
       "      <td>0</td>\n",
       "      <td>0</td>\n",
       "      <td>0</td>\n",
       "      <td>0</td>\n",
       "      <td>0</td>\n",
       "    </tr>\n",
       "    <tr>\n",
       "      <th>3</th>\n",
       "      <td>2015-01-04</td>\n",
       "      <td>S1F01085</td>\n",
       "      <td>0</td>\n",
       "      <td>56</td>\n",
       "      <td>0</td>\n",
       "      <td>52</td>\n",
       "      <td>6</td>\n",
       "      <td>407439</td>\n",
       "      <td>0</td>\n",
       "      <td>7</td>\n",
       "      <td>2015-01-01</td>\n",
       "      <td>S1F0</td>\n",
       "      <td>3</td>\n",
       "      <td>1</td>\n",
       "      <td>0</td>\n",
       "      <td>0</td>\n",
       "      <td>0</td>\n",
       "      <td>0</td>\n",
       "      <td>0</td>\n",
       "      <td>0</td>\n",
       "    </tr>\n",
       "    <tr>\n",
       "      <th>4</th>\n",
       "      <td>2015-01-05</td>\n",
       "      <td>S1F01085</td>\n",
       "      <td>0</td>\n",
       "      <td>56</td>\n",
       "      <td>0</td>\n",
       "      <td>52</td>\n",
       "      <td>6</td>\n",
       "      <td>408114</td>\n",
       "      <td>0</td>\n",
       "      <td>7</td>\n",
       "      <td>2015-01-01</td>\n",
       "      <td>S1F0</td>\n",
       "      <td>4</td>\n",
       "      <td>1</td>\n",
       "      <td>0</td>\n",
       "      <td>0</td>\n",
       "      <td>0</td>\n",
       "      <td>0</td>\n",
       "      <td>0</td>\n",
       "      <td>0</td>\n",
       "    </tr>\n",
       "  </tbody>\n",
       "</table>\n",
       "</div>"
      ],
      "text/plain": [
       "        date    device  failure  metric2  metric3  metric4  metric5  metric6  \\\n",
       "0 2015-01-01  S1F01085        0       56        0       52        6   407438   \n",
       "1 2015-01-02  S1F01085        0       56        0       52        6   407438   \n",
       "2 2015-01-03  S1F01085        0       56        0       52        6   407438   \n",
       "3 2015-01-04  S1F01085        0       56        0       52        6   407439   \n",
       "4 2015-01-05  S1F01085        0       56        0       52        6   408114   \n",
       "\n",
       "   metric7  metric9    mindate prefix  timelapse  S1F0  S1F1  W1F0  W1F1  \\\n",
       "0        0        7 2015-01-01   S1F0          0     1     0     0     0   \n",
       "1        0        7 2015-01-01   S1F0          1     1     0     0     0   \n",
       "2        0        7 2015-01-01   S1F0          2     1     0     0     0   \n",
       "3        0        7 2015-01-01   S1F0          3     1     0     0     0   \n",
       "4        0        7 2015-01-01   S1F0          4     1     0     0     0   \n",
       "\n",
       "   Z1F0  Z1F1  Z1F2  \n",
       "0     0     0     0  \n",
       "1     0     0     0  \n",
       "2     0     0     0  \n",
       "3     0     0     0  \n",
       "4     0     0     0  "
      ]
     },
     "execution_count": 28,
     "metadata": {},
     "output_type": "execute_result"
    }
   ],
   "source": [
    "# one-hot encoding of device prefix\n",
    "ohe=pd.get_dummies(df['prefix'])\n",
    "df=pd.concat([df, ohe],axis=1)\n",
    "df.drop(['prefix'],axis=1)\n",
    "df.head()"
   ]
  },
  {
   "cell_type": "code",
   "execution_count": 29,
   "metadata": {},
   "outputs": [
    {
     "name": "stdout",
     "output_type": "stream",
     "text": [
      "305\n"
     ]
    }
   ],
   "source": [
    "# What's the longest-lived device that failed?\n",
    "print(df['timelapse'].max())\n",
    "df.loc[(df['timelapse']>=280) & (df['failure']==1)]['device'].unique()\n",
    "T0B1=df.loc[df['device']=='W1F0T0B1']"
   ]
  },
  {
   "cell_type": "code",
   "execution_count": 30,
   "metadata": {},
   "outputs": [
    {
     "data": {
      "image/png": "[encoded data removed]",
      "text/plain": [
       "<Figure size 1152x144 with 1 Axes>"
      ]
     },
     "metadata": {
      "needs_background": "light"
     },
     "output_type": "display_data"
    },
    {
     "data": {
      "image/png": "[encoded data removed]",
      "text/plain": [
       "<Figure size 1152x144 with 1 Axes>"
      ]
     },
     "metadata": {
      "needs_background": "light"
     },
     "output_type": "display_data"
    },
    {
     "data": {
      "image/png": "[encoded data removed]",
      "text/plain": [
       "<Figure size 1152x144 with 1 Axes>"
      ]
     },
     "metadata": {
      "needs_background": "light"
     },
     "output_type": "display_data"
    },
    {
     "data": {
      "image/png": "[encoded data removed]",
      "text/plain": [
       "<Figure size 1152x144 with 1 Axes>"
      ]
     },
     "metadata": {
      "needs_background": "light"
     },
     "output_type": "display_data"
    },
    {
     "data": {
      "image/png": "[encoded data removed]",
      "text/plain": [
       "<Figure size 1152x144 with 1 Axes>"
      ]
     },
     "metadata": {
      "needs_background": "light"
     },
     "output_type": "display_data"
    },
    {
     "data": {
      "image/png": "[encoded data removed]",
      "text/plain": [
       "<Figure size 1152x144 with 1 Axes>"
      ]
     },
     "metadata": {
      "needs_background": "light"
     },
     "output_type": "display_data"
    },
    {
     "data": {
      "image/png": "[encoded data removed]",
      "text/plain": [
       "<Figure size 1152x144 with 1 Axes>"
      ]
     },
     "metadata": {
      "needs_background": "light"
     },
     "output_type": "display_data"
    },
    {
     "data": {
      "image/png": "[encoded data removed]",
      "text/plain": [
       "<Figure size 1152x144 with 1 Axes>"
      ]
     },
     "metadata": {
      "needs_background": "light"
     },
     "output_type": "display_data"
    }
   ],
   "source": [
    "# display the metrics for one device\n",
    "metrics=['metric2','metric3','metric4','metric5','metric6','metric7','metric9','failure']\n",
    "for num in range(len(metrics)):\n",
    "    plt.figure(figsize=(16,2))\n",
    "    plt.plot(T0B1['timelapse'], T0B1[metrics[num]], color = 'r')\n",
    "    plt.xlabel(metrics[num])\n",
    "    plt.ylabel(\"Range\")\n",
    "    plt.show()"
   ]
  },
  {
   "cell_type": "code",
   "execution_count": 31,
   "metadata": {},
   "outputs": [
    {
     "name": "stdout",
     "output_type": "stream",
     "text": [
      "0    228\n",
      "1     54\n",
      "2     19\n",
      "3      2\n",
      "8      1\n",
      "Name: failure, dtype: int64\n"
     ]
    },
    {
     "data": {
      "image/png": "[encoded data removed]",
      "text/plain": [
       "<Figure size 1152x144 with 1 Axes>"
      ]
     },
     "metadata": {
      "needs_background": "light"
     },
     "output_type": "display_data"
    }
   ],
   "source": [
    "# on any given day, a certain number of devices failed.\n",
    "\n",
    "timefail=pd.DataFrame(df.groupby('timelapse')['failure'].sum())\n",
    "print(timefail['failure'].value_counts()) \n",
    "plt.figure(figsize=(16,2))\n",
    "plt.plot(timefail , color = 'r');"
   ]
  },
  {
   "cell_type": "markdown",
   "metadata": {},
   "source": [
    "# Part 2. Modeling"
   ]
  },
  {
   "cell_type": "markdown",
   "metadata": {},
   "source": [
    "## A. Cox regression analysis"
   ]
  },
  {
   "cell_type": "markdown",
   "metadata": {},
   "source": [
    "The Cox proportional hazards model (1972) is widely used in multivariate survival statistics due to a relatively easy implementation and informative interpretation. It describes relationships between survival distribution and covariates. The Cox model makes an estimation of log-risk function λ(t|x) as a linear combination of its static covariates and baseline hazard."
   ]
  },
  {
   "cell_type": "code",
   "execution_count": 171,
   "metadata": {},
   "outputs": [
    {
     "name": "stdout",
     "output_type": "stream",
     "text": [
      "(1169, 3)\n"
     ]
    },
    {
     "data": {
      "text/html": [
       "<div>\n",
       "<style scoped>\n",
       "    .dataframe tbody tr th:only-of-type {\n",
       "        vertical-align: middle;\n",
       "    }\n",
       "\n",
       "    .dataframe tbody tr th {\n",
       "        vertical-align: top;\n",
       "    }\n",
       "\n",
       "    .dataframe thead th {\n",
       "        text-align: right;\n",
       "    }\n",
       "</style>\n",
       "<table border=\"1\" class=\"dataframe\">\n",
       "  <thead>\n",
       "    <tr style=\"text-align: right;\">\n",
       "      <th></th>\n",
       "      <th>failure</th>\n",
       "      <th>prefix</th>\n",
       "      <th>timelapse</th>\n",
       "    </tr>\n",
       "    <tr>\n",
       "      <th>device</th>\n",
       "      <th></th>\n",
       "      <th></th>\n",
       "      <th></th>\n",
       "    </tr>\n",
       "  </thead>\n",
       "  <tbody>\n",
       "    <tr>\n",
       "      <th>Z1F1VMZB</th>\n",
       "      <td>0</td>\n",
       "      <td>Z1F1</td>\n",
       "      <td>291</td>\n",
       "    </tr>\n",
       "    <tr>\n",
       "      <th>Z1F1VQFY</th>\n",
       "      <td>1</td>\n",
       "      <td>Z1F1</td>\n",
       "      <td>180</td>\n",
       "    </tr>\n",
       "    <tr>\n",
       "      <th>Z1F26YZB</th>\n",
       "      <td>0</td>\n",
       "      <td>Z1F2</td>\n",
       "      <td>83</td>\n",
       "    </tr>\n",
       "    <tr>\n",
       "      <th>Z1F282ZV</th>\n",
       "      <td>0</td>\n",
       "      <td>Z1F2</td>\n",
       "      <td>83</td>\n",
       "    </tr>\n",
       "    <tr>\n",
       "      <th>Z1F2PBHX</th>\n",
       "      <td>0</td>\n",
       "      <td>Z1F2</td>\n",
       "      <td>95</td>\n",
       "    </tr>\n",
       "  </tbody>\n",
       "</table>\n",
       "</div>"
      ],
      "text/plain": [
       "          failure prefix  timelapse\n",
       "device                             \n",
       "Z1F1VMZB        0   Z1F1        291\n",
       "Z1F1VQFY        1   Z1F1        180\n",
       "Z1F26YZB        0   Z1F2         83\n",
       "Z1F282ZV        0   Z1F2         83\n",
       "Z1F2PBHX        0   Z1F2         95"
      ]
     },
     "execution_count": 171,
     "metadata": {},
     "output_type": "execute_result"
    }
   ],
   "source": [
    "# because metrics tend to vary over time, they're not fixed variables by device.\n",
    "# device prefix does not vary, and thus serves as an independent variable.\n",
    "coxdf = df[['device', 'failure', 'prefix', 'timelapse']]\n",
    "coxdf = coxdf.groupby('device').max()\n",
    "print(coxdf.shape)\n",
    "coxdf.tail()"
   ]
  },
  {
   "cell_type": "code",
   "execution_count": 172,
   "metadata": {},
   "outputs": [
    {
     "data": {
      "text/html": [
       "<div>\n",
       "<style scoped>\n",
       "    .dataframe tbody tr th:only-of-type {\n",
       "        vertical-align: middle;\n",
       "    }\n",
       "\n",
       "    .dataframe tbody tr th {\n",
       "        vertical-align: top;\n",
       "    }\n",
       "\n",
       "    .dataframe thead th {\n",
       "        text-align: right;\n",
       "    }\n",
       "</style>\n",
       "<table border=\"1\" class=\"dataframe\">\n",
       "  <thead>\n",
       "    <tr style=\"text-align: right;\">\n",
       "      <th></th>\n",
       "      <th>failure</th>\n",
       "      <th>prefix</th>\n",
       "      <th>timelapse</th>\n",
       "      <th>S1F0</th>\n",
       "      <th>S1F1</th>\n",
       "      <th>W1F0</th>\n",
       "      <th>W1F1</th>\n",
       "      <th>Z1F0</th>\n",
       "      <th>Z1F1</th>\n",
       "      <th>Z1F2</th>\n",
       "    </tr>\n",
       "    <tr>\n",
       "      <th>device</th>\n",
       "      <th></th>\n",
       "      <th></th>\n",
       "      <th></th>\n",
       "      <th></th>\n",
       "      <th></th>\n",
       "      <th></th>\n",
       "      <th></th>\n",
       "      <th></th>\n",
       "      <th></th>\n",
       "      <th></th>\n",
       "    </tr>\n",
       "  </thead>\n",
       "  <tbody>\n",
       "    <tr>\n",
       "      <th>S1F01085</th>\n",
       "      <td>0</td>\n",
       "      <td>S1F0</td>\n",
       "      <td>5</td>\n",
       "      <td>1</td>\n",
       "      <td>0</td>\n",
       "      <td>0</td>\n",
       "      <td>0</td>\n",
       "      <td>0</td>\n",
       "      <td>0</td>\n",
       "      <td>0</td>\n",
       "    </tr>\n",
       "    <tr>\n",
       "      <th>S1F013BB</th>\n",
       "      <td>0</td>\n",
       "      <td>S1F0</td>\n",
       "      <td>5</td>\n",
       "      <td>1</td>\n",
       "      <td>0</td>\n",
       "      <td>0</td>\n",
       "      <td>0</td>\n",
       "      <td>0</td>\n",
       "      <td>0</td>\n",
       "      <td>0</td>\n",
       "    </tr>\n",
       "    <tr>\n",
       "      <th>S1F0166B</th>\n",
       "      <td>0</td>\n",
       "      <td>S1F0</td>\n",
       "      <td>5</td>\n",
       "      <td>1</td>\n",
       "      <td>0</td>\n",
       "      <td>0</td>\n",
       "      <td>0</td>\n",
       "      <td>0</td>\n",
       "      <td>0</td>\n",
       "      <td>0</td>\n",
       "    </tr>\n",
       "    <tr>\n",
       "      <th>S1F01E6Y</th>\n",
       "      <td>0</td>\n",
       "      <td>S1F0</td>\n",
       "      <td>47</td>\n",
       "      <td>1</td>\n",
       "      <td>0</td>\n",
       "      <td>0</td>\n",
       "      <td>0</td>\n",
       "      <td>0</td>\n",
       "      <td>0</td>\n",
       "      <td>0</td>\n",
       "    </tr>\n",
       "    <tr>\n",
       "      <th>S1F01JE0</th>\n",
       "      <td>0</td>\n",
       "      <td>S1F0</td>\n",
       "      <td>5</td>\n",
       "      <td>1</td>\n",
       "      <td>0</td>\n",
       "      <td>0</td>\n",
       "      <td>0</td>\n",
       "      <td>0</td>\n",
       "      <td>0</td>\n",
       "      <td>0</td>\n",
       "    </tr>\n",
       "  </tbody>\n",
       "</table>\n",
       "</div>"
      ],
      "text/plain": [
       "          failure prefix  timelapse  S1F0  S1F1  W1F0  W1F1  Z1F0  Z1F1  Z1F2\n",
       "device                                                                       \n",
       "S1F01085        0   S1F0          5     1     0     0     0     0     0     0\n",
       "S1F013BB        0   S1F0          5     1     0     0     0     0     0     0\n",
       "S1F0166B        0   S1F0          5     1     0     0     0     0     0     0\n",
       "S1F01E6Y        0   S1F0         47     1     0     0     0     0     0     0\n",
       "S1F01JE0        0   S1F0          5     1     0     0     0     0     0     0"
      ]
     },
     "execution_count": 172,
     "metadata": {},
     "output_type": "execute_result"
    }
   ],
   "source": [
    "# one-hot encoding of device prefix\n",
    "ohe=pd.get_dummies(coxdf['prefix'])\n",
    "coxdf=pd.concat([coxdf, ohe],axis=1)\n",
    "coxdf.head()"
   ]
  },
  {
   "cell_type": "markdown",
   "metadata": {},
   "source": [
    "Survival models in scikit-survival follow the same rules as estimators in scikit-learn, i.e., they have a fit method, which expects a data matrix and a structured array of survival times and binary event indicators."
   ]
  },
  {
   "cell_type": "code",
   "execution_count": 173,
   "metadata": {},
   "outputs": [
    {
     "data": {
      "text/plain": [
       "Index(['S1F1', 'W1F0', 'W1F1', 'Z1F0', 'Z1F1', 'Z1F2'], dtype='object')"
      ]
     },
     "execution_count": 173,
     "metadata": {},
     "output_type": "execute_result"
    }
   ],
   "source": [
    "# We drop one category for comparison purposes (intercept)\n",
    "X=coxdf.drop(['prefix','failure','timelapse','S1F0'],axis=1)\n",
    "X.columns"
   ]
  },
  {
   "cell_type": "code",
   "execution_count": 174,
   "metadata": {},
   "outputs": [
    {
     "data": {
      "text/plain": [
       "rec.array([(False,  5), (False,  5), (False,  5), (False, 47),\n",
       "           (False,  5)],\n",
       "          dtype=[('failure', '?'), ('timelapse', '<i8')])"
      ]
     },
     "execution_count": 174,
     "metadata": {},
     "output_type": "execute_result"
    }
   ],
   "source": [
    "# Convert time & failure into a structured array of booleans\n",
    "coxdf['failure']=coxdf['failure'].astype('bool')\n",
    "y=coxdf[['failure','timelapse']].to_records(index=False)\n",
    "y[:5]"
   ]
  },
  {
   "cell_type": "code",
   "execution_count": 175,
   "metadata": {},
   "outputs": [],
   "source": [
    "# Split our data with a test size of 30%\n",
    "X_train, X_test, y_train, y_test = train_test_split(X, y, test_size=0.3)"
   ]
  },
  {
   "cell_type": "code",
   "execution_count": 176,
   "metadata": {},
   "outputs": [
    {
     "data": {
      "text/plain": [
       "CoxPHSurvivalAnalysis()"
      ]
     },
     "execution_count": 176,
     "metadata": {},
     "output_type": "execute_result"
    }
   ],
   "source": [
    "# Instantiate and fit the estimator\n",
    "estimator = CoxPHSurvivalAnalysis()\n",
    "estimator.fit(X_train, y_train)"
   ]
  },
  {
   "cell_type": "markdown",
   "metadata": {},
   "source": [
    "In survival analysis, the hazard ratio (HR) is the ratio of the hazard rates corresponding to the conditions described by two levels of an explanatory variable. Each coefficient is a hazard ratio for that specific variable. \n",
    "\n",
    "- A positive sign increases the baseline hazard λ0(t) and denotes that this covariate affects a higher risk of experiencing the event of interest. In contrary, a negative sign means that the risk of the event is lower.\n",
    "- For example, in a drug study, the treated population may die at twice the rate per unit time of the control population. The hazard ratio would be 2, indicating higher hazard of death from the treatment."
   ]
  },
  {
   "cell_type": "code",
   "execution_count": 177,
   "metadata": {},
   "outputs": [
    {
     "data": {
      "text/plain": [
       "S1F1    -1.161829\n",
       "W1F0     0.103493\n",
       "W1F1    -0.120275\n",
       "Z1F0    -0.467990\n",
       "Z1F1     0.274639\n",
       "Z1F2   -13.208673\n",
       "dtype: float64"
      ]
     },
     "execution_count": 177,
     "metadata": {},
     "output_type": "execute_result"
    }
   ],
   "source": [
    "# extract coefficients\n",
    "pd.Series(estimator.coef_, index=X_train.columns)"
   ]
  },
  {
   "cell_type": "markdown",
   "metadata": {},
   "source": [
    "the `predict_survival_function` method returns a sequence of step functions, which we can plot. This shows the probability of a device not failing, for a given point in time (measured in days since device activation)."
   ]
  },
  {
   "cell_type": "code",
   "execution_count": 178,
   "metadata": {},
   "outputs": [
    {
     "data": {
      "image/png": "[encoded data removed]",
      "text/plain": [
       "<Figure size 864x360 with 1 Axes>"
      ]
     },
     "metadata": {
      "needs_background": "light"
     },
     "output_type": "display_data"
    }
   ],
   "source": [
    "# create 7 new cases\n",
    "x_new = pd.DataFrame.from_dict({\n",
    "    1: [1,0,0,0,0,0],\n",
    "    2: [0,1,0,0,0,0],\n",
    "    3: [0,0,1,0,0,0],\n",
    "    4: [0,0,0,1,0,0],\n",
    "    5: [0,0,0,0,1,0],\n",
    "    6: [0,0,0,0,0,1]\n",
    "},\n",
    "     columns=X_train.columns, orient='index')\n",
    "\n",
    "# list the device categories\n",
    "device_types=list(X_train.columns)\n",
    "# display as curves\n",
    "pred_surv = estimator.predict_survival_function(x_new)\n",
    "time_points = np.arange(3, 305)\n",
    "plt.figure(figsize=(12,5))\n",
    "for i, surv_func in enumerate(pred_surv):\n",
    "    plt.step(time_points, surv_func(time_points), where=\"post\",\n",
    "             label=device_types[i])\n",
    "plt.ylabel(\"est. probability of survival $\\hat{S}(t)$\")\n",
    "plt.xlabel(\"time $t$\")\n",
    "plt.legend(loc=\"best\");"
   ]
  },
  {
   "cell_type": "markdown",
   "metadata": {},
   "source": [
    "### Evaluation of Cox Regression"
   ]
  },
  {
   "cell_type": "markdown",
   "metadata": {},
   "source": [
    "The most frequently used evaluation metric of survival models is the concordance index (c index, c statistic).  It is a measure of rank correlation between predicted risk scores f and observed time points y. Metrics like root mean squared error or correlation are unsuitable due to censoring.  The interpretation is identical to the traditional area under the ROC curve metric for binary classification: \n",
    "- a value of 0.5 denotes a random model, \n",
    "- a value of 1.0 denotes a perfect model, \n",
    "- a value of 0.0 denotes a perfectly wrong model."
   ]
  },
  {
   "cell_type": "code",
   "execution_count": 179,
   "metadata": {},
   "outputs": [
    {
     "name": "stdout",
     "output_type": "stream",
     "text": [
      "0.5826529887831889\n",
      "0.6220090963021554\n"
     ]
    }
   ],
   "source": [
    "# Measuring the Performance of the Survival Model\n",
    "print(estimator.score(X_train,y_train))\n",
    "cox_reg_score=estimator.score(X_test,y_test)\n",
    "print(cox_reg_score)"
   ]
  },
  {
   "cell_type": "markdown",
   "metadata": {},
   "source": [
    "Our model's c-index indicates that the model performs better than random chance, but is far from perfect. This is likely because we removed all of the attribute variables (metrics 2-9) from the analysis, which could have served as predictors. What this tells us is that lifespan, by itself, is not a strong predictor of when a device will fail (i.e., simply being old by itself is not necessarily a predictor of failure).  \n",
    "\n",
    "A different approach (time series analysis) can take into account the device metrics which likely indicate upcoming failure."
   ]
  },
  {
   "cell_type": "markdown",
   "metadata": {},
   "source": [
    "## B. Multi-Task Logistic Regression (MTLR) "
   ]
  },
  {
   "cell_type": "markdown",
   "metadata": {},
   "source": [
    "When it comes to predicting the survival function for a specific unit, the Cox Proportional Hazard Model is usually the go-to model. However, it presents some important drawbacks:\n",
    "\n",
    "- It relies on the proportional hazard assumption, which specifies that the ratio of the hazards for any two individuals is constant over time.\n",
    "- The exact formula of the model that can handle ties isn’t computationally efficient, and is often rewritten using approximations, such as the Efron’s or Breslow’s approximations, in order to fit the model in a reasonable time.\n",
    "- The fact that the time component of the hazard function remains unspecified makes the CoxPH model ill-suited for actual survival function predictions.  \n",
    "\n",
    "The [Multi-Task Logistic Regression models](https://square.github.io/pysurvival/models/mtlr_theory.html) were therefore introduced to provide great alternatives."
   ]
  },
  {
   "cell_type": "markdown",
   "metadata": {},
   "source": [
    "The [Linear Multi-Task Logistic Regression (MTLR) model](https://square.github.io/pysurvival/models/linear_mtlr.html) is an alternative to the Cox’s proportional hazard model. It can be seen as a series of logistic regression models built on different time intervals so as to estimate the probability that the event of interest happened within each interval.\n",
    "\n",
    "The model was introduced by Yu, Chun-Nam, et al. in 2011"
   ]
  },
  {
   "cell_type": "markdown",
   "metadata": {},
   "source": [
    "### Train-test split "
   ]
  },
  {
   "cell_type": "code",
   "execution_count": 41,
   "metadata": {},
   "outputs": [
    {
     "name": "stdout",
     "output_type": "stream",
     "text": [
      "467\n",
      "['S1F0CVDS', 'W1F1CAKS', 'Z1F0L7PX', 'S1F04TS4', 'S1F115Z6']\n"
     ]
    }
   ],
   "source": [
    "# randomly select device ID numbers for train-test split\n",
    "import random\n",
    "device_ids=list(df['device'].unique())\n",
    "test_size=int(len(device_ids)*.4)\n",
    "print(test_size)\n",
    "random.seed(10)\n",
    "test_list = random.sample(device_ids, test_size)\n",
    "print(test_list[:5])"
   ]
  },
  {
   "cell_type": "code",
   "execution_count": 42,
   "metadata": {},
   "outputs": [
    {
     "name": "stdout",
     "output_type": "stream",
     "text": [
      "124446\n",
      "71731\n",
      "52715\n"
     ]
    }
   ],
   "source": [
    "# train-test split\n",
    "data_test = df[df['device'].isin(test_list)]\n",
    "data_train = df[~df['device'].isin(test_list)]\n",
    "print(len(df))\n",
    "print(len(data_train))\n",
    "print(len(data_test))\n",
    "assert len(data_train)+len(data_test)==len(df)"
   ]
  },
  {
   "cell_type": "code",
   "execution_count": 43,
   "metadata": {},
   "outputs": [],
   "source": [
    "# let's try with just a single predictor. Adding additional predictors produced inferior results.\n",
    "features = [\n",
    "#             'metric2', \n",
    "#             'metric3', \n",
    "#             'metric4', \n",
    "#             'metric5', \n",
    "            'metric6', \n",
    "#             'metric7',\n",
    "#             'metric9',\n",
    "#             'S1F0', 'S1F1', 'W1F0', 'W1F1', 'Z1F0', 'Z1F1', 'Z1F2'\n",
    "           ]"
   ]
  },
  {
   "cell_type": "code",
   "execution_count": 44,
   "metadata": {},
   "outputs": [],
   "source": [
    "# Creating the X, T and E inputs\n",
    "X_train, X_test = data_train[features], data_test[features]\n",
    "T_train, T_test = data_train['timelapse'], data_test['timelapse']\n",
    "E_train, E_test = data_train['failure'], data_test['failure']"
   ]
  },
  {
   "cell_type": "code",
   "execution_count": 46,
   "metadata": {},
   "outputs": [
    {
     "name": "stderr",
     "output_type": "stream",
     "text": [
      "% Completion: 100%|*********************************************|Loss: 33473.55\n"
     ]
    },
    {
     "data": {
      "text/plain": [
       "LinearMultiTaskModel"
      ]
     },
     "execution_count": 46,
     "metadata": {},
     "output_type": "execute_result"
    }
   ],
   "source": [
    "# Let's now fit a Linear MTLR model to the training set. \n",
    "from pysurvival.models.multi_task import LinearMultiTaskModel\n",
    "\n",
    "# Initializing the MTLR with a time axis split into 300 intervals\n",
    "linear_mtlr = LinearMultiTaskModel(bins=300)\n",
    "\n",
    "# Fitting the model\n",
    "linear_mtlr.fit(X_train, T_train, E_train, \n",
    "                num_epochs = 500,\n",
    "                init_method = 'orthogonal', \n",
    "                optimizer ='rmsprop',\n",
    "                lr = 1e-6, \n",
    "                l2_reg = 3,  \n",
    "                l2_smooth = 3\n",
    "               )"
   ]
  },
  {
   "cell_type": "code",
   "execution_count": 47,
   "metadata": {},
   "outputs": [
    {
     "data": {
      "image/png": "[encoded data removed]",
      "text/plain": [
       "<Figure size 504x288 with 1 Axes>"
      ]
     },
     "metadata": {
      "needs_background": "light"
     },
     "output_type": "display_data"
    }
   ],
   "source": [
    "from pysurvival.utils.display import display_loss_values\n",
    "display_loss_values(linear_mtlr, figure_size=(7, 4))"
   ]
  },
  {
   "cell_type": "markdown",
   "metadata": {},
   "source": [
    "The [Concordance Index](https://square.github.io/pysurvival/metrics/c_index.html) or C-index is a generalization of the area under the ROC curve (AUC) that can take into account censored data. It represents the global assessment of the model discrimination power: this is the model’s ability to correctly provide a reliable ranking of the survival times based on the individual risk scores. In general, when the C-index is close to 1, the model has an almost perfect discriminatory power; but if it is close to 0.5, it has no ability to discriminate between low and high risk subjects."
   ]
  },
  {
   "cell_type": "code",
   "execution_count": 48,
   "metadata": {},
   "outputs": [
    {
     "name": "stdout",
     "output_type": "stream",
     "text": [
      "C-index: 0.62\n"
     ]
    }
   ],
   "source": [
    "from pysurvival.utils.metrics import concordance_index\n",
    "linear_mtlr_c_index = concordance_index(linear_mtlr, X_test, T_test, E_test)\n",
    "print('C-index: {:.2f}'.format(linear_mtlr_c_index)) "
   ]
  },
  {
   "cell_type": "markdown",
   "metadata": {},
   "source": [
    "## C. Feed-Forward Neural Network"
   ]
  },
  {
   "cell_type": "markdown",
   "metadata": {},
   "source": [
    "The [Neural Multi-Task Logistic Regression model](https://square.github.io/pysurvival/models/neural_mtlr.html) (N-MTLR) was presented in Deep Neural Networks for Survival Analysis Based on a Multi-Task Framework allowing the use of Neural Networks within the original MTLR design. Although the MTLR model provides similar results as the CoxPH model without having to rely on the assumptions required by the latter, at its core, it is still powered by a linear transformation. Thus, in the presence of nonlinear elements in the data, it will stop yielding satisfactory performances. The Neural Multi-Task Logistic Regression (N-MTLR) which allows the use of Neural Networks within the original MTLR design, will help solve this issue."
   ]
  },
  {
   "cell_type": "code",
   "execution_count": 190,
   "metadata": {},
   "outputs": [],
   "source": [
    "# make a list of features\n",
    "features = [\n",
    "            'metric2', \n",
    "            'metric3', \n",
    "            'metric4', \n",
    "            'metric5', \n",
    "            'metric6', \n",
    "            'metric7',\n",
    "            'metric9',\n",
    "            'S1F0', 'S1F1', 'W1F0', 'W1F1', 'Z1F0', 'Z1F1', 'Z1F2'\n",
    "           ]"
   ]
  },
  {
   "cell_type": "code",
   "execution_count": 191,
   "metadata": {},
   "outputs": [],
   "source": [
    "# Creating the X, T and E inputs\n",
    "X_train, X_test = data_train[features], data_test[features]\n",
    "T_train, T_test = data_train['timelapse'], data_test['timelapse']\n",
    "E_train, E_test = data_train['failure'], data_test['failure']"
   ]
  },
  {
   "cell_type": "markdown",
   "metadata": {},
   "source": [
    "The `structure` parameter provides the structure of the MLP built within the N-MTLR.\n",
    "- `num_units` is the number of hidden units in this layer\n",
    "- `activation` is the activation function that will be used. "
   ]
  },
  {
   "cell_type": "code",
   "execution_count": 51,
   "metadata": {},
   "outputs": [],
   "source": [
    "# Instantiate\n",
    "from pysurvival.models.multi_task import NeuralMultiTaskModel\n",
    "structure = [{'activation': 'Tanh', 'num_units': 60},  \n",
    "             {'activation': 'ReLU', 'num_units': 60},\n",
    "             {'activation': 'ReLU', 'num_units': 60},\n",
    "               ]\n",
    "neural_mtlm = NeuralMultiTaskModel(structure, bins=100, auto_scaler=True)"
   ]
  },
  {
   "cell_type": "code",
   "execution_count": 53,
   "metadata": {},
   "outputs": [
    {
     "name": "stderr",
     "output_type": "stream",
     "text": [
      "% Completion: 100%|***********************************************|Loss: 456.14\n"
     ]
    },
    {
     "data": {
      "text/plain": [
       "NeuralMultiTaskModel( Layer(1): activation = Tanh, units = 60 ; \n",
       "                      Layer(2): activation = ReLU, units = 60 ; \n",
       "                      Layer(3): activation = ReLU, units = 60 )"
      ]
     },
     "execution_count": 53,
     "metadata": {},
     "output_type": "execute_result"
    }
   ],
   "source": [
    "# Fitting the model\n",
    "neural_mtlm.fit(X_train, T_train, E_train, \n",
    "                init_method = 'glorot_uniform', \n",
    "                optimizer ='adam',\n",
    "                lr = 1e-3, \n",
    "                num_epochs = 1000, \n",
    "                dropout = 0.2, \n",
    "                l2_reg=1e-2,\n",
    "                l2_smooth=1e-2, \n",
    "                batch_normalization=False, \n",
    "                bn_and_dropout=False,\n",
    "                verbose=True, \n",
    "                extra_pct_time = 0.1, \n",
    "                is_min_time_zero=True)"
   ]
  },
  {
   "cell_type": "code",
   "execution_count": 54,
   "metadata": {},
   "outputs": [
    {
     "data": {
      "image/png": "[encoded data removed]",
      "text/plain": [
       "<Figure size 504x288 with 1 Axes>"
      ]
     },
     "metadata": {
      "needs_background": "light"
     },
     "output_type": "display_data"
    }
   ],
   "source": [
    "# loss function values\n",
    "display_loss_values(neural_mtlm, figure_size=(7, 4))"
   ]
  },
  {
   "cell_type": "code",
   "execution_count": 55,
   "metadata": {},
   "outputs": [
    {
     "name": "stdout",
     "output_type": "stream",
     "text": [
      "C-index: 0.96\n"
     ]
    }
   ],
   "source": [
    "# evaluation\n",
    "neural_c_index = concordance_index(neural_mtlm, X_test, T_test, E_test)\n",
    "print('C-index: {:.2f}'.format(neural_c_index)) "
   ]
  },
  {
   "cell_type": "markdown",
   "metadata": {},
   "source": [
    "let's compare the time series of the actual and predicted number of device failures."
   ]
  },
  {
   "cell_type": "code",
   "execution_count": 56,
   "metadata": {},
   "outputs": [
    {
     "data": {
      "image/png": "[encoded data removed]",
      "text/plain": [
       "<Figure size 1152x432 with 1 Axes>"
      ]
     },
     "metadata": {
      "needs_background": "light"
     },
     "output_type": "display_data"
    }
   ],
   "source": [
    "from pysurvival.utils.display import compare_to_actual\n",
    "results = compare_to_actual(neural_mtlm, X_test, T_test, E_test,\n",
    "                            is_at_risk = False,  figure_size=(16, 6),\n",
    "                            metrics = ['rmse', 'mean', 'median'])"
   ]
  },
  {
   "cell_type": "markdown",
   "metadata": {},
   "source": [
    "### Predicting on new data"
   ]
  },
  {
   "cell_type": "code",
   "execution_count": 186,
   "metadata": {},
   "outputs": [
    {
     "data": {
      "text/html": [
       "<div>\n",
       "<style scoped>\n",
       "    .dataframe tbody tr th:only-of-type {\n",
       "        vertical-align: middle;\n",
       "    }\n",
       "\n",
       "    .dataframe tbody tr th {\n",
       "        vertical-align: top;\n",
       "    }\n",
       "\n",
       "    .dataframe thead th {\n",
       "        text-align: right;\n",
       "    }\n",
       "</style>\n",
       "<table border=\"1\" class=\"dataframe\">\n",
       "  <thead>\n",
       "    <tr style=\"text-align: right;\">\n",
       "      <th></th>\n",
       "      <th>date</th>\n",
       "      <th>device</th>\n",
       "      <th>failure</th>\n",
       "      <th>metric2</th>\n",
       "      <th>metric3</th>\n",
       "      <th>metric4</th>\n",
       "      <th>metric5</th>\n",
       "      <th>metric6</th>\n",
       "      <th>metric7</th>\n",
       "      <th>metric9</th>\n",
       "      <th>mindate</th>\n",
       "      <th>prefix</th>\n",
       "      <th>timelapse</th>\n",
       "      <th>S1F0</th>\n",
       "      <th>S1F1</th>\n",
       "      <th>W1F0</th>\n",
       "      <th>W1F1</th>\n",
       "      <th>Z1F0</th>\n",
       "      <th>Z1F1</th>\n",
       "      <th>Z1F2</th>\n",
       "    </tr>\n",
       "  </thead>\n",
       "  <tbody>\n",
       "    <tr>\n",
       "      <th>68967</th>\n",
       "      <td>2015-10-25</td>\n",
       "      <td>W1F0T0B1</td>\n",
       "      <td>0</td>\n",
       "      <td>0</td>\n",
       "      <td>0</td>\n",
       "      <td>7</td>\n",
       "      <td>9</td>\n",
       "      <td>354072</td>\n",
       "      <td>22</td>\n",
       "      <td>0</td>\n",
       "      <td>2015-01-01</td>\n",
       "      <td>W1F0</td>\n",
       "      <td>297</td>\n",
       "      <td>0</td>\n",
       "      <td>0</td>\n",
       "      <td>1</td>\n",
       "      <td>0</td>\n",
       "      <td>0</td>\n",
       "      <td>0</td>\n",
       "      <td>0</td>\n",
       "    </tr>\n",
       "    <tr>\n",
       "      <th>68968</th>\n",
       "      <td>2015-10-26</td>\n",
       "      <td>W1F0T0B1</td>\n",
       "      <td>1</td>\n",
       "      <td>0</td>\n",
       "      <td>0</td>\n",
       "      <td>7</td>\n",
       "      <td>9</td>\n",
       "      <td>354861</td>\n",
       "      <td>22</td>\n",
       "      <td>0</td>\n",
       "      <td>2015-01-01</td>\n",
       "      <td>W1F0</td>\n",
       "      <td>298</td>\n",
       "      <td>0</td>\n",
       "      <td>0</td>\n",
       "      <td>1</td>\n",
       "      <td>0</td>\n",
       "      <td>0</td>\n",
       "      <td>0</td>\n",
       "      <td>0</td>\n",
       "    </tr>\n",
       "  </tbody>\n",
       "</table>\n",
       "</div>"
      ],
      "text/plain": [
       "            date    device  failure  metric2  metric3  metric4  metric5  \\\n",
       "68967 2015-10-25  W1F0T0B1        0        0        0        7        9   \n",
       "68968 2015-10-26  W1F0T0B1        1        0        0        7        9   \n",
       "\n",
       "       metric6  metric7  metric9    mindate prefix  timelapse  S1F0  S1F1  \\\n",
       "68967   354072       22        0 2015-01-01   W1F0        297     0     0   \n",
       "68968   354861       22        0 2015-01-01   W1F0        298     0     0   \n",
       "\n",
       "       W1F0  W1F1  Z1F0  Z1F1  Z1F2  \n",
       "68967     1     0     0     0     0  \n",
       "68968     1     0     0     0     0  "
      ]
     },
     "execution_count": 186,
     "metadata": {},
     "output_type": "execute_result"
    }
   ],
   "source": [
    "# let's take a look at just one device.\n",
    "T0B1.tail(2)"
   ]
  },
  {
   "cell_type": "code",
   "execution_count": 192,
   "metadata": {},
   "outputs": [],
   "source": [
    "# set up the components.\n",
    "X_T0B1 = T0B1[list(X_test.columns)]\n",
    "T_T0B1 = T0B1['timelapse']\n",
    "E_T0B1 = T0B1['failure']"
   ]
  },
  {
   "cell_type": "code",
   "execution_count": 193,
   "metadata": {},
   "outputs": [
    {
     "name": "stdout",
     "output_type": "stream",
     "text": [
      "299\n",
      "299\n"
     ]
    }
   ],
   "source": [
    "# make the predictions (note: their length is determined by the length of T0B1)\n",
    "new_predictions = neural_mtlm.predict_survival(X_T0B1)\n",
    "print(len(T0B1))\n",
    "print(len(new_predictions))"
   ]
  },
  {
   "cell_type": "code",
   "execution_count": 189,
   "metadata": {},
   "outputs": [
    {
     "data": {
      "image/png": "[encoded data removed]",
      "text/plain": [
       "<Figure size 1152x360 with 1 Axes>"
      ]
     },
     "metadata": {
      "needs_background": "light"
     },
     "output_type": "display_data"
    }
   ],
   "source": [
    "# predictions for day 0 and day 298:\n",
    "plt.figure(figsize=(16,5))\n",
    "plt.plot(pd.Series(new_predictions[0]), color = 'b',label='day 0')\n",
    "plt.plot(pd.Series(new_predictions[298]), color = 'r',label='day 298')\n",
    "plt.xlabel(\"100 Time Bins for each day\")\n",
    "plt.ylabel(\"Probability of Survival\")\n",
    "plt.legend(loc=\"lower left\")\n",
    "plt.show()"
   ]
  },
  {
   "cell_type": "markdown",
   "metadata": {},
   "source": [
    "#### Hazard function.\n",
    "Derived from the survival function the hazard function h(t) gives the conditional probability of the event occurring at time t, given that the subject did not experience the event prior to time t. "
   ]
  },
  {
   "cell_type": "code",
   "execution_count": 168,
   "metadata": {},
   "outputs": [
    {
     "name": "stdout",
     "output_type": "stream",
     "text": [
      "299\n",
      "99\n"
     ]
    }
   ],
   "source": [
    "# hazard\n",
    "predicted_hazard = neural_mtlm.predict_hazard(X_T0B1)\n",
    "print(len(predicted_hazard))\n",
    "print(len(predicted_hazard[0]))"
   ]
  },
  {
   "cell_type": "code",
   "execution_count": 169,
   "metadata": {},
   "outputs": [
    {
     "name": "stdout",
     "output_type": "stream",
     "text": [
      "1.3413823417253572\n",
      "1.6646808441895278\n"
     ]
    },
    {
     "data": {
      "image/png": "[encoded data removed]",
      "text/plain": [
       "<Figure size 1152x360 with 1 Axes>"
      ]
     },
     "metadata": {
      "needs_background": "light"
     },
     "output_type": "display_data"
    }
   ],
   "source": [
    "# hazard for day 0 and day 298:\n",
    "print(predicted_hazard[0].sum())\n",
    "print(predicted_hazard[298].sum())\n",
    "\n",
    "plt.figure(figsize=(16,5))\n",
    "plt.plot(pd.Series(predicted_hazard[0]), color = 'b',label='day 0')\n",
    "plt.plot(pd.Series(predicted_hazard[298]), color = 'r',label='day 298')\n",
    "plt.xlabel(\"100 Time Bins\")\n",
    "plt.ylabel(\"Hazard\")\n",
    "plt.legend(loc=\"lower left\")\n",
    "plt.show()"
   ]
  },
  {
   "cell_type": "markdown",
   "metadata": {},
   "source": [
    "#### Risk function\n",
    "However, the hazard function is rarely used in its original form. Most of the time, we subdivide the time axis in \n",
    "J parts and calculate the risk score of a sample x as derived from the hazard function."
   ]
  },
  {
   "cell_type": "code",
   "execution_count": 135,
   "metadata": {},
   "outputs": [
    {
     "name": "stdout",
     "output_type": "stream",
     "text": [
      "299\n"
     ]
    }
   ],
   "source": [
    "# risk\n",
    "predicted_risk = neural_mtlm.predict_risk(X_T0B1)\n",
    "print(len(predicted_risk))"
   ]
  },
  {
   "cell_type": "code",
   "execution_count": 136,
   "metadata": {},
   "outputs": [
    {
     "name": "stdout",
     "output_type": "stream",
     "text": [
      "2.3004979156048493\n",
      "25.72750684448721\n"
     ]
    }
   ],
   "source": [
    "# risk for day 0 and day 298:\n",
    "print(predicted_risk[0])\n",
    "print(predicted_risk[298])"
   ]
  },
  {
   "cell_type": "code",
   "execution_count": 137,
   "metadata": {},
   "outputs": [
    {
     "data": {
      "image/png": "[encoded data removed]",
      "text/plain": [
       "<Figure size 1152x360 with 1 Axes>"
      ]
     },
     "metadata": {
      "needs_background": "light"
     },
     "output_type": "display_data"
    }
   ],
   "source": [
    "# actual vs. predicted risk \n",
    "plt.figure(figsize=(16,5))\n",
    "plt.plot(T0B1['timelapse'], T0B1['failure'], color = 'r', label='actual risk')\n",
    "plt.plot(T0B1['timelapse'], pd.Series(predicted_risk), color = 'b', label='predicted risk')\n",
    "plt.xlabel(\"Days\")\n",
    "plt.ylabel(\"Risk\")\n",
    "plt.legend(loc=\"upper left\")\n",
    "plt.show()"
   ]
  },
  {
   "cell_type": "markdown",
   "metadata": {},
   "source": [
    "## D. DeepSurv Neural Cox"
   ]
  },
  {
   "cell_type": "markdown",
   "metadata": {},
   "source": [
    "The [NonLinear CoxPH model](https://square.github.io/pysurvival/models/nonlinear_coxph.html) was popularized by Katzman et al. in DeepSurv: Personalized Treatment Recommender System Using A Cox Proportional Hazards Deep Neural Network by allowing the use of Neural Networks within the original design and therefore introducing more modeling flexibility.\n",
    "\n"
   ]
  },
  {
   "cell_type": "markdown",
   "metadata": {},
   "source": [
    "The `structure` parameter provides the structure of the MLP built within the N-MTLR.\n",
    "- `num_units` is the number of hidden units in this layer\n",
    "- `activation` is the activation function that will be used. "
   ]
  },
  {
   "cell_type": "code",
   "execution_count": 108,
   "metadata": {},
   "outputs": [],
   "source": [
    "# Instantiate\n",
    "from pysurvival.models.semi_parametric import NonLinearCoxPHModel\n",
    "\n",
    "structure = [ {'activation': 'ReLU', 'num_units': 128}, {'activation': 'Tanh', 'num_units': 128}, ]\n",
    "\n",
    "neural_cox = NonLinearCoxPHModel(structure=structure)"
   ]
  },
  {
   "cell_type": "code",
   "execution_count": 112,
   "metadata": {},
   "outputs": [
    {
     "name": "stderr",
     "output_type": "stream",
     "text": [
      "% Completion: 100%|***********************************************|Loss: 483.96\n"
     ]
    },
    {
     "data": {
      "text/plain": [
       "NonLinearCoxPHModel( Layer(1): activation = ReLU, num_units = 128 ; \n",
       "                     Layer(2): activation = Tanh, num_units = 128 )"
      ]
     },
     "execution_count": 112,
     "metadata": {},
     "output_type": "execute_result"
    }
   ],
   "source": [
    "# Fitting the model\n",
    "neural_cox.fit(X_train, T_train, E_train, \n",
    "                init_method = 'glorot_uniform', \n",
    "                optimizer ='adam',\n",
    "                lr = 1e-4, \n",
    "                num_epochs = 1000, \n",
    "                dropout = 0.2, \n",
    "                batch_normalization=False, \n",
    "                bn_and_dropout=False,\n",
    "                verbose=True)"
   ]
  },
  {
   "cell_type": "code",
   "execution_count": 114,
   "metadata": {},
   "outputs": [
    {
     "data": {
      "image/png": "[encoded data removed]",
      "text/plain": [
       "<Figure size 504x288 with 1 Axes>"
      ]
     },
     "metadata": {
      "needs_background": "light"
     },
     "output_type": "display_data"
    }
   ],
   "source": [
    "# loss function values\n",
    "display_loss_values(neural_cox, figure_size=(7, 4))"
   ]
  },
  {
   "cell_type": "code",
   "execution_count": 115,
   "metadata": {},
   "outputs": [
    {
     "name": "stdout",
     "output_type": "stream",
     "text": [
      "C-index: 0.96\n"
     ]
    }
   ],
   "source": [
    "# evaluation\n",
    "neural_cox_c_index = concordance_index(neural_cox, X_test, T_test, E_test)\n",
    "print('C-index: {:.2f}'.format(neural_cox_c_index)) "
   ]
  },
  {
   "cell_type": "markdown",
   "metadata": {},
   "source": [
    "let's compare the time series of the actual and predicted number of device failures."
   ]
  },
  {
   "cell_type": "code",
   "execution_count": 116,
   "metadata": {},
   "outputs": [
    {
     "data": {
      "image/png": "[encoded data removed]",
      "text/plain": [
       "<Figure size 1152x432 with 1 Axes>"
      ]
     },
     "metadata": {
      "needs_background": "light"
     },
     "output_type": "display_data"
    }
   ],
   "source": [
    "from pysurvival.utils.display import compare_to_actual\n",
    "results = compare_to_actual(neural_cox, X_test, T_test, E_test,\n",
    "                            is_at_risk = False,  figure_size=(16, 6),\n",
    "                            metrics = ['rmse', 'mean', 'median'])"
   ]
  },
  {
   "cell_type": "markdown",
   "metadata": {},
   "source": [
    "### Predicting on new data"
   ]
  },
  {
   "cell_type": "code",
   "execution_count": 125,
   "metadata": {},
   "outputs": [
    {
     "name": "stdout",
     "output_type": "stream",
     "text": [
      "299\n",
      "299\n",
      "49\n"
     ]
    }
   ],
   "source": [
    "# make the predictions (note: their length is determined by the length of T0B1)\n",
    "new_predictions = neural_cox.predict_survival(X_T0B1)\n",
    "print(len(T0B1))\n",
    "print(len(new_predictions))\n",
    "print(len(new_predictions[0]))"
   ]
  },
  {
   "cell_type": "code",
   "execution_count": 149,
   "metadata": {},
   "outputs": [
    {
     "data": {
      "image/png": "[encoded data removed]",
      "text/plain": [
       "<Figure size 1152x360 with 1 Axes>"
      ]
     },
     "metadata": {
      "needs_background": "light"
     },
     "output_type": "display_data"
    }
   ],
   "source": [
    "# predictions for day 0 and day 298:\n",
    "plt.figure(figsize=(16,5))\n",
    "plt.plot(pd.Series(new_predictions[0]), color = 'b',label='day 0')\n",
    "plt.plot(pd.Series(new_predictions[298]), color = 'r',label='day 298')\n",
    "plt.xlabel(\"50 Time Bins\")\n",
    "plt.ylabel(\"Probability of Survival\")\n",
    "plt.legend(loc=\"lower left\")\n",
    "plt.show()"
   ]
  },
  {
   "cell_type": "code",
   "execution_count": 166,
   "metadata": {},
   "outputs": [
    {
     "name": "stdout",
     "output_type": "stream",
     "text": [
      "299\n",
      "49\n"
     ]
    }
   ],
   "source": [
    "# hazard\n",
    "predicted_hazard = neural_cox.predict_hazard(X_T0B1)\n",
    "print(len(predicted_hazard))\n",
    "print(len(predicted_hazard[0]))"
   ]
  },
  {
   "cell_type": "code",
   "execution_count": 167,
   "metadata": {},
   "outputs": [
    {
     "name": "stdout",
     "output_type": "stream",
     "text": [
      "0.0007873846691339653\n",
      "0.37197964290924623\n"
     ]
    },
    {
     "data": {
      "image/png": "[encoded data removed]",
      "text/plain": [
       "<Figure size 1152x360 with 1 Axes>"
      ]
     },
     "metadata": {
      "needs_background": "light"
     },
     "output_type": "display_data"
    }
   ],
   "source": [
    "# hazard for day 0 and day 298:\n",
    "\n",
    "print(predicted_hazard[0].sum())\n",
    "print(predicted_hazard[298].sum())\n",
    "\n",
    "plt.figure(figsize=(16,5))\n",
    "plt.plot(pd.Series(predicted_hazard[0]), color = 'b',label='day 0')\n",
    "plt.plot(pd.Series(predicted_hazard[298]), color = 'r',label='day 298')\n",
    "plt.xlabel(\"100 Time Bins\")\n",
    "plt.ylabel(\"Hazard\")\n",
    "plt.legend(loc=\"lower left\")\n",
    "plt.show()"
   ]
  },
  {
   "cell_type": "code",
   "execution_count": 144,
   "metadata": {},
   "outputs": [
    {
     "name": "stdout",
     "output_type": "stream",
     "text": [
      "299\n"
     ]
    }
   ],
   "source": [
    "# risk\n",
    "predicted_risk = neural_cox.predict_risk(X_T0B1)\n",
    "print(len(predicted_risk))"
   ]
  },
  {
   "cell_type": "code",
   "execution_count": 145,
   "metadata": {},
   "outputs": [
    {
     "name": "stdout",
     "output_type": "stream",
     "text": [
      "0.017713854\n",
      "8.368455\n"
     ]
    }
   ],
   "source": [
    "# risk for day 0 and day 298:\n",
    "print(predicted_risk[0])\n",
    "print(predicted_risk[298])"
   ]
  },
  {
   "cell_type": "code",
   "execution_count": 146,
   "metadata": {},
   "outputs": [
    {
     "data": {
      "image/png": "[encoded data removed]",
      "text/plain": [
       "<Figure size 1152x360 with 1 Axes>"
      ]
     },
     "metadata": {
      "needs_background": "light"
     },
     "output_type": "display_data"
    }
   ],
   "source": [
    "# actual vs. predicted risk \n",
    "plt.figure(figsize=(16,5))\n",
    "plt.plot(T0B1['timelapse'], T0B1['failure'], color = 'r', label='actual risk')\n",
    "plt.plot(T0B1['timelapse'], pd.Series(predicted_risk), color = 'b', label='predicted risk')\n",
    "plt.xlabel(\"Days\")\n",
    "plt.ylabel(\"Risk\")\n",
    "plt.legend(loc=\"upper left\")\n",
    "plt.show()"
   ]
  },
  {
   "cell_type": "markdown",
   "metadata": {},
   "source": [
    "## Part 3: Conclusion: comparison of models"
   ]
  },
  {
   "cell_type": "code",
   "execution_count": 180,
   "metadata": {},
   "outputs": [
    {
     "data": {
      "text/html": [
       "<div>\n",
       "<style scoped>\n",
       "    .dataframe tbody tr th:only-of-type {\n",
       "        vertical-align: middle;\n",
       "    }\n",
       "\n",
       "    .dataframe tbody tr th {\n",
       "        vertical-align: top;\n",
       "    }\n",
       "\n",
       "    .dataframe thead th {\n",
       "        text-align: right;\n",
       "    }\n",
       "</style>\n",
       "<table border=\"1\" class=\"dataframe\">\n",
       "  <thead>\n",
       "    <tr style=\"text-align: right;\">\n",
       "      <th></th>\n",
       "      <th>score</th>\n",
       "    </tr>\n",
       "  </thead>\n",
       "  <tbody>\n",
       "    <tr>\n",
       "      <th>cox_reg_score</th>\n",
       "      <td>0.622009</td>\n",
       "    </tr>\n",
       "    <tr>\n",
       "      <th>linear_mtlr_score</th>\n",
       "      <td>0.618324</td>\n",
       "    </tr>\n",
       "    <tr>\n",
       "      <th>neural_mtlm_score</th>\n",
       "      <td>0.956486</td>\n",
       "    </tr>\n",
       "    <tr>\n",
       "      <th>neural_cox_score</th>\n",
       "      <td>0.964326</td>\n",
       "    </tr>\n",
       "  </tbody>\n",
       "</table>\n",
       "</div>"
      ],
      "text/plain": [
       "                      score\n",
       "cox_reg_score      0.622009\n",
       "linear_mtlr_score  0.618324\n",
       "neural_mtlm_score  0.956486\n",
       "neural_cox_score   0.964326"
      ]
     },
     "execution_count": 180,
     "metadata": {},
     "output_type": "execute_result"
    }
   ],
   "source": [
    "# compare all four models\n",
    "comparison = pd.DataFrame([cox_reg_score, linear_mtlr_c_index, neural_c_index, neural_cox_c_index ], \n",
    "             index=['cox_reg_score', 'linear_mtlr_score', 'neural_mtlm_score', 'neural_cox_score'],\n",
    "             columns=['score'])\n",
    "comparison"
   ]
  },
  {
   "cell_type": "code",
   "execution_count": 181,
   "metadata": {},
   "outputs": [
    {
     "data": {
      "image/png": "[encoded data removed]",
      "text/plain": [
       "<Figure size 432x288 with 1 Axes>"
      ]
     },
     "metadata": {
      "needs_background": "light"
     },
     "output_type": "display_data"
    }
   ],
   "source": [
    "comparison.plot(kind='bar');"
   ]
  },
  {
   "cell_type": "markdown",
   "metadata": {},
   "source": [
    "### References\n",
    "\n",
    "* https://square.github.io/pysurvival/models/neural_mtlr.html\n",
    "* https://machinelearningmastery.com/how-to-develop-lstm-models-for-time-series-forecasting/\n",
    "* https://scikit-survival.readthedocs.io\n",
    "* https://www.kdnuggets.com/2017/11/survival-analysis-business-analytics.html\n",
    "* https://www.kdnuggets.com/2020/07/guide-survival-analysis-python-part-3.html\n",
    "* https://humboldt-wi.github.io/blog/research/information_systems_1920/group2_survivalanalysis/\n",
    "* https://github.com/jaredleekatzman/DeepSurv"
   ]
  }
 ],
 "metadata": {
  "kernelspec": {
   "display_name": "conda_python3",
   "language": "python",
   "name": "conda_python3"
  },
  "language_info": {
   "codemirror_mode": {
    "name": "ipython",
    "version": 3
   },
   "file_extension": ".py",
   "mimetype": "text/x-python",
   "name": "python",
   "nbconvert_exporter": "python",
   "pygments_lexer": "ipython3",
   "version": "3.6.13"
  }
 },
 "nbformat": 4,
 "nbformat_minor": 2
}
