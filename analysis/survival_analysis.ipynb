{
 "cells": [
  {
   "cell_type": "markdown",
   "metadata": {},
   "source": [
    "# Data cleaning"
   ]
  },
  {
   "cell_type": "code",
   "execution_count": 1,
   "metadata": {},
   "outputs": [
    {
     "name": "stdout",
     "output_type": "stream",
     "text": [
      "Requirement already satisfied: pysurvival in /home/ec2-user/anaconda3/envs/python3/lib/python3.6/site-packages (0.1.2)\n",
      "Requirement already satisfied: sklearn in /home/ec2-user/anaconda3/envs/python3/lib/python3.6/site-packages (from pysurvival) (0.0)\n",
      "Requirement already satisfied: torch in /home/ec2-user/anaconda3/envs/python3/lib/python3.6/site-packages (from pysurvival) (1.9.0)\n",
      "Requirement already satisfied: pip in /home/ec2-user/anaconda3/envs/python3/lib/python3.6/site-packages (from pysurvival) (21.1.2)\n",
      "Requirement already satisfied: pyarrow in /home/ec2-user/anaconda3/envs/python3/lib/python3.6/site-packages (from pysurvival) (4.0.1)\n",
      "Requirement already satisfied: scikit-learn in /home/ec2-user/anaconda3/envs/python3/lib/python3.6/site-packages (from pysurvival) (0.23.2)\n",
      "Requirement already satisfied: progressbar in /home/ec2-user/anaconda3/envs/python3/lib/python3.6/site-packages (from pysurvival) (2.5)\n",
      "Requirement already satisfied: matplotlib in /home/ec2-user/anaconda3/envs/python3/lib/python3.6/site-packages (from pysurvival) (3.3.4)\n",
      "Requirement already satisfied: numpy in /home/ec2-user/anaconda3/envs/python3/lib/python3.6/site-packages (from pysurvival) (1.19.5)\n",
      "Requirement already satisfied: pandas in /home/ec2-user/anaconda3/envs/python3/lib/python3.6/site-packages (from pysurvival) (1.1.5)\n",
      "Requirement already satisfied: scipy in /home/ec2-user/anaconda3/envs/python3/lib/python3.6/site-packages (from pysurvival) (1.5.3)\n",
      "Requirement already satisfied: kiwisolver>=1.0.1 in /home/ec2-user/anaconda3/envs/python3/lib/python3.6/site-packages (from matplotlib->pysurvival) (1.3.1)\n",
      "Requirement already satisfied: cycler>=0.10 in /home/ec2-user/anaconda3/envs/python3/lib/python3.6/site-packages (from matplotlib->pysurvival) (0.10.0)\n",
      "Requirement already satisfied: pyparsing!=2.0.4,!=2.1.2,!=2.1.6,>=2.0.3 in /home/ec2-user/anaconda3/envs/python3/lib/python3.6/site-packages (from matplotlib->pysurvival) (2.4.7)\n",
      "Requirement already satisfied: pillow>=6.2.0 in /home/ec2-user/anaconda3/envs/python3/lib/python3.6/site-packages (from matplotlib->pysurvival) (8.2.0)\n",
      "Requirement already satisfied: python-dateutil>=2.1 in /home/ec2-user/anaconda3/envs/python3/lib/python3.6/site-packages (from matplotlib->pysurvival) (2.8.1)\n",
      "Requirement already satisfied: six in /home/ec2-user/anaconda3/envs/python3/lib/python3.6/site-packages (from cycler>=0.10->matplotlib->pysurvival) (1.15.0)\n",
      "Requirement already satisfied: pytz>=2017.2 in /home/ec2-user/anaconda3/envs/python3/lib/python3.6/site-packages (from pandas->pysurvival) (2021.1)\n",
      "Requirement already satisfied: joblib>=0.11 in /home/ec2-user/anaconda3/envs/python3/lib/python3.6/site-packages (from scikit-learn->pysurvival) (1.0.1)\n",
      "Requirement already satisfied: threadpoolctl>=2.0.0 in /home/ec2-user/anaconda3/envs/python3/lib/python3.6/site-packages (from scikit-learn->pysurvival) (2.1.0)\n",
      "Requirement already satisfied: dataclasses in /home/ec2-user/anaconda3/envs/python3/lib/python3.6/site-packages (from torch->pysurvival) (0.8)\n",
      "Requirement already satisfied: typing-extensions in /home/ec2-user/anaconda3/envs/python3/lib/python3.6/site-packages (from torch->pysurvival) (3.7.4.3)\n",
      "\u001b[33mWARNING: You are using pip version 21.1.2; however, version 21.1.3 is available.\n",
      "You should consider upgrading via the '/home/ec2-user/anaconda3/envs/python3/bin/python -m pip install --upgrade pip' command.\u001b[0m\n",
      "Requirement already satisfied: scikit-survival in /home/ec2-user/anaconda3/envs/python3/lib/python3.6/site-packages (0.14.0)\n",
      "Requirement already satisfied: scipy!=1.3.0,>=1.0 in /home/ec2-user/anaconda3/envs/python3/lib/python3.6/site-packages (from scikit-survival) (1.5.3)\n",
      "Requirement already satisfied: pandas>=0.21 in /home/ec2-user/anaconda3/envs/python3/lib/python3.6/site-packages (from scikit-survival) (1.1.5)\n",
      "Requirement already satisfied: scikit-learn<0.24,>=0.22.0 in /home/ec2-user/anaconda3/envs/python3/lib/python3.6/site-packages (from scikit-survival) (0.23.2)\n",
      "Requirement already satisfied: cvxopt in /home/ec2-user/anaconda3/envs/python3/lib/python3.6/site-packages (from scikit-survival) (1.2.6)\n",
      "Requirement already satisfied: joblib in /home/ec2-user/anaconda3/envs/python3/lib/python3.6/site-packages (from scikit-survival) (1.0.1)\n",
      "Requirement already satisfied: numpy in /home/ec2-user/anaconda3/envs/python3/lib/python3.6/site-packages (from scikit-survival) (1.19.5)\n",
      "Requirement already satisfied: cvxpy>=1.0 in /home/ec2-user/anaconda3/envs/python3/lib/python3.6/site-packages (from scikit-survival) (1.1.13)\n",
      "Requirement already satisfied: numexpr in /home/ec2-user/anaconda3/envs/python3/lib/python3.6/site-packages (from scikit-survival) (2.7.2)\n",
      "Requirement already satisfied: osqp!=0.6.0,!=0.6.1 in /home/ec2-user/anaconda3/envs/python3/lib/python3.6/site-packages (from scikit-survival) (0.6.2.post0)\n",
      "Requirement already satisfied: ecos>=2 in /home/ec2-user/anaconda3/envs/python3/lib/python3.6/site-packages (from cvxpy>=1.0->scikit-survival) (2.0.7.post1)\n",
      "Requirement already satisfied: scs>=1.1.6 in /home/ec2-user/anaconda3/envs/python3/lib/python3.6/site-packages (from cvxpy>=1.0->scikit-survival) (2.1.4)\n",
      "Requirement already satisfied: qdldl in /home/ec2-user/anaconda3/envs/python3/lib/python3.6/site-packages (from osqp!=0.6.0,!=0.6.1->scikit-survival) (0.1.5.post0)\n",
      "Requirement already satisfied: python-dateutil>=2.7.3 in /home/ec2-user/anaconda3/envs/python3/lib/python3.6/site-packages (from pandas>=0.21->scikit-survival) (2.8.1)\n",
      "Requirement already satisfied: pytz>=2017.2 in /home/ec2-user/anaconda3/envs/python3/lib/python3.6/site-packages (from pandas>=0.21->scikit-survival) (2021.1)\n",
      "Requirement already satisfied: six>=1.5 in /home/ec2-user/anaconda3/envs/python3/lib/python3.6/site-packages (from python-dateutil>=2.7.3->pandas>=0.21->scikit-survival) (1.15.0)\n",
      "Requirement already satisfied: threadpoolctl>=2.0.0 in /home/ec2-user/anaconda3/envs/python3/lib/python3.6/site-packages (from scikit-learn<0.24,>=0.22.0->scikit-survival) (2.1.0)\n",
      "\u001b[33mWARNING: You are using pip version 21.1.2; however, version 21.1.3 is available.\n",
      "You should consider upgrading via the '/home/ec2-user/anaconda3/envs/python3/bin/python -m pip install --upgrade pip' command.\u001b[0m\n"
     ]
    }
   ],
   "source": [
    "! pip install pysurvival\n",
    "! pip install scikit-survival"
   ]
  },
  {
   "cell_type": "code",
   "execution_count": 2,
   "metadata": {},
   "outputs": [],
   "source": [
    "import pandas as pd\n",
    "import numpy as np\n",
    "import matplotlib.pyplot as plt\n",
    "from sklearn.model_selection import train_test_split\n",
    "from sksurv.metrics import concordance_index_censored\n",
    "from sksurv.linear_model import CoxPHSurvivalAnalysis"
   ]
  },
  {
   "cell_type": "markdown",
   "metadata": {},
   "source": [
    "# Part 1. Exploratory Analysis and Feature Engineering"
   ]
  },
  {
   "cell_type": "markdown",
   "metadata": {},
   "source": [
    "### Basic descriptives"
   ]
  },
  {
   "cell_type": "code",
   "execution_count": 3,
   "metadata": {},
   "outputs": [
    {
     "name": "stdout",
     "output_type": "stream",
     "text": [
      "(124494, 12)\n"
     ]
    }
   ],
   "source": [
    "df=pd.read_csv('http://aws-proserve-data-science.s3.amazonaws.com/predictive_maintenance.csv')\n",
    "print(df.shape)"
   ]
  },
  {
   "cell_type": "code",
   "execution_count": 4,
   "metadata": {},
   "outputs": [
    {
     "data": {
      "text/html": [
       "<div>\n",
       "<style scoped>\n",
       "    .dataframe tbody tr th:only-of-type {\n",
       "        vertical-align: middle;\n",
       "    }\n",
       "\n",
       "    .dataframe tbody tr th {\n",
       "        vertical-align: top;\n",
       "    }\n",
       "\n",
       "    .dataframe thead th {\n",
       "        text-align: right;\n",
       "    }\n",
       "</style>\n",
       "<table border=\"1\" class=\"dataframe\">\n",
       "  <thead>\n",
       "    <tr style=\"text-align: right;\">\n",
       "      <th></th>\n",
       "      <th>0</th>\n",
       "      <th>1</th>\n",
       "    </tr>\n",
       "  </thead>\n",
       "  <tbody>\n",
       "    <tr>\n",
       "      <th>date</th>\n",
       "      <td>1/1/15</td>\n",
       "      <td>1/1/15</td>\n",
       "    </tr>\n",
       "    <tr>\n",
       "      <th>device</th>\n",
       "      <td>S1F01085</td>\n",
       "      <td>S1F0166B</td>\n",
       "    </tr>\n",
       "    <tr>\n",
       "      <th>failure</th>\n",
       "      <td>0</td>\n",
       "      <td>0</td>\n",
       "    </tr>\n",
       "    <tr>\n",
       "      <th>metric1</th>\n",
       "      <td>215630672</td>\n",
       "      <td>61370680</td>\n",
       "    </tr>\n",
       "    <tr>\n",
       "      <th>metric2</th>\n",
       "      <td>56</td>\n",
       "      <td>0</td>\n",
       "    </tr>\n",
       "    <tr>\n",
       "      <th>metric3</th>\n",
       "      <td>0</td>\n",
       "      <td>3</td>\n",
       "    </tr>\n",
       "    <tr>\n",
       "      <th>metric4</th>\n",
       "      <td>52</td>\n",
       "      <td>0</td>\n",
       "    </tr>\n",
       "    <tr>\n",
       "      <th>metric5</th>\n",
       "      <td>6</td>\n",
       "      <td>6</td>\n",
       "    </tr>\n",
       "    <tr>\n",
       "      <th>metric6</th>\n",
       "      <td>407438</td>\n",
       "      <td>403174</td>\n",
       "    </tr>\n",
       "    <tr>\n",
       "      <th>metric7</th>\n",
       "      <td>0</td>\n",
       "      <td>0</td>\n",
       "    </tr>\n",
       "    <tr>\n",
       "      <th>metric8</th>\n",
       "      <td>0</td>\n",
       "      <td>0</td>\n",
       "    </tr>\n",
       "    <tr>\n",
       "      <th>metric9</th>\n",
       "      <td>7</td>\n",
       "      <td>0</td>\n",
       "    </tr>\n",
       "  </tbody>\n",
       "</table>\n",
       "</div>"
      ],
      "text/plain": [
       "                 0         1\n",
       "date        1/1/15    1/1/15\n",
       "device    S1F01085  S1F0166B\n",
       "failure          0         0\n",
       "metric1  215630672  61370680\n",
       "metric2         56         0\n",
       "metric3          0         3\n",
       "metric4         52         0\n",
       "metric5          6         6\n",
       "metric6     407438    403174\n",
       "metric7          0         0\n",
       "metric8          0         0\n",
       "metric9          7         0"
      ]
     },
     "execution_count": 4,
     "metadata": {},
     "output_type": "execute_result"
    }
   ],
   "source": [
    "# first few rows\n",
    "df.head(2).T"
   ]
  },
  {
   "cell_type": "code",
   "execution_count": 5,
   "metadata": {},
   "outputs": [
    {
     "data": {
      "text/plain": [
       "date       object\n",
       "device     object\n",
       "failure     int64\n",
       "metric1     int64\n",
       "metric2     int64\n",
       "metric3     int64\n",
       "metric4     int64\n",
       "metric5     int64\n",
       "metric6     int64\n",
       "metric7     int64\n",
       "metric8     int64\n",
       "metric9     int64\n",
       "dtype: object"
      ]
     },
     "execution_count": 5,
     "metadata": {},
     "output_type": "execute_result"
    }
   ],
   "source": [
    "# except for the first two columns, all metrics are integers.\n",
    "df.dtypes"
   ]
  },
  {
   "cell_type": "markdown",
   "metadata": {},
   "source": [
    "### Hypotheses about the data:\n",
    "\n",
    "* one reading every day, per device\n",
    "* no more than one reading per day, per device\n",
    "* most devices start on the same day (Jan 1st)\n",
    "* there are no devices with two failure records (each device can only fail once)\n",
    "* once a failure happens, device is removed from service\n",
    "* some models never fail during the observation period (censoring)"
   ]
  },
  {
   "cell_type": "markdown",
   "metadata": {},
   "source": [
    "### Data cleaning"
   ]
  },
  {
   "cell_type": "code",
   "execution_count": 6,
   "metadata": {},
   "outputs": [
    {
     "data": {
      "text/plain": [
       "date       0\n",
       "device     0\n",
       "failure    0\n",
       "metric1    0\n",
       "metric2    0\n",
       "metric3    0\n",
       "metric4    0\n",
       "metric5    0\n",
       "metric6    0\n",
       "metric7    0\n",
       "metric8    0\n",
       "metric9    0\n",
       "dtype: int64"
      ]
     },
     "execution_count": 6,
     "metadata": {},
     "output_type": "execute_result"
    }
   ],
   "source": [
    "# There is no obvious missing data in any variable.\n",
    "df.isnull().sum()"
   ]
  },
  {
   "cell_type": "code",
   "execution_count": 7,
   "metadata": {},
   "outputs": [
    {
     "name": "stdout",
     "output_type": "stream",
     "text": [
      "correlation: 1.0\n",
      "Are there any rows where 7!=8? False\n",
      "(124494, 11)\n"
     ]
    }
   ],
   "source": [
    "# metrics 7 and 8 are identical. Drop one of them.\n",
    "print('correlation:', df['metric7'].corr(df['metric8']))\n",
    "print ('Are there any rows where 7!=8?', False in list(df['metric7']==df['metric8']))\n",
    "df=df.drop('metric8', axis=1)\n",
    "print(df.shape)"
   ]
  },
  {
   "cell_type": "code",
   "execution_count": 8,
   "metadata": {},
   "outputs": [
    {
     "name": "stdout",
     "output_type": "stream",
     "text": [
      "How many devices have 2 measurements in one day? 1\n",
      "          device     date\n",
      "101335  S1F0R4Q8  7/10/15\n"
     ]
    },
    {
     "data": {
      "text/html": [
       "<div>\n",
       "<style scoped>\n",
       "    .dataframe tbody tr th:only-of-type {\n",
       "        vertical-align: middle;\n",
       "    }\n",
       "\n",
       "    .dataframe tbody tr th {\n",
       "        vertical-align: top;\n",
       "    }\n",
       "\n",
       "    .dataframe thead th {\n",
       "        text-align: right;\n",
       "    }\n",
       "</style>\n",
       "<table border=\"1\" class=\"dataframe\">\n",
       "  <thead>\n",
       "    <tr style=\"text-align: right;\">\n",
       "      <th></th>\n",
       "      <th>date</th>\n",
       "      <th>device</th>\n",
       "      <th>failure</th>\n",
       "      <th>metric1</th>\n",
       "      <th>metric2</th>\n",
       "      <th>metric3</th>\n",
       "      <th>metric4</th>\n",
       "      <th>metric5</th>\n",
       "      <th>metric6</th>\n",
       "      <th>metric7</th>\n",
       "      <th>metric9</th>\n",
       "    </tr>\n",
       "  </thead>\n",
       "  <tbody>\n",
       "  </tbody>\n",
       "</table>\n",
       "</div>"
      ],
      "text/plain": [
       "Empty DataFrame\n",
       "Columns: [date, device, failure, metric1, metric2, metric3, metric4, metric5, metric6, metric7, metric9]\n",
       "Index: []"
      ]
     },
     "execution_count": 8,
     "metadata": {},
     "output_type": "execute_result"
    }
   ],
   "source": [
    "# There is only one instance of a duplicated device-date pair.\n",
    "print('How many devices have 2 measurements in one day?', df[['device', 'date']].duplicated().sum())\n",
    "# what is that row?\n",
    "print(df[df[['device', 'date']].duplicated()==True][['device', 'date']])\n",
    "df.loc[(df['device']=='S1F0R4Q8') & (df['date']=='2015-07-10')]"
   ]
  },
  {
   "cell_type": "code",
   "execution_count": 9,
   "metadata": {},
   "outputs": [
    {
     "data": {
      "text/plain": [
       "(124493, 11)"
      ]
     },
     "execution_count": 9,
     "metadata": {},
     "output_type": "execute_result"
    }
   ],
   "source": [
    "# we should remove one of these duplicate rows.\n",
    "df=df.drop(df.index[101335], axis=0)\n",
    "df.reset_index(drop=True)\n",
    "df.shape"
   ]
  },
  {
   "cell_type": "code",
   "execution_count": 10,
   "metadata": {},
   "outputs": [
    {
     "name": "stdout",
     "output_type": "stream",
     "text": [
      "object\n"
     ]
    },
    {
     "data": {
      "text/plain": [
       "dtype('<M8[ns]')"
      ]
     },
     "execution_count": 10,
     "metadata": {},
     "output_type": "execute_result"
    }
   ],
   "source": [
    "# The dates are coded as strings. Replace this.\n",
    "print(df['date'].dtype)\n",
    "df['date']=pd.to_datetime(df['date'],infer_datetime_format=True)\n",
    "df['date'].dtype"
   ]
  },
  {
   "cell_type": "code",
   "execution_count": 11,
   "metadata": {},
   "outputs": [],
   "source": [
    "# metric 1 appears to be an entirely random signal. remove it.\n",
    "df['metric1'].describe()\n",
    "df=df.drop('metric1', axis=1)"
   ]
  },
  {
   "cell_type": "code",
   "execution_count": 12,
   "metadata": {},
   "outputs": [
    {
     "name": "stdout",
     "output_type": "stream",
     "text": [
      "metric2: 0.95\n",
      "metric3: 0.93\n",
      "metric4: 0.92\n",
      "metric7: 0.99\n"
     ]
    }
   ],
   "source": [
    "# what percentage of each is a zero? very high.\n",
    "def lotsa_zeroes(col):\n",
    "    numerator=len(df.loc[df[col]==0])\n",
    "    denominator=len(df[col])\n",
    "    print(col+':', round(numerator/denominator, 2))\n",
    "for i in [2, 3,4,7]:\n",
    "    lotsa_zeroes('metric'+str(i))"
   ]
  },
  {
   "cell_type": "markdown",
   "metadata": {},
   "source": [
    "### Censoring\n",
    "What is censoring? One of the challenges specific to survival analysis is that only some individuals will have experienced the event by the end of the study, and therefore survival times will be unknown for a subset of the study group. This phenomenon is called censoring"
   ]
  },
  {
   "cell_type": "code",
   "execution_count": 13,
   "metadata": {},
   "outputs": [
    {
     "data": {
      "text/plain": [
       "1169"
      ]
     },
     "execution_count": 13,
     "metadata": {},
     "output_type": "execute_result"
    }
   ],
   "source": [
    "# How many unique devices are there?\n",
    "df['device'].nunique()"
   ]
  },
  {
   "cell_type": "code",
   "execution_count": 14,
   "metadata": {},
   "outputs": [
    {
     "data": {
      "text/plain": [
       "0    1063\n",
       "1     106\n",
       "Name: failure, dtype: int64"
      ]
     },
     "execution_count": 14,
     "metadata": {},
     "output_type": "execute_result"
    }
   ],
   "source": [
    "# Do all of them experience failure? Most do not.\n",
    "df.groupby('device').max()['failure'].value_counts()"
   ]
  },
  {
   "cell_type": "code",
   "execution_count": 15,
   "metadata": {},
   "outputs": [
    {
     "data": {
      "text/plain": [
       "0    1063\n",
       "1     106\n",
       "Name: failure, dtype: int64"
      ]
     },
     "execution_count": 15,
     "metadata": {},
     "output_type": "execute_result"
    }
   ],
   "source": [
    "# Do any fail multiple times? No.\n",
    "df.groupby('device').sum()['failure'].value_counts()"
   ]
  },
  {
   "cell_type": "markdown",
   "metadata": {},
   "source": [
    "For the most part, when a device fails it is removed. A few devices (5) continue after they're dead."
   ]
  },
  {
   "cell_type": "code",
   "execution_count": 16,
   "metadata": {},
   "outputs": [],
   "source": [
    "# confirm that there are no devices with two failure records (each device only fails once)\n",
    "dffailed=df.loc[df['failure']==1]\n",
    "assert dffailed['device'].nunique()==dffailed.shape[0]"
   ]
  },
  {
   "cell_type": "code",
   "execution_count": 17,
   "metadata": {},
   "outputs": [],
   "source": [
    "# restrict to the date on which a device failed.\n",
    "deaddevice=df[df['failure']==1][['device','date']]"
   ]
  },
  {
   "cell_type": "code",
   "execution_count": 18,
   "metadata": {},
   "outputs": [
    {
     "data": {
      "text/plain": [
       "(124493, 11)"
      ]
     },
     "execution_count": 18,
     "metadata": {},
     "output_type": "execute_result"
    }
   ],
   "source": [
    "# merge the deathdates back into the regular dataset.\n",
    "deaddevice = deaddevice.rename(columns={'date': 'deathdate'})\n",
    "df=pd.merge(df, deaddevice, on='device', how='outer')\n",
    "df.shape"
   ]
  },
  {
   "cell_type": "code",
   "execution_count": 19,
   "metadata": {},
   "outputs": [
    {
     "data": {
      "text/html": [
       "<div>\n",
       "<style scoped>\n",
       "    .dataframe tbody tr th:only-of-type {\n",
       "        vertical-align: middle;\n",
       "    }\n",
       "\n",
       "    .dataframe tbody tr th {\n",
       "        vertical-align: top;\n",
       "    }\n",
       "\n",
       "    .dataframe thead th {\n",
       "        text-align: right;\n",
       "    }\n",
       "</style>\n",
       "<table border=\"1\" class=\"dataframe\">\n",
       "  <thead>\n",
       "    <tr style=\"text-align: right;\">\n",
       "      <th></th>\n",
       "      <th>device</th>\n",
       "      <th>maxdate</th>\n",
       "      <th>deathdate</th>\n",
       "    </tr>\n",
       "  </thead>\n",
       "  <tbody>\n",
       "    <tr>\n",
       "      <th>101</th>\n",
       "      <td>S1F0GPFZ</td>\n",
       "      <td>2015-07-24</td>\n",
       "      <td>2015-07-12</td>\n",
       "    </tr>\n",
       "    <tr>\n",
       "      <th>504</th>\n",
       "      <td>S1F136J0</td>\n",
       "      <td>2015-05-06</td>\n",
       "      <td>2015-05-05</td>\n",
       "    </tr>\n",
       "    <tr>\n",
       "      <th>599</th>\n",
       "      <td>W1F0KCP2</td>\n",
       "      <td>2015-05-11</td>\n",
       "      <td>2015-05-09</td>\n",
       "    </tr>\n",
       "    <tr>\n",
       "      <th>625</th>\n",
       "      <td>W1F0M35B</td>\n",
       "      <td>2015-05-11</td>\n",
       "      <td>2015-05-09</td>\n",
       "    </tr>\n",
       "    <tr>\n",
       "      <th>819</th>\n",
       "      <td>W1F11ZG9</td>\n",
       "      <td>2015-08-17</td>\n",
       "      <td>2015-07-18</td>\n",
       "    </tr>\n",
       "  </tbody>\n",
       "</table>\n",
       "</div>"
      ],
      "text/plain": [
       "       device    maxdate  deathdate\n",
       "101  S1F0GPFZ 2015-07-24 2015-07-12\n",
       "504  S1F136J0 2015-05-06 2015-05-05\n",
       "599  W1F0KCP2 2015-05-11 2015-05-09\n",
       "625  W1F0M35B 2015-05-11 2015-05-09\n",
       "819  W1F11ZG9 2015-08-17 2015-07-18"
      ]
     },
     "execution_count": 19,
     "metadata": {},
     "output_type": "execute_result"
    }
   ],
   "source": [
    "# confirm that, for failed devices, there are no entries later than the failure date.\n",
    "devices=df.groupby('device').max().reset_index(drop=False)\n",
    "dead_devices=devices.loc[devices['failure']==1]\n",
    "dead_devices=dead_devices.rename(columns={'date': 'maxdate'})\n",
    "dead_devices=dead_devices[['device', 'maxdate', 'deathdate']]\n",
    "dead_devices.loc[dead_devices['maxdate']!=dead_devices['deathdate']]"
   ]
  },
  {
   "cell_type": "code",
   "execution_count": 20,
   "metadata": {},
   "outputs": [
    {
     "name": "stdout",
     "output_type": "stream",
     "text": [
      "Number of rows removed: 47\n",
      "124493\n",
      "124446\n"
     ]
    }
   ],
   "source": [
    "# For those 5 devices, remove any dates that occur after the failure.\n",
    "zombies=dead_devices.loc[dead_devices['maxdate']!=dead_devices['deathdate']]['device']\n",
    "print('Number of rows removed:', df.loc[(df['device'].isin(zombies)) & (df['date']>df['deathdate'])].shape[0])\n",
    "print(df.shape[0])\n",
    "df=df.loc[~((df['device'].isin(zombies)) & (df['date']>df['deathdate']))]\n",
    "print(df.shape[0])\n",
    "df=df.drop(['deathdate'], axis=1)"
   ]
  },
  {
   "cell_type": "markdown",
   "metadata": {},
   "source": [
    "## Feature engineering by device ID"
   ]
  },
  {
   "cell_type": "code",
   "execution_count": 21,
   "metadata": {},
   "outputs": [
    {
     "name": "stdout",
     "output_type": "stream",
     "text": [
      "2015-01-01 00:00:00\n"
     ]
    },
    {
     "name": "stderr",
     "output_type": "stream",
     "text": [
      "/home/ec2-user/anaconda3/envs/python3/lib/python3.6/site-packages/ipykernel/__main__.py:4: FutureWarning: Indexing with multiple keys (implicitly converted to a tuple of keys) will be deprecated, use a list instead.\n"
     ]
    },
    {
     "data": {
      "text/plain": [
       "2015-01-01    1163\n",
       "2015-05-06       4\n",
       "2015-01-27       1\n",
       "2015-06-13       1\n",
       "Name: date, dtype: int64"
      ]
     },
     "execution_count": 21,
     "metadata": {},
     "output_type": "execute_result"
    }
   ],
   "source": [
    "# What's the first date in the series?\n",
    "print(df['date'].min())\n",
    "# Do all devices start on this same date? No.\n",
    "bydevice=df.groupby('device')['date', 'failure'].min().reset_index(drop=False)\n",
    "bydevice['date'].value_counts()"
   ]
  },
  {
   "cell_type": "code",
   "execution_count": 22,
   "metadata": {},
   "outputs": [
    {
     "data": {
      "text/html": [
       "<div>\n",
       "<style scoped>\n",
       "    .dataframe tbody tr th:only-of-type {\n",
       "        vertical-align: middle;\n",
       "    }\n",
       "\n",
       "    .dataframe tbody tr th {\n",
       "        vertical-align: top;\n",
       "    }\n",
       "\n",
       "    .dataframe thead th {\n",
       "        text-align: right;\n",
       "    }\n",
       "</style>\n",
       "<table border=\"1\" class=\"dataframe\">\n",
       "  <thead>\n",
       "    <tr style=\"text-align: right;\">\n",
       "      <th></th>\n",
       "      <th>device</th>\n",
       "      <th>date</th>\n",
       "      <th>failure</th>\n",
       "      <th>metric2</th>\n",
       "      <th>metric3</th>\n",
       "      <th>metric4</th>\n",
       "      <th>metric5</th>\n",
       "      <th>metric6</th>\n",
       "      <th>metric7</th>\n",
       "      <th>metric9</th>\n",
       "    </tr>\n",
       "  </thead>\n",
       "  <tbody>\n",
       "    <tr>\n",
       "      <th>0</th>\n",
       "      <td>S1F01085</td>\n",
       "      <td>2015-01-01</td>\n",
       "      <td>0</td>\n",
       "      <td>56</td>\n",
       "      <td>0</td>\n",
       "      <td>52</td>\n",
       "      <td>6</td>\n",
       "      <td>407438</td>\n",
       "      <td>0</td>\n",
       "      <td>7</td>\n",
       "    </tr>\n",
       "    <tr>\n",
       "      <th>1</th>\n",
       "      <td>S1F013BB</td>\n",
       "      <td>2015-05-06</td>\n",
       "      <td>0</td>\n",
       "      <td>0</td>\n",
       "      <td>0</td>\n",
       "      <td>0</td>\n",
       "      <td>5</td>\n",
       "      <td>688952</td>\n",
       "      <td>0</td>\n",
       "      <td>0</td>\n",
       "    </tr>\n",
       "  </tbody>\n",
       "</table>\n",
       "</div>"
      ],
      "text/plain": [
       "     device       date  failure  metric2  metric3  metric4  metric5  metric6  \\\n",
       "0  S1F01085 2015-01-01        0       56        0       52        6   407438   \n",
       "1  S1F013BB 2015-05-06        0        0        0        0        5   688952   \n",
       "\n",
       "   metric7  metric9  \n",
       "0        0        7  \n",
       "1        0        0  "
      ]
     },
     "execution_count": 22,
     "metadata": {},
     "output_type": "execute_result"
    }
   ],
   "source": [
    "# creates new dataframe: one row for each device (reduces dimensions from 124K to 1163)\n",
    "dfmin=df.groupby('device').min().reset_index(drop=False)\n",
    "# same, but for max values\n",
    "dfmax=df.groupby('device').max().reset_index(drop=False)\n",
    "\n",
    "dfmin.head(2)"
   ]
  },
  {
   "cell_type": "markdown",
   "metadata": {},
   "source": [
    "Visualize a single device."
   ]
  },
  {
   "cell_type": "markdown",
   "metadata": {},
   "source": [
    "While the metrics are important, they are also not constant by device - they change over time. This calls for a time-series analysis. For the purpose of Cox regression, let's remove and focus only on device type (prefix)."
   ]
  },
  {
   "cell_type": "code",
   "execution_count": 23,
   "metadata": {},
   "outputs": [
    {
     "name": "stdout",
     "output_type": "stream",
     "text": [
      "metric2_z 633.0675791274593\n",
      "metric3_z 2.223267750213858\n",
      "metric4_z 6.098374679213003\n",
      "metric5_z 0.4679213002566296\n",
      "metric6_z 31298.350727117195\n",
      "metric7_z 4.076988879384089\n",
      "metric9_z 0.1787852865697177\n"
     ]
    }
   ],
   "source": [
    "# which metrics tend to change within a device? all of them.\n",
    "dfcompare=pd.merge(dfmax, dfmin, on='device', how='left')\n",
    "dfcompare['metric2_z']=dfcompare['metric2_x']-dfcompare['metric2_y']\n",
    "dfcompare['metric3_z']=dfcompare['metric3_x']-dfcompare['metric3_y']\n",
    "dfcompare['metric4_z']=dfcompare['metric4_x']-dfcompare['metric4_y']\n",
    "dfcompare['metric5_z']=dfcompare['metric5_x']-dfcompare['metric5_y']\n",
    "dfcompare['metric6_z']=dfcompare['metric6_x']-dfcompare['metric6_y']\n",
    "dfcompare['metric7_z']=dfcompare['metric7_x']-dfcompare['metric7_y']\n",
    "dfcompare['metric9_z']=dfcompare['metric9_x']-dfcompare['metric9_y']\n",
    "for var in ['metric2_z','metric3_z','metric4_z','metric5_z','metric6_z','metric7_z','metric9_z']:\n",
    "    print(str(var), dfcompare[var].mean())\n",
    "# this suggests that metrics change, and are an indicator of health."
   ]
  },
  {
   "cell_type": "code",
   "execution_count": 24,
   "metadata": {},
   "outputs": [
    {
     "name": "stdout",
     "output_type": "stream",
     "text": [
      "(1169, 2)\n"
     ]
    },
    {
     "data": {
      "text/html": [
       "<div>\n",
       "<style scoped>\n",
       "    .dataframe tbody tr th:only-of-type {\n",
       "        vertical-align: middle;\n",
       "    }\n",
       "\n",
       "    .dataframe tbody tr th {\n",
       "        vertical-align: top;\n",
       "    }\n",
       "\n",
       "    .dataframe thead th {\n",
       "        text-align: right;\n",
       "    }\n",
       "</style>\n",
       "<table border=\"1\" class=\"dataframe\">\n",
       "  <thead>\n",
       "    <tr style=\"text-align: right;\">\n",
       "      <th></th>\n",
       "      <th>device</th>\n",
       "      <th>mindate</th>\n",
       "    </tr>\n",
       "  </thead>\n",
       "  <tbody>\n",
       "    <tr>\n",
       "      <th>0</th>\n",
       "      <td>S1F01085</td>\n",
       "      <td>2015-01-01</td>\n",
       "    </tr>\n",
       "    <tr>\n",
       "      <th>1</th>\n",
       "      <td>S1F013BB</td>\n",
       "      <td>2015-05-06</td>\n",
       "    </tr>\n",
       "    <tr>\n",
       "      <th>2</th>\n",
       "      <td>S1F0166B</td>\n",
       "      <td>2015-01-01</td>\n",
       "    </tr>\n",
       "    <tr>\n",
       "      <th>3</th>\n",
       "      <td>S1F01E6Y</td>\n",
       "      <td>2015-01-01</td>\n",
       "    </tr>\n",
       "    <tr>\n",
       "      <th>4</th>\n",
       "      <td>S1F01JE0</td>\n",
       "      <td>2015-01-01</td>\n",
       "    </tr>\n",
       "  </tbody>\n",
       "</table>\n",
       "</div>"
      ],
      "text/plain": [
       "     device    mindate\n",
       "0  S1F01085 2015-01-01\n",
       "1  S1F013BB 2015-05-06\n",
       "2  S1F0166B 2015-01-01\n",
       "3  S1F01E6Y 2015-01-01\n",
       "4  S1F01JE0 2015-01-01"
      ]
     },
     "execution_count": 24,
     "metadata": {},
     "output_type": "execute_result"
    }
   ],
   "source": [
    "# just focus on the date for now. Create a column indicating the minimum date, for each device.\n",
    "dfmin=dfmin[['device', 'date']]\n",
    "dfmin.rename(columns={'date':'mindate'},inplace=True)\n",
    "print(dfmin.shape)\n",
    "dfmin.head()"
   ]
  },
  {
   "cell_type": "code",
   "execution_count": 25,
   "metadata": {},
   "outputs": [
    {
     "data": {
      "text/plain": [
       "S1F0    391\n",
       "W1F0    282\n",
       "Z1F0    149\n",
       "S1F1    139\n",
       "W1F1    138\n",
       "Z1F1     67\n",
       "Z1F2      3\n",
       "Name: prefix, dtype: int64"
      ]
     },
     "execution_count": 25,
     "metadata": {},
     "output_type": "execute_result"
    }
   ],
   "source": [
    "# We can group devices into 7 categories based on their device ID code\n",
    "dfmin['prefix']=dfmin['device'].apply(lambda row: row[:4])\n",
    "dfmin['prefix'].value_counts()"
   ]
  },
  {
   "cell_type": "code",
   "execution_count": 26,
   "metadata": {},
   "outputs": [
    {
     "name": "stdout",
     "output_type": "stream",
     "text": [
      "(124446, 10)\n"
     ]
    }
   ],
   "source": [
    "# merge the groupby-dataset back into primary the dataset\n",
    "print(df.shape)\n",
    "df=pd.merge(df, dfmin, on='device', how='left')"
   ]
  },
  {
   "cell_type": "code",
   "execution_count": 27,
   "metadata": {},
   "outputs": [
    {
     "data": {
      "text/plain": [
       "0      1169\n",
       "1      1168\n",
       "2      1168\n",
       "3      1167\n",
       "4      1166\n",
       "       ... \n",
       "303      31\n",
       "302      31\n",
       "301      31\n",
       "305      31\n",
       "299      31\n",
       "Name: timelapse, Length: 304, dtype: int64"
      ]
     },
     "execution_count": 27,
     "metadata": {},
     "output_type": "execute_result"
    }
   ],
   "source": [
    "# create a column to measure elapsed time.\n",
    "df['timelapse']=(df['date']-df['mindate']).dt.days\n",
    "df['timelapse'].value_counts()"
   ]
  },
  {
   "cell_type": "code",
   "execution_count": 28,
   "metadata": {},
   "outputs": [
    {
     "data": {
      "text/html": [
       "<div>\n",
       "<style scoped>\n",
       "    .dataframe tbody tr th:only-of-type {\n",
       "        vertical-align: middle;\n",
       "    }\n",
       "\n",
       "    .dataframe tbody tr th {\n",
       "        vertical-align: top;\n",
       "    }\n",
       "\n",
       "    .dataframe thead th {\n",
       "        text-align: right;\n",
       "    }\n",
       "</style>\n",
       "<table border=\"1\" class=\"dataframe\">\n",
       "  <thead>\n",
       "    <tr style=\"text-align: right;\">\n",
       "      <th></th>\n",
       "      <th>date</th>\n",
       "      <th>device</th>\n",
       "      <th>failure</th>\n",
       "      <th>metric2</th>\n",
       "      <th>metric3</th>\n",
       "      <th>metric4</th>\n",
       "      <th>metric5</th>\n",
       "      <th>metric6</th>\n",
       "      <th>metric7</th>\n",
       "      <th>metric9</th>\n",
       "      <th>mindate</th>\n",
       "      <th>prefix</th>\n",
       "      <th>timelapse</th>\n",
       "      <th>S1F0</th>\n",
       "      <th>S1F1</th>\n",
       "      <th>W1F0</th>\n",
       "      <th>W1F1</th>\n",
       "      <th>Z1F0</th>\n",
       "      <th>Z1F1</th>\n",
       "      <th>Z1F2</th>\n",
       "    </tr>\n",
       "  </thead>\n",
       "  <tbody>\n",
       "    <tr>\n",
       "      <th>0</th>\n",
       "      <td>2015-01-01</td>\n",
       "      <td>S1F01085</td>\n",
       "      <td>0</td>\n",
       "      <td>56</td>\n",
       "      <td>0</td>\n",
       "      <td>52</td>\n",
       "      <td>6</td>\n",
       "      <td>407438</td>\n",
       "      <td>0</td>\n",
       "      <td>7</td>\n",
       "      <td>2015-01-01</td>\n",
       "      <td>S1F0</td>\n",
       "      <td>0</td>\n",
       "      <td>1</td>\n",
       "      <td>0</td>\n",
       "      <td>0</td>\n",
       "      <td>0</td>\n",
       "      <td>0</td>\n",
       "      <td>0</td>\n",
       "      <td>0</td>\n",
       "    </tr>\n",
       "    <tr>\n",
       "      <th>1</th>\n",
       "      <td>2015-01-02</td>\n",
       "      <td>S1F01085</td>\n",
       "      <td>0</td>\n",
       "      <td>56</td>\n",
       "      <td>0</td>\n",
       "      <td>52</td>\n",
       "      <td>6</td>\n",
       "      <td>407438</td>\n",
       "      <td>0</td>\n",
       "      <td>7</td>\n",
       "      <td>2015-01-01</td>\n",
       "      <td>S1F0</td>\n",
       "      <td>1</td>\n",
       "      <td>1</td>\n",
       "      <td>0</td>\n",
       "      <td>0</td>\n",
       "      <td>0</td>\n",
       "      <td>0</td>\n",
       "      <td>0</td>\n",
       "      <td>0</td>\n",
       "    </tr>\n",
       "    <tr>\n",
       "      <th>2</th>\n",
       "      <td>2015-01-03</td>\n",
       "      <td>S1F01085</td>\n",
       "      <td>0</td>\n",
       "      <td>56</td>\n",
       "      <td>0</td>\n",
       "      <td>52</td>\n",
       "      <td>6</td>\n",
       "      <td>407438</td>\n",
       "      <td>0</td>\n",
       "      <td>7</td>\n",
       "      <td>2015-01-01</td>\n",
       "      <td>S1F0</td>\n",
       "      <td>2</td>\n",
       "      <td>1</td>\n",
       "      <td>0</td>\n",
       "      <td>0</td>\n",
       "      <td>0</td>\n",
       "      <td>0</td>\n",
       "      <td>0</td>\n",
       "      <td>0</td>\n",
       "    </tr>\n",
       "    <tr>\n",
       "      <th>3</th>\n",
       "      <td>2015-01-04</td>\n",
       "      <td>S1F01085</td>\n",
       "      <td>0</td>\n",
       "      <td>56</td>\n",
       "      <td>0</td>\n",
       "      <td>52</td>\n",
       "      <td>6</td>\n",
       "      <td>407439</td>\n",
       "      <td>0</td>\n",
       "      <td>7</td>\n",
       "      <td>2015-01-01</td>\n",
       "      <td>S1F0</td>\n",
       "      <td>3</td>\n",
       "      <td>1</td>\n",
       "      <td>0</td>\n",
       "      <td>0</td>\n",
       "      <td>0</td>\n",
       "      <td>0</td>\n",
       "      <td>0</td>\n",
       "      <td>0</td>\n",
       "    </tr>\n",
       "    <tr>\n",
       "      <th>4</th>\n",
       "      <td>2015-01-05</td>\n",
       "      <td>S1F01085</td>\n",
       "      <td>0</td>\n",
       "      <td>56</td>\n",
       "      <td>0</td>\n",
       "      <td>52</td>\n",
       "      <td>6</td>\n",
       "      <td>408114</td>\n",
       "      <td>0</td>\n",
       "      <td>7</td>\n",
       "      <td>2015-01-01</td>\n",
       "      <td>S1F0</td>\n",
       "      <td>4</td>\n",
       "      <td>1</td>\n",
       "      <td>0</td>\n",
       "      <td>0</td>\n",
       "      <td>0</td>\n",
       "      <td>0</td>\n",
       "      <td>0</td>\n",
       "      <td>0</td>\n",
       "    </tr>\n",
       "  </tbody>\n",
       "</table>\n",
       "</div>"
      ],
      "text/plain": [
       "        date    device  failure  metric2  metric3  metric4  metric5  metric6  \\\n",
       "0 2015-01-01  S1F01085        0       56        0       52        6   407438   \n",
       "1 2015-01-02  S1F01085        0       56        0       52        6   407438   \n",
       "2 2015-01-03  S1F01085        0       56        0       52        6   407438   \n",
       "3 2015-01-04  S1F01085        0       56        0       52        6   407439   \n",
       "4 2015-01-05  S1F01085        0       56        0       52        6   408114   \n",
       "\n",
       "   metric7  metric9    mindate prefix  timelapse  S1F0  S1F1  W1F0  W1F1  \\\n",
       "0        0        7 2015-01-01   S1F0          0     1     0     0     0   \n",
       "1        0        7 2015-01-01   S1F0          1     1     0     0     0   \n",
       "2        0        7 2015-01-01   S1F0          2     1     0     0     0   \n",
       "3        0        7 2015-01-01   S1F0          3     1     0     0     0   \n",
       "4        0        7 2015-01-01   S1F0          4     1     0     0     0   \n",
       "\n",
       "   Z1F0  Z1F1  Z1F2  \n",
       "0     0     0     0  \n",
       "1     0     0     0  \n",
       "2     0     0     0  \n",
       "3     0     0     0  \n",
       "4     0     0     0  "
      ]
     },
     "execution_count": 28,
     "metadata": {},
     "output_type": "execute_result"
    }
   ],
   "source": [
    "# one-hot encoding of device prefix\n",
    "ohe=pd.get_dummies(df['prefix'])\n",
    "df=pd.concat([df, ohe],axis=1)\n",
    "df.drop(['prefix'],axis=1)\n",
    "df.head()"
   ]
  },
  {
   "cell_type": "code",
   "execution_count": 29,
   "metadata": {},
   "outputs": [
    {
     "name": "stdout",
     "output_type": "stream",
     "text": [
      "305\n"
     ]
    }
   ],
   "source": [
    "# What's the longest-lived device that failed?\n",
    "print(df['timelapse'].max())\n",
    "df.loc[(df['timelapse']>=280) & (df['failure']==1)]['device'].unique()\n",
    "T0B1=df.loc[df['device']=='W1F0T0B1']"
   ]
  },
  {
   "cell_type": "code",
   "execution_count": 30,
   "metadata": {},
   "outputs": [
    {
     "data": {
      "image/png": "[encoded data removed]",
      "text/plain": [
       "<Figure size 1152x144 with 1 Axes>"
      ]
     },
     "metadata": {
      "needs_background": "light"
     },
     "output_type": "display_data"
    },
    {
     "data": {
      "image/png": "[encoded data removed]",
      "text/plain": [
       "<Figure size 1152x144 with 1 Axes>"
      ]
     },
     "metadata": {
      "needs_background": "light"
     },
     "output_type": "display_data"
    },
    {
     "data": {
      "image/png": "[encoded data removed]",
      "text/plain": [
       "<Figure size 1152x144 with 1 Axes>"
      ]
     },
     "metadata": {
      "needs_background": "light"
     },
     "output_type": "display_data"
    },
    {
     "data": {
      "image/png": "[encoded data removed]",
      "text/plain": [
       "<Figure size 1152x144 with 1 Axes>"
      ]
     },
     "metadata": {
      "needs_background": "light"
     },
     "output_type": "display_data"
    },
    {
     "data": {
      "image/png": "[encoded data removed]",
      "text/plain": [
       "<Figure size 1152x144 with 1 Axes>"
      ]
     },
     "metadata": {
      "needs_background": "light"
     },
     "output_type": "display_data"
    },
    {
     "data": {
      "image/png": "[encoded data removed]",
      "text/plain": [
       "<Figure size 1152x144 with 1 Axes>"
      ]
     },
     "metadata": {
      "needs_background": "light"
     },
     "output_type": "display_data"
    },
    {
     "data": {
      "image/png": "[encoded data removed]",
      "text/plain": [
       "<Figure size 1152x144 with 1 Axes>"
      ]
     },
     "metadata": {
      "needs_background": "light"
     },
     "output_type": "display_data"
    },
    {
     "data": {
      "image/png": "[encoded data removed]",
      "text/plain": [
       "<Figure size 1152x144 with 1 Axes>"
      ]
     },
     "metadata": {
      "needs_background": "light"
     },
     "output_type": "display_data"
    }
   ],
   "source": [
    "# display the metrics for one device\n",
    "metrics=['metric2','metric3','metric4','metric5','metric6','metric7','metric9','failure']\n",
    "for num in range(len(metrics)):\n",
    "    plt.figure(figsize=(16,2))\n",
    "    plt.plot(T0B1['timelapse'], T0B1[metrics[num]], color = 'r')\n",
    "    plt.xlabel(metrics[num])\n",
    "    plt.ylabel(\"Range\")\n",
    "    plt.show()"
   ]
  },
  {
   "cell_type": "code",
   "execution_count": 152,
   "metadata": {},
   "outputs": [
    {
     "name": "stdout",
     "output_type": "stream",
     "text": [
      "0    228\n",
      "1     54\n",
      "2     19\n",
      "3      2\n",
      "8      1\n",
      "Name: failure, dtype: int64\n"
     ]
    },
    {
     "data": {
      "image/png": "[encoded data removed]",
      "text/plain": [
       "<Figure size 1152x144 with 1 Axes>"
      ]
     },
     "metadata": {
      "needs_background": "light"
     },
     "output_type": "display_data"
    }
   ],
   "source": [
    "# on any given day, a certain number of devices failed.\n",
    "\n",
    "timefail=pd.DataFrame(df.groupby('timelapse')['failure'].sum())\n",
    "print(timefail['failure'].value_counts()) \n",
    "plt.figure(figsize=(16,2))\n",
    "plt.plot(timefail , color = 'r');"
   ]
  },
  {
   "cell_type": "markdown",
   "metadata": {},
   "source": [
    "# Part 2. Modeling"
   ]
  },
  {
   "cell_type": "markdown",
   "metadata": {},
   "source": [
    "## Cox regression analysis"
   ]
  },
  {
   "cell_type": "markdown",
   "metadata": {},
   "source": [
    "The Cox proportional hazards model (1972) is widely used in multivariate survival statistics due to a relatively easy implementation and informative interpretation. It describes relationships between survival distribution and covariates. The Cox model makes an estimation of log-risk function λ(t|x) as a linear combination of its static covariates and baseline hazard."
   ]
  },
  {
   "cell_type": "code",
   "execution_count": 31,
   "metadata": {},
   "outputs": [
    {
     "name": "stdout",
     "output_type": "stream",
     "text": [
      "(1169, 3)\n"
     ]
    },
    {
     "data": {
      "text/html": [
       "<div>\n",
       "<style scoped>\n",
       "    .dataframe tbody tr th:only-of-type {\n",
       "        vertical-align: middle;\n",
       "    }\n",
       "\n",
       "    .dataframe tbody tr th {\n",
       "        vertical-align: top;\n",
       "    }\n",
       "\n",
       "    .dataframe thead th {\n",
       "        text-align: right;\n",
       "    }\n",
       "</style>\n",
       "<table border=\"1\" class=\"dataframe\">\n",
       "  <thead>\n",
       "    <tr style=\"text-align: right;\">\n",
       "      <th></th>\n",
       "      <th>failure</th>\n",
       "      <th>prefix</th>\n",
       "      <th>timelapse</th>\n",
       "    </tr>\n",
       "    <tr>\n",
       "      <th>device</th>\n",
       "      <th></th>\n",
       "      <th></th>\n",
       "      <th></th>\n",
       "    </tr>\n",
       "  </thead>\n",
       "  <tbody>\n",
       "    <tr>\n",
       "      <th>Z1F1VMZB</th>\n",
       "      <td>0</td>\n",
       "      <td>Z1F1</td>\n",
       "      <td>291</td>\n",
       "    </tr>\n",
       "    <tr>\n",
       "      <th>Z1F1VQFY</th>\n",
       "      <td>1</td>\n",
       "      <td>Z1F1</td>\n",
       "      <td>180</td>\n",
       "    </tr>\n",
       "    <tr>\n",
       "      <th>Z1F26YZB</th>\n",
       "      <td>0</td>\n",
       "      <td>Z1F2</td>\n",
       "      <td>83</td>\n",
       "    </tr>\n",
       "    <tr>\n",
       "      <th>Z1F282ZV</th>\n",
       "      <td>0</td>\n",
       "      <td>Z1F2</td>\n",
       "      <td>83</td>\n",
       "    </tr>\n",
       "    <tr>\n",
       "      <th>Z1F2PBHX</th>\n",
       "      <td>0</td>\n",
       "      <td>Z1F2</td>\n",
       "      <td>95</td>\n",
       "    </tr>\n",
       "  </tbody>\n",
       "</table>\n",
       "</div>"
      ],
      "text/plain": [
       "          failure prefix  timelapse\n",
       "device                             \n",
       "Z1F1VMZB        0   Z1F1        291\n",
       "Z1F1VQFY        1   Z1F1        180\n",
       "Z1F26YZB        0   Z1F2         83\n",
       "Z1F282ZV        0   Z1F2         83\n",
       "Z1F2PBHX        0   Z1F2         95"
      ]
     },
     "execution_count": 31,
     "metadata": {},
     "output_type": "execute_result"
    }
   ],
   "source": [
    "# because metrics tend to vary over time, they're not fixed variables by device.\n",
    "# device prefix does not vary, and thus serves as an independent variable.\n",
    "coxdf = df[['device', 'failure', 'prefix', 'timelapse']]\n",
    "coxdf = coxdf.groupby('device').max()\n",
    "print(coxdf.shape)\n",
    "coxdf.tail()"
   ]
  },
  {
   "cell_type": "code",
   "execution_count": 32,
   "metadata": {},
   "outputs": [
    {
     "data": {
      "text/html": [
       "<div>\n",
       "<style scoped>\n",
       "    .dataframe tbody tr th:only-of-type {\n",
       "        vertical-align: middle;\n",
       "    }\n",
       "\n",
       "    .dataframe tbody tr th {\n",
       "        vertical-align: top;\n",
       "    }\n",
       "\n",
       "    .dataframe thead th {\n",
       "        text-align: right;\n",
       "    }\n",
       "</style>\n",
       "<table border=\"1\" class=\"dataframe\">\n",
       "  <thead>\n",
       "    <tr style=\"text-align: right;\">\n",
       "      <th></th>\n",
       "      <th>failure</th>\n",
       "      <th>prefix</th>\n",
       "      <th>timelapse</th>\n",
       "      <th>S1F0</th>\n",
       "      <th>S1F1</th>\n",
       "      <th>W1F0</th>\n",
       "      <th>W1F1</th>\n",
       "      <th>Z1F0</th>\n",
       "      <th>Z1F1</th>\n",
       "      <th>Z1F2</th>\n",
       "    </tr>\n",
       "    <tr>\n",
       "      <th>device</th>\n",
       "      <th></th>\n",
       "      <th></th>\n",
       "      <th></th>\n",
       "      <th></th>\n",
       "      <th></th>\n",
       "      <th></th>\n",
       "      <th></th>\n",
       "      <th></th>\n",
       "      <th></th>\n",
       "      <th></th>\n",
       "    </tr>\n",
       "  </thead>\n",
       "  <tbody>\n",
       "    <tr>\n",
       "      <th>S1F01085</th>\n",
       "      <td>0</td>\n",
       "      <td>S1F0</td>\n",
       "      <td>5</td>\n",
       "      <td>1</td>\n",
       "      <td>0</td>\n",
       "      <td>0</td>\n",
       "      <td>0</td>\n",
       "      <td>0</td>\n",
       "      <td>0</td>\n",
       "      <td>0</td>\n",
       "    </tr>\n",
       "    <tr>\n",
       "      <th>S1F013BB</th>\n",
       "      <td>0</td>\n",
       "      <td>S1F0</td>\n",
       "      <td>5</td>\n",
       "      <td>1</td>\n",
       "      <td>0</td>\n",
       "      <td>0</td>\n",
       "      <td>0</td>\n",
       "      <td>0</td>\n",
       "      <td>0</td>\n",
       "      <td>0</td>\n",
       "    </tr>\n",
       "    <tr>\n",
       "      <th>S1F0166B</th>\n",
       "      <td>0</td>\n",
       "      <td>S1F0</td>\n",
       "      <td>5</td>\n",
       "      <td>1</td>\n",
       "      <td>0</td>\n",
       "      <td>0</td>\n",
       "      <td>0</td>\n",
       "      <td>0</td>\n",
       "      <td>0</td>\n",
       "      <td>0</td>\n",
       "    </tr>\n",
       "    <tr>\n",
       "      <th>S1F01E6Y</th>\n",
       "      <td>0</td>\n",
       "      <td>S1F0</td>\n",
       "      <td>47</td>\n",
       "      <td>1</td>\n",
       "      <td>0</td>\n",
       "      <td>0</td>\n",
       "      <td>0</td>\n",
       "      <td>0</td>\n",
       "      <td>0</td>\n",
       "      <td>0</td>\n",
       "    </tr>\n",
       "    <tr>\n",
       "      <th>S1F01JE0</th>\n",
       "      <td>0</td>\n",
       "      <td>S1F0</td>\n",
       "      <td>5</td>\n",
       "      <td>1</td>\n",
       "      <td>0</td>\n",
       "      <td>0</td>\n",
       "      <td>0</td>\n",
       "      <td>0</td>\n",
       "      <td>0</td>\n",
       "      <td>0</td>\n",
       "    </tr>\n",
       "  </tbody>\n",
       "</table>\n",
       "</div>"
      ],
      "text/plain": [
       "          failure prefix  timelapse  S1F0  S1F1  W1F0  W1F1  Z1F0  Z1F1  Z1F2\n",
       "device                                                                       \n",
       "S1F01085        0   S1F0          5     1     0     0     0     0     0     0\n",
       "S1F013BB        0   S1F0          5     1     0     0     0     0     0     0\n",
       "S1F0166B        0   S1F0          5     1     0     0     0     0     0     0\n",
       "S1F01E6Y        0   S1F0         47     1     0     0     0     0     0     0\n",
       "S1F01JE0        0   S1F0          5     1     0     0     0     0     0     0"
      ]
     },
     "execution_count": 32,
     "metadata": {},
     "output_type": "execute_result"
    }
   ],
   "source": [
    "# one-hot encoding of device prefix\n",
    "ohe=pd.get_dummies(coxdf['prefix'])\n",
    "coxdf=pd.concat([coxdf, ohe],axis=1)\n",
    "coxdf.head()"
   ]
  },
  {
   "cell_type": "markdown",
   "metadata": {},
   "source": [
    "Survival models in scikit-survival follow the same rules as estimators in scikit-learn, i.e., they have a fit method, which expects a data matrix and a structured array of survival times and binary event indicators."
   ]
  },
  {
   "cell_type": "code",
   "execution_count": 33,
   "metadata": {},
   "outputs": [
    {
     "data": {
      "text/plain": [
       "Index(['S1F1', 'W1F0', 'W1F1', 'Z1F0', 'Z1F1', 'Z1F2'], dtype='object')"
      ]
     },
     "execution_count": 33,
     "metadata": {},
     "output_type": "execute_result"
    }
   ],
   "source": [
    "# We drop one category for comparison purposes (intercept)\n",
    "X=coxdf.drop(['prefix','failure','timelapse','S1F0'],axis=1)\n",
    "X.columns"
   ]
  },
  {
   "cell_type": "code",
   "execution_count": 34,
   "metadata": {},
   "outputs": [
    {
     "data": {
      "text/plain": [
       "rec.array([(False,  5), (False,  5), (False,  5), (False, 47),\n",
       "           (False,  5)],\n",
       "          dtype=[('failure', '?'), ('timelapse', '<i8')])"
      ]
     },
     "execution_count": 34,
     "metadata": {},
     "output_type": "execute_result"
    }
   ],
   "source": [
    "# Convert time & failure into a structured array of booleans\n",
    "coxdf['failure']=coxdf['failure'].astype('bool')\n",
    "y=coxdf[['failure','timelapse']].to_records(index=False)\n",
    "y[:5]"
   ]
  },
  {
   "cell_type": "code",
   "execution_count": 35,
   "metadata": {},
   "outputs": [],
   "source": [
    "# Split our data with a test size of 30%\n",
    "X_train, X_test, y_train, y_test = train_test_split(X, y, test_size=0.3)"
   ]
  },
  {
   "cell_type": "code",
   "execution_count": 36,
   "metadata": {},
   "outputs": [
    {
     "data": {
      "text/plain": [
       "CoxPHSurvivalAnalysis()"
      ]
     },
     "execution_count": 36,
     "metadata": {},
     "output_type": "execute_result"
    }
   ],
   "source": [
    "# Instantiate and fit the estimator\n",
    "estimator = CoxPHSurvivalAnalysis()\n",
    "estimator.fit(X_train, y_train)"
   ]
  },
  {
   "cell_type": "markdown",
   "metadata": {},
   "source": [
    "In survival analysis, the hazard ratio (HR) is the ratio of the hazard rates corresponding to the conditions described by two levels of an explanatory variable. Each coefficient is a hazard ratio for that specific variable. \n",
    "\n",
    "- A positive sign increases the baseline hazard λ0(t) and denotes that this covariate affects a higher risk of experiencing the event of interest. In contrary, a negative sign means that the risk of the event is lower.\n",
    "- For example, in a drug study, the treated population may die at twice the rate per unit time of the control population. The hazard ratio would be 2, indicating higher hazard of death from the treatment."
   ]
  },
  {
   "cell_type": "code",
   "execution_count": 37,
   "metadata": {},
   "outputs": [
    {
     "data": {
      "text/plain": [
       "S1F1    -1.899986\n",
       "W1F0    -0.151205\n",
       "W1F1    -0.728511\n",
       "Z1F0    -0.572725\n",
       "Z1F1    -0.271090\n",
       "Z1F2   -13.480774\n",
       "dtype: float64"
      ]
     },
     "execution_count": 37,
     "metadata": {},
     "output_type": "execute_result"
    }
   ],
   "source": [
    "# extract coefficients\n",
    "pd.Series(estimator.coef_, index=X_train.columns)"
   ]
  },
  {
   "cell_type": "markdown",
   "metadata": {},
   "source": [
    "the `predict_survival_function` method returns a sequence of step functions, which we can plot. This shows the probability of a device not failing, for a given point in time (measured in days since device activation)."
   ]
  },
  {
   "cell_type": "code",
   "execution_count": 38,
   "metadata": {},
   "outputs": [
    {
     "data": {
      "image/png": "[encoded data removed]",
      "text/plain": [
       "<Figure size 864x360 with 1 Axes>"
      ]
     },
     "metadata": {
      "needs_background": "light"
     },
     "output_type": "display_data"
    }
   ],
   "source": [
    "# create 7 new cases\n",
    "x_new = pd.DataFrame.from_dict({\n",
    "    1: [1,0,0,0,0,0],\n",
    "    2: [0,1,0,0,0,0],\n",
    "    3: [0,0,1,0,0,0],\n",
    "    4: [0,0,0,1,0,0],\n",
    "    5: [0,0,0,0,1,0],\n",
    "    6: [0,0,0,0,0,1]\n",
    "},\n",
    "     columns=X_train.columns, orient='index')\n",
    "\n",
    "# list the device categories\n",
    "device_types=list(X_train.columns)\n",
    "# display as curves\n",
    "pred_surv = estimator.predict_survival_function(x_new)\n",
    "time_points = np.arange(3, 305)\n",
    "plt.figure(figsize=(12,5))\n",
    "for i, surv_func in enumerate(pred_surv):\n",
    "    plt.step(time_points, surv_func(time_points), where=\"post\",\n",
    "             label=device_types[i])\n",
    "plt.ylabel(\"est. probability of survival $\\hat{S}(t)$\")\n",
    "plt.xlabel(\"time $t$\")\n",
    "plt.legend(loc=\"best\");"
   ]
  },
  {
   "cell_type": "markdown",
   "metadata": {},
   "source": [
    "### Evaluation of Cox Regression"
   ]
  },
  {
   "cell_type": "markdown",
   "metadata": {},
   "source": [
    "The most frequently used evaluation metric of survival models is the concordance index (c index, c statistic).  It is a measure of rank correlation between predicted risk scores f and observed time points y. Metrics like root mean squared error or correlation are unsuitable due to censoring.  The interpretation is identical to the traditional area under the ROC curve metric for binary classification: \n",
    "- a value of 0.5 denotes a random model, \n",
    "- a value of 1.0 denotes a perfect model, \n",
    "- a value of 0.0 denotes a perfectly wrong model."
   ]
  },
  {
   "cell_type": "code",
   "execution_count": 39,
   "metadata": {},
   "outputs": [
    {
     "name": "stdout",
     "output_type": "stream",
     "text": [
      "0.6110432626475704\n",
      "0.5226330027051398\n"
     ]
    }
   ],
   "source": [
    "# Measuring the Performance of the Survival Model\n",
    "print(estimator.score(X_train,y_train))\n",
    "print(estimator.score(X_test,y_test))"
   ]
  },
  {
   "cell_type": "markdown",
   "metadata": {},
   "source": [
    "Our model's c-index indicates that the model performs better than random chance, but is far from perfect. This is likely because we removed all of the attribute variables (metrics 2-9) from the analysis, which could have served as predictors. What this tells us is that lifespan, by itself, is not a strong predictor of when a device will fail (i.e., simply being old by itself is not necessarily a predictor of failure).  \n",
    "\n",
    "A different approach (time series analysis) can take into account the device metrics which likely indicate upcoming failure."
   ]
  },
  {
   "cell_type": "markdown",
   "metadata": {},
   "source": [
    "## Multi-Task Logistic Regression (MTLR) "
   ]
  },
  {
   "cell_type": "markdown",
   "metadata": {},
   "source": [
    "When it comes to predicting the survival function for a specific unit, the Cox Proportional Hazard Model is usually the go-to model. However, it presents some important drawbacks:\n",
    "\n",
    "- It relies on the proportional hazard assumption, which specifies that the ratio of the hazards for any two individuals is constant over time.\n",
    "- The exact formula of the model that can handle ties isn’t computationally efficient, and is often rewritten using approximations, such as the Efron’s or Breslow’s approximations, in order to fit the model in a reasonable time.\n",
    "- The fact that the time component of the hazard function remains unspecified makes the CoxPH model ill-suited for actual survival function predictions.  \n",
    "\n",
    "The [Multi-Task Logistic Regression models](https://square.github.io/pysurvival/models/mtlr_theory.html) were therefore introduced to provide great alternatives."
   ]
  },
  {
   "cell_type": "markdown",
   "metadata": {},
   "source": [
    "### Train-test split "
   ]
  },
  {
   "cell_type": "code",
   "execution_count": 40,
   "metadata": {},
   "outputs": [
    {
     "name": "stdout",
     "output_type": "stream",
     "text": [
      "467\n",
      "['S1F0CVDS', 'W1F1CAKS', 'Z1F0L7PX', 'S1F04TS4', 'S1F115Z6']\n"
     ]
    }
   ],
   "source": [
    "# randomly select device ID numbers for train-test split\n",
    "import random\n",
    "device_ids=list(df['device'].unique())\n",
    "test_size=int(len(device_ids)*.4)\n",
    "print(test_size)\n",
    "random.seed(10)\n",
    "test_list = random.sample(device_ids, test_size)\n",
    "print(test_list[:5])"
   ]
  },
  {
   "cell_type": "code",
   "execution_count": 41,
   "metadata": {},
   "outputs": [
    {
     "name": "stdout",
     "output_type": "stream",
     "text": [
      "124446\n",
      "71731\n",
      "52715\n"
     ]
    }
   ],
   "source": [
    "# train-test split\n",
    "data_test = df[df['device'].isin(test_list)]\n",
    "data_train = df[~df['device'].isin(test_list)]\n",
    "print(len(df))\n",
    "print(len(data_train))\n",
    "print(len(data_test))\n",
    "assert len(data_train)+len(data_test)==len(df)"
   ]
  },
  {
   "cell_type": "markdown",
   "metadata": {},
   "source": [
    "## Linear MTLR model"
   ]
  },
  {
   "cell_type": "markdown",
   "metadata": {},
   "source": [
    "The [Linear Multi-Task Logistic Regression (MTLR) model](https://square.github.io/pysurvival/models/linear_mtlr.html) is an alternative to the Cox’s proportional hazard model. It can be seen as a series of logistic regression models built on different time intervals so as to estimate the probability that the event of interest happened within each interval.\n",
    "\n",
    "The model was introduced by Yu, Chun-Nam, et al. in 2011"
   ]
  },
  {
   "cell_type": "code",
   "execution_count": 42,
   "metadata": {},
   "outputs": [],
   "source": [
    "# let's try with just a single predictor. Adding additional predictors produced inferior results.\n",
    "features = [\n",
    "#             'metric2', \n",
    "#             'metric3', \n",
    "#             'metric4', \n",
    "#             'metric5', \n",
    "            'metric6', \n",
    "#             'metric7',\n",
    "#             'metric9',\n",
    "#             'S1F0', 'S1F1', 'W1F0', 'W1F1', 'Z1F0', 'Z1F1', 'Z1F2'\n",
    "           ]"
   ]
  },
  {
   "cell_type": "code",
   "execution_count": 43,
   "metadata": {},
   "outputs": [],
   "source": [
    "# Creating the X, T and E inputs\n",
    "X_train, X_test = data_train[features], data_test[features]\n",
    "T_train, T_test = data_train['timelapse'], data_test['timelapse']\n",
    "E_train, E_test = data_train['failure'], data_test['failure']"
   ]
  },
  {
   "cell_type": "code",
   "execution_count": 44,
   "metadata": {},
   "outputs": [
    {
     "name": "stderr",
     "output_type": "stream",
     "text": [
      "% Completion: 100%|*********************************************|Loss: 36079.73\n"
     ]
    },
    {
     "data": {
      "text/plain": [
       "LinearMultiTaskModel"
      ]
     },
     "execution_count": 44,
     "metadata": {},
     "output_type": "execute_result"
    }
   ],
   "source": [
    "# Let's now fit a Linear MTLR model to the training set. \n",
    "from pysurvival.models.multi_task import LinearMultiTaskModel\n",
    "\n",
    "# Initializing the MTLR with a time axis split into 300 intervals\n",
    "linear_mtlr = LinearMultiTaskModel(bins=300)\n",
    "\n",
    "# Fitting the model\n",
    "linear_mtlr.fit(X_train, T_train, E_train, \n",
    "                num_epochs = 1000,\n",
    "                init_method = 'orthogonal', \n",
    "                optimizer ='rmsprop',\n",
    "                lr = 1e-6, \n",
    "                l2_reg = 3,  \n",
    "                l2_smooth = 3\n",
    "               )"
   ]
  },
  {
   "cell_type": "code",
   "execution_count": 45,
   "metadata": {},
   "outputs": [
    {
     "data": {
      "image/png": "[encoded data removed]",
      "text/plain": [
       "<Figure size 504x288 with 1 Axes>"
      ]
     },
     "metadata": {
      "needs_background": "light"
     },
     "output_type": "display_data"
    }
   ],
   "source": [
    "from pysurvival.utils.display import display_loss_values\n",
    "display_loss_values(linear_mtlr, figure_size=(7, 4))"
   ]
  },
  {
   "cell_type": "markdown",
   "metadata": {},
   "source": [
    "The [Concordance Index](https://square.github.io/pysurvival/metrics/c_index.html) or C-index is a generalization of the area under the ROC curve (AUC) that can take into account censored data. It represents the global assessment of the model discrimination power: this is the model’s ability to correctly provide a reliable ranking of the survival times based on the individual risk scores. In general, when the C-index is close to 1, the model has an almost perfect discriminatory power; but if it is close to 0.5, it has no ability to discriminate between low and high risk subjects."
   ]
  },
  {
   "cell_type": "code",
   "execution_count": 46,
   "metadata": {},
   "outputs": [
    {
     "name": "stdout",
     "output_type": "stream",
     "text": [
      "C-index: 0.62\n"
     ]
    }
   ],
   "source": [
    "from pysurvival.utils.metrics import concordance_index\n",
    "c_index = concordance_index(linear_mtlr, X_test, T_test, E_test)\n",
    "print('C-index: {:.2f}'.format(c_index)) "
   ]
  },
  {
   "cell_type": "markdown",
   "metadata": {},
   "source": [
    "## Neural Network Model"
   ]
  },
  {
   "cell_type": "markdown",
   "metadata": {},
   "source": [
    "The [Neural Multi-Task Logistic Regression model](https://square.github.io/pysurvival/models/neural_mtlr.html) (N-MTLR) was presented in Deep Neural Networks for Survival Analysis Based on a Multi-Task Framework allowing the use of Neural Networks within the original MTLR design."
   ]
  },
  {
   "cell_type": "code",
   "execution_count": 188,
   "metadata": {},
   "outputs": [],
   "source": [
    "# make a list of features\n",
    "features = [\n",
    "            'metric2', \n",
    "            'metric3', \n",
    "            'metric4', \n",
    "            'metric5', \n",
    "            'metric6', \n",
    "            'metric7',\n",
    "            'metric9',\n",
    "            'S1F0', 'S1F1', 'W1F0', 'W1F1', 'Z1F0', 'Z1F1', 'Z1F2'\n",
    "           ]"
   ]
  },
  {
   "cell_type": "code",
   "execution_count": 189,
   "metadata": {},
   "outputs": [],
   "source": [
    "# Creating the X, T and E inputs\n",
    "X_train, X_test = data_train[features], data_test[features]\n",
    "T_train, T_test = data_train['timelapse'], data_test['timelapse']\n",
    "E_train, E_test = data_train['failure'], data_test['failure']"
   ]
  },
  {
   "cell_type": "markdown",
   "metadata": {},
   "source": [
    "The `structure` parameter provides the structure of the MLP built within the N-MTLR.\n",
    "- `num_units` is the number of hidden units in this layer\n",
    "- `activation` is the activation function that will be used. "
   ]
  },
  {
   "cell_type": "code",
   "execution_count": 190,
   "metadata": {},
   "outputs": [],
   "source": [
    "# Instantiate\n",
    "from pysurvival.models.multi_task import NeuralMultiTaskModel\n",
    "structure = [{'activation': 'Tanh', 'num_units': 60},  \n",
    "             {'activation': 'ReLU', 'num_units': 60},\n",
    "             {'activation': 'ReLU', 'num_units': 60},\n",
    "               ]\n",
    "neural_mtlm = NeuralMultiTaskModel(structure, bins=100, auto_scaler=True)"
   ]
  },
  {
   "cell_type": "code",
   "execution_count": 191,
   "metadata": {},
   "outputs": [
    {
     "name": "stderr",
     "output_type": "stream",
     "text": [
      "% Completion: 100%|***********************************************|Loss: 568.42\n"
     ]
    },
    {
     "data": {
      "text/plain": [
       "NeuralMultiTaskModel( Layer(1): activation = Tanh, units = 60 ; \n",
       "                      Layer(2): activation = ReLU, units = 60 ; \n",
       "                      Layer(3): activation = ReLU, units = 60 )"
      ]
     },
     "execution_count": 191,
     "metadata": {},
     "output_type": "execute_result"
    }
   ],
   "source": [
    "# Fitting the model\n",
    "neural_mtlm.fit(X_train, T_train, E_train, \n",
    "                init_method = 'glorot_uniform', \n",
    "                optimizer ='adam',\n",
    "                lr = 1e-3, \n",
    "                num_epochs = 1000, \n",
    "                dropout = 0.2, \n",
    "                l2_reg=1e-2,\n",
    "                l2_smooth=1e-2, \n",
    "                batch_normalization=False, \n",
    "                bn_and_dropout=False,\n",
    "                verbose=True, \n",
    "                extra_pct_time = 0.1, \n",
    "                is_min_time_zero=True)"
   ]
  },
  {
   "cell_type": "code",
   "execution_count": 193,
   "metadata": {},
   "outputs": [
    {
     "data": {
      "image/png": "[encoded data removed]",
      "text/plain": [
       "<Figure size 504x288 with 1 Axes>"
      ]
     },
     "metadata": {
      "needs_background": "light"
     },
     "output_type": "display_data"
    }
   ],
   "source": [
    "# loss function values\n",
    "display_loss_values(neural_mtlm, figure_size=(7, 4))"
   ]
  },
  {
   "cell_type": "code",
   "execution_count": 194,
   "metadata": {},
   "outputs": [
    {
     "name": "stdout",
     "output_type": "stream",
     "text": [
      "C-index: 0.97\n"
     ]
    }
   ],
   "source": [
    "# evaluation\n",
    "c_index = concordance_index(neural_mtlm, X_test, T_test, E_test)\n",
    "print('C-index: {:.2f}'.format(c_index)) "
   ]
  },
  {
   "cell_type": "markdown",
   "metadata": {},
   "source": [
    "let's compare the time series of the actual and predicted number of device failures."
   ]
  },
  {
   "cell_type": "code",
   "execution_count": 195,
   "metadata": {},
   "outputs": [
    {
     "data": {
      "image/png": "[encoded data removed]",
      "text/plain": [
       "<Figure size 1152x432 with 1 Axes>"
      ]
     },
     "metadata": {
      "needs_background": "light"
     },
     "output_type": "display_data"
    }
   ],
   "source": [
    "from pysurvival.utils.display import compare_to_actual\n",
    "results = compare_to_actual(neural_mtlm, X_test, T_test, E_test,\n",
    "                            is_at_risk = False,  figure_size=(16, 6),\n",
    "                            metrics = ['rmse', 'mean', 'median'])"
   ]
  },
  {
   "cell_type": "code",
   "execution_count": 196,
   "metadata": {},
   "outputs": [
    {
     "name": "stdout",
     "output_type": "stream",
     "text": [
      "52715\n",
      "351\n"
     ]
    }
   ],
   "source": [
    "# predictions\n",
    "predicted = neural_mtlm.predict_survival(X_test.values)\n",
    "print(len(predicted))\n",
    "print(len(y_test))"
   ]
  },
  {
   "cell_type": "code",
   "execution_count": 197,
   "metadata": {},
   "outputs": [
    {
     "name": "stdout",
     "output_type": "stream",
     "text": [
      "[1.         0.99992146 0.99980747 0.99967167 0.99951478 0.99934319\n",
      " 0.99909158 0.99883281 0.998603   0.9984569  0.99830989 0.99813314\n",
      " 0.99797224 0.9977162  0.99754994 0.99739269 0.99728579 0.99719107\n",
      " 0.99714057 0.9970983  0.9970632  0.99702701 0.99700015 0.9969763\n",
      " 0.99693896 0.99690064 0.99687413 0.9968531  0.99683911 0.99682397\n",
      " 0.9968068  0.99679083 0.99677209 0.99675771 0.99672836 0.99669515\n",
      " 0.99665548 0.99659339 0.99653163 0.9964974  0.99647091 0.99643512\n",
      " 0.99637607 0.99632752 0.99628151 0.99622408 0.99617852 0.996142\n",
      " 0.99611897 0.99610807 0.99609885 0.99608691 0.99607563 0.99605719\n",
      " 0.99603309 0.99601685 0.99600671 0.99599836 0.99598825 0.99597213\n",
      " 0.99594705 0.9959138  0.995884   0.99584963 0.99581404 0.99579243\n",
      " 0.99576993 0.99575557 0.99574085 0.99572706 0.99571766 0.99570748\n",
      " 0.99569861 0.99569053 0.99567872 0.99566741 0.99564704 0.99563382\n",
      " 0.99562466 0.99561727 0.995602   0.99557125 0.99551166 0.9954458\n",
      " 0.9953605  0.99526641 0.99508663 0.99476007 0.99432692 0.99355213\n",
      " 0.99188337 0.98942556 0.98564309 0.97728777 0.9619501  0.93742627\n",
      " 0.87701056 0.78557489 0.6548427  0.35418291]\n"
     ]
    },
    {
     "data": {
      "image/png": "[encoded data removed]",
      "text/plain": [
       "<Figure size 432x288 with 1 Axes>"
      ]
     },
     "metadata": {
      "needs_background": "light"
     },
     "output_type": "display_data"
    }
   ],
   "source": [
    "# what does this look like for one instance?\n",
    "print(predicted[52710])\n",
    "pd.Series(predicted[52710]).plot();"
   ]
  },
  {
   "cell_type": "code",
   "execution_count": 198,
   "metadata": {},
   "outputs": [
    {
     "name": "stdout",
     "output_type": "stream",
     "text": [
      "52715\n"
     ]
    }
   ],
   "source": [
    "# hazard\n",
    "predicted_hazard = neural_mtlm.predict_hazard(X_test.values)\n",
    "print(len(predicted_hazard))"
   ]
  },
  {
   "cell_type": "code",
   "execution_count": 199,
   "metadata": {},
   "outputs": [
    {
     "name": "stdout",
     "output_type": "stream",
     "text": [
      "[7.85461831e-05 1.14012434e-04 1.35841957e-04 1.56967022e-04\n",
      " 1.71703546e-04 2.51839124e-04 2.59073913e-04 2.30125590e-04\n",
      " 1.46334855e-04 1.47253904e-04 1.77082379e-04 1.61221819e-04\n",
      " 2.56626848e-04 1.66674276e-04 1.57655747e-04 1.07194059e-04\n",
      " 9.49819898e-05 5.06449094e-05 4.23974730e-05 3.51997414e-05\n",
      " 3.63008444e-05 2.69407860e-05 2.39202346e-05 3.74545804e-05\n",
      " 3.84396075e-05 2.65940572e-05 2.11020731e-05 1.40293858e-05\n",
      " 1.51842801e-05 1.72259434e-05 1.60251654e-05 1.87986738e-05\n",
      " 1.44318580e-05 2.94440773e-05 3.33167469e-05 3.98012663e-05\n",
      " 6.23076859e-05 6.19706752e-05 3.43512104e-05 2.65851577e-05\n",
      " 3.59198089e-05 5.92623402e-05 4.87291687e-05 4.61813399e-05\n",
      " 5.76452643e-05 4.57386603e-05 3.66585786e-05 2.31248210e-05\n",
      " 1.09435705e-05 9.25189033e-06 1.19918618e-05 1.13220727e-05\n",
      " 1.85097420e-05 2.41959598e-05 1.63062428e-05 1.01787643e-05\n",
      " 8.38643416e-06 1.01472742e-05 1.61910270e-05 2.51747830e-05\n",
      " 3.33941492e-05 2.99203947e-05 3.45173968e-05 3.57357046e-05\n",
      " 2.17043165e-05 2.25884485e-05 1.44246049e-05 1.47839993e-05\n",
      " 1.38475227e-05 9.43942744e-06 1.02258127e-05 8.91185986e-06\n",
      " 8.10821060e-06 1.18602380e-05 1.13668214e-05 2.04521840e-05\n",
      " 1.32762464e-05 9.20859678e-06 7.41728224e-06 1.53440623e-05\n",
      " 3.08844202e-05 5.98527716e-05 6.61682133e-05 8.56967538e-05\n",
      " 9.45392372e-05 1.80659876e-04 3.28287309e-04 4.35616843e-04\n",
      " 7.79820099e-04 1.68241210e-03 2.48407952e-03 3.83756875e-03\n",
      " 8.54949510e-03 1.59443545e-02 2.61608019e-02 6.88882366e-02\n",
      " 1.16393317e-01 1.99639088e-01 8.48882819e-01]\n"
     ]
    },
    {
     "data": {
      "image/png": "[encoded data removed]",
      "text/plain": [
       "<Figure size 432x288 with 1 Axes>"
      ]
     },
     "metadata": {
      "needs_background": "light"
     },
     "output_type": "display_data"
    }
   ],
   "source": [
    "# what does this look like for one instance?\n",
    "print(predicted_hazard[52710])\n",
    "pd.Series(predicted_hazard[52710]).plot();"
   ]
  },
  {
   "cell_type": "code",
   "execution_count": 200,
   "metadata": {},
   "outputs": [
    {
     "name": "stdout",
     "output_type": "stream",
     "text": [
      "52715\n",
      "2.600858643942425\n"
     ]
    }
   ],
   "source": [
    "# risk\n",
    "predicted_risk = neural_mtlm.predict_risk(X_test.values)\n",
    "print(len(predicted_risk))\n",
    "print(predicted_risk[52714])"
   ]
  },
  {
   "cell_type": "markdown",
   "metadata": {},
   "source": [
    "### Predicting on new data"
   ]
  },
  {
   "cell_type": "code",
   "execution_count": 213,
   "metadata": {},
   "outputs": [
    {
     "data": {
      "text/html": [
       "<div>\n",
       "<style scoped>\n",
       "    .dataframe tbody tr th:only-of-type {\n",
       "        vertical-align: middle;\n",
       "    }\n",
       "\n",
       "    .dataframe tbody tr th {\n",
       "        vertical-align: top;\n",
       "    }\n",
       "\n",
       "    .dataframe thead th {\n",
       "        text-align: right;\n",
       "    }\n",
       "</style>\n",
       "<table border=\"1\" class=\"dataframe\">\n",
       "  <thead>\n",
       "    <tr style=\"text-align: right;\">\n",
       "      <th></th>\n",
       "      <th>date</th>\n",
       "      <th>device</th>\n",
       "      <th>failure</th>\n",
       "      <th>metric2</th>\n",
       "      <th>metric3</th>\n",
       "      <th>metric4</th>\n",
       "      <th>metric5</th>\n",
       "      <th>metric6</th>\n",
       "      <th>metric7</th>\n",
       "      <th>metric9</th>\n",
       "      <th>mindate</th>\n",
       "      <th>prefix</th>\n",
       "      <th>timelapse</th>\n",
       "      <th>S1F0</th>\n",
       "      <th>S1F1</th>\n",
       "      <th>W1F0</th>\n",
       "      <th>W1F1</th>\n",
       "      <th>Z1F0</th>\n",
       "      <th>Z1F1</th>\n",
       "      <th>Z1F2</th>\n",
       "    </tr>\n",
       "  </thead>\n",
       "  <tbody>\n",
       "    <tr>\n",
       "      <th>68964</th>\n",
       "      <td>2015-10-22</td>\n",
       "      <td>W1F0T0B1</td>\n",
       "      <td>0</td>\n",
       "      <td>0</td>\n",
       "      <td>0</td>\n",
       "      <td>0</td>\n",
       "      <td>9</td>\n",
       "      <td>352949</td>\n",
       "      <td>16</td>\n",
       "      <td>0</td>\n",
       "      <td>2015-01-01</td>\n",
       "      <td>W1F0</td>\n",
       "      <td>294</td>\n",
       "      <td>0</td>\n",
       "      <td>0</td>\n",
       "      <td>1</td>\n",
       "      <td>0</td>\n",
       "      <td>0</td>\n",
       "      <td>0</td>\n",
       "      <td>0</td>\n",
       "    </tr>\n",
       "    <tr>\n",
       "      <th>68965</th>\n",
       "      <td>2015-10-23</td>\n",
       "      <td>W1F0T0B1</td>\n",
       "      <td>0</td>\n",
       "      <td>0</td>\n",
       "      <td>0</td>\n",
       "      <td>0</td>\n",
       "      <td>9</td>\n",
       "      <td>352949</td>\n",
       "      <td>16</td>\n",
       "      <td>0</td>\n",
       "      <td>2015-01-01</td>\n",
       "      <td>W1F0</td>\n",
       "      <td>295</td>\n",
       "      <td>0</td>\n",
       "      <td>0</td>\n",
       "      <td>1</td>\n",
       "      <td>0</td>\n",
       "      <td>0</td>\n",
       "      <td>0</td>\n",
       "      <td>0</td>\n",
       "    </tr>\n",
       "    <tr>\n",
       "      <th>68966</th>\n",
       "      <td>2015-10-24</td>\n",
       "      <td>W1F0T0B1</td>\n",
       "      <td>0</td>\n",
       "      <td>0</td>\n",
       "      <td>0</td>\n",
       "      <td>0</td>\n",
       "      <td>9</td>\n",
       "      <td>352949</td>\n",
       "      <td>16</td>\n",
       "      <td>0</td>\n",
       "      <td>2015-01-01</td>\n",
       "      <td>W1F0</td>\n",
       "      <td>296</td>\n",
       "      <td>0</td>\n",
       "      <td>0</td>\n",
       "      <td>1</td>\n",
       "      <td>0</td>\n",
       "      <td>0</td>\n",
       "      <td>0</td>\n",
       "      <td>0</td>\n",
       "    </tr>\n",
       "    <tr>\n",
       "      <th>68967</th>\n",
       "      <td>2015-10-25</td>\n",
       "      <td>W1F0T0B1</td>\n",
       "      <td>0</td>\n",
       "      <td>0</td>\n",
       "      <td>0</td>\n",
       "      <td>7</td>\n",
       "      <td>9</td>\n",
       "      <td>354072</td>\n",
       "      <td>22</td>\n",
       "      <td>0</td>\n",
       "      <td>2015-01-01</td>\n",
       "      <td>W1F0</td>\n",
       "      <td>297</td>\n",
       "      <td>0</td>\n",
       "      <td>0</td>\n",
       "      <td>1</td>\n",
       "      <td>0</td>\n",
       "      <td>0</td>\n",
       "      <td>0</td>\n",
       "      <td>0</td>\n",
       "    </tr>\n",
       "    <tr>\n",
       "      <th>68968</th>\n",
       "      <td>2015-10-26</td>\n",
       "      <td>W1F0T0B1</td>\n",
       "      <td>1</td>\n",
       "      <td>0</td>\n",
       "      <td>0</td>\n",
       "      <td>7</td>\n",
       "      <td>9</td>\n",
       "      <td>354861</td>\n",
       "      <td>22</td>\n",
       "      <td>0</td>\n",
       "      <td>2015-01-01</td>\n",
       "      <td>W1F0</td>\n",
       "      <td>298</td>\n",
       "      <td>0</td>\n",
       "      <td>0</td>\n",
       "      <td>1</td>\n",
       "      <td>0</td>\n",
       "      <td>0</td>\n",
       "      <td>0</td>\n",
       "      <td>0</td>\n",
       "    </tr>\n",
       "  </tbody>\n",
       "</table>\n",
       "</div>"
      ],
      "text/plain": [
       "            date    device  failure  metric2  metric3  metric4  metric5  \\\n",
       "68964 2015-10-22  W1F0T0B1        0        0        0        0        9   \n",
       "68965 2015-10-23  W1F0T0B1        0        0        0        0        9   \n",
       "68966 2015-10-24  W1F0T0B1        0        0        0        0        9   \n",
       "68967 2015-10-25  W1F0T0B1        0        0        0        7        9   \n",
       "68968 2015-10-26  W1F0T0B1        1        0        0        7        9   \n",
       "\n",
       "       metric6  metric7  metric9    mindate prefix  timelapse  S1F0  S1F1  \\\n",
       "68964   352949       16        0 2015-01-01   W1F0        294     0     0   \n",
       "68965   352949       16        0 2015-01-01   W1F0        295     0     0   \n",
       "68966   352949       16        0 2015-01-01   W1F0        296     0     0   \n",
       "68967   354072       22        0 2015-01-01   W1F0        297     0     0   \n",
       "68968   354861       22        0 2015-01-01   W1F0        298     0     0   \n",
       "\n",
       "       W1F0  W1F1  Z1F0  Z1F1  Z1F2  \n",
       "68964     1     0     0     0     0  \n",
       "68965     1     0     0     0     0  \n",
       "68966     1     0     0     0     0  \n",
       "68967     1     0     0     0     0  \n",
       "68968     1     0     0     0     0  "
      ]
     },
     "execution_count": 213,
     "metadata": {},
     "output_type": "execute_result"
    }
   ],
   "source": [
    "# let's take a look at just one device.\n",
    "T0B1.tail()"
   ]
  },
  {
   "cell_type": "code",
   "execution_count": 214,
   "metadata": {},
   "outputs": [],
   "source": [
    "# set up the components.\n",
    "X_new = T0B1[list(X_test.columns)]\n",
    "T_new = T0B1['timelapse']\n",
    "E_new = T0B1['failure']"
   ]
  },
  {
   "cell_type": "code",
   "execution_count": 218,
   "metadata": {},
   "outputs": [
    {
     "name": "stdout",
     "output_type": "stream",
     "text": [
      "299\n",
      "299\n"
     ]
    }
   ],
   "source": [
    "# make the predictions (note: their length is determined by the length of T0B1)\n",
    "new_predictions = neural_mtlm.predict_survival(X_new)\n",
    "print(len(T0B1))\n",
    "print(len(new_predictions))"
   ]
  },
  {
   "cell_type": "code",
   "execution_count": 243,
   "metadata": {},
   "outputs": [
    {
     "data": {
      "image/png": "[encoded data removed]",
      "text/plain": [
       "<Figure size 1152x360 with 1 Axes>"
      ]
     },
     "metadata": {
      "needs_background": "light"
     },
     "output_type": "display_data"
    }
   ],
   "source": [
    "# predictions for day 1 and day 298:\n",
    "plt.figure(figsize=(16,5))\n",
    "plt.plot(pd.Series(new_predictions[0]), color = 'b',label='day 0')\n",
    "plt.plot(pd.Series(new_predictions[298]), color = 'r',label='day 298')\n",
    "plt.xlabel(\"Rate\")\n",
    "plt.ylabel(\"Probability of Survival\")\n",
    "plt.legend(loc=\"lower left\")\n",
    "plt.show()"
   ]
  },
  {
   "cell_type": "markdown",
   "metadata": {},
   "source": [
    "### comparison of three models"
   ]
  },
  {
   "cell_type": "code",
   "execution_count": 203,
   "metadata": {},
   "outputs": [
    {
     "data": {
      "text/html": [
       "<div>\n",
       "<style scoped>\n",
       "    .dataframe tbody tr th:only-of-type {\n",
       "        vertical-align: middle;\n",
       "    }\n",
       "\n",
       "    .dataframe tbody tr th {\n",
       "        vertical-align: top;\n",
       "    }\n",
       "\n",
       "    .dataframe thead th {\n",
       "        text-align: right;\n",
       "    }\n",
       "</style>\n",
       "<table border=\"1\" class=\"dataframe\">\n",
       "  <thead>\n",
       "    <tr style=\"text-align: right;\">\n",
       "      <th></th>\n",
       "      <th>score</th>\n",
       "    </tr>\n",
       "  </thead>\n",
       "  <tbody>\n",
       "    <tr>\n",
       "      <th>cox_reg_score</th>\n",
       "      <td>0.52</td>\n",
       "    </tr>\n",
       "    <tr>\n",
       "      <th>linear_mtlr_score</th>\n",
       "      <td>0.62</td>\n",
       "    </tr>\n",
       "    <tr>\n",
       "      <th>neural_mtlm_score</th>\n",
       "      <td>0.97</td>\n",
       "    </tr>\n",
       "  </tbody>\n",
       "</table>\n",
       "</div>"
      ],
      "text/plain": [
       "                   score\n",
       "cox_reg_score       0.52\n",
       "linear_mtlr_score   0.62\n",
       "neural_mtlm_score   0.97"
      ]
     },
     "execution_count": 203,
     "metadata": {},
     "output_type": "execute_result"
    }
   ],
   "source": [
    "cox_reg_score = 0.52\n",
    "linear_mtlr_score = 0.62\n",
    "neural_mtlm_score = 0.97\n",
    "comparison = pd.DataFrame([cox_reg_score, linear_mtlr_score, neural_mtlm_score ], \n",
    "             index=['cox_reg_score', 'linear_mtlr_score', 'neural_mtlm_score'],\n",
    "             columns=['score'])\n",
    "comparison"
   ]
  },
  {
   "cell_type": "code",
   "execution_count": 204,
   "metadata": {},
   "outputs": [
    {
     "data": {
      "image/png": "[encoded data removed]",
      "text/plain": [
       "<Figure size 432x288 with 1 Axes>"
      ]
     },
     "metadata": {
      "needs_background": "light"
     },
     "output_type": "display_data"
    }
   ],
   "source": [
    "comparison.plot(kind='bar');"
   ]
  },
  {
   "cell_type": "markdown",
   "metadata": {},
   "source": [
    "#### Conclusion: \n",
    "The Cox Regression had the lowest c-score, and the neural network had the highest score.\n",
    "Each model included a single independent variable (Prefix for Cox, Metric 6 for the other two). I chose Metric 6 because it had the greatest variance over time. We left out a number of other predictors (the other metrics, and \"prefix\") because these had little or no variance over time. A future iteration of the model would include these as independent variables. This would likely improve the c-value above .71."
   ]
  },
  {
   "cell_type": "markdown",
   "metadata": {},
   "source": [
    "### References\n",
    "\n",
    "* https://square.github.io/pysurvival/models/neural_mtlr.html\n",
    "* https://machinelearningmastery.com/how-to-develop-lstm-models-for-time-series-forecasting/\n",
    "* https://scikit-survival.readthedocs.io\n",
    "* https://www.kdnuggets.com/2017/11/survival-analysis-business-analytics.html\n",
    "* https://www.kdnuggets.com/2020/07/guide-survival-analysis-python-part-3.html\n",
    "* https://humboldt-wi.github.io/blog/research/information_systems_1920/group2_survivalanalysis/\n"
   ]
  },
  {
   "cell_type": "code",
   "execution_count": null,
   "metadata": {},
   "outputs": [],
   "source": []
  },
  {
   "cell_type": "code",
   "execution_count": 158,
   "metadata": {},
   "outputs": [],
   "source": [
    "from pysurvival.datasets import Dataset\n",
    "\n",
    "\n",
    "# Reading the dataset\n",
    "raw_dataset = Dataset('credit_risk').load()"
   ]
  },
  {
   "cell_type": "code",
   "execution_count": 159,
   "metadata": {},
   "outputs": [
    {
     "data": {
      "text/html": [
       "<div>\n",
       "<style scoped>\n",
       "    .dataframe tbody tr th:only-of-type {\n",
       "        vertical-align: middle;\n",
       "    }\n",
       "\n",
       "    .dataframe tbody tr th {\n",
       "        vertical-align: top;\n",
       "    }\n",
       "\n",
       "    .dataframe thead th {\n",
       "        text-align: right;\n",
       "    }\n",
       "</style>\n",
       "<table border=\"1\" class=\"dataframe\">\n",
       "  <thead>\n",
       "    <tr style=\"text-align: right;\">\n",
       "      <th></th>\n",
       "      <th>0</th>\n",
       "    </tr>\n",
       "  </thead>\n",
       "  <tbody>\n",
       "    <tr>\n",
       "      <th>checking_account_status</th>\n",
       "      <td>below_0</td>\n",
       "    </tr>\n",
       "    <tr>\n",
       "      <th>duration</th>\n",
       "      <td>6</td>\n",
       "    </tr>\n",
       "    <tr>\n",
       "      <th>credit_history</th>\n",
       "      <td>critical_account</td>\n",
       "    </tr>\n",
       "    <tr>\n",
       "      <th>purpose</th>\n",
       "      <td>radio_TV</td>\n",
       "    </tr>\n",
       "    <tr>\n",
       "      <th>amount</th>\n",
       "      <td>1169</td>\n",
       "    </tr>\n",
       "    <tr>\n",
       "      <th>savings_account_status</th>\n",
       "      <td>unknown</td>\n",
       "    </tr>\n",
       "    <tr>\n",
       "      <th>employment_years</th>\n",
       "      <td>above_7</td>\n",
       "    </tr>\n",
       "    <tr>\n",
       "      <th>installment_rate</th>\n",
       "      <td>4</td>\n",
       "    </tr>\n",
       "    <tr>\n",
       "      <th>personal_status</th>\n",
       "      <td>M_single</td>\n",
       "    </tr>\n",
       "    <tr>\n",
       "      <th>other_debtors</th>\n",
       "      <td>None</td>\n",
       "    </tr>\n",
       "    <tr>\n",
       "      <th>present_residence</th>\n",
       "      <td>4</td>\n",
       "    </tr>\n",
       "    <tr>\n",
       "      <th>property</th>\n",
       "      <td>real_estate</td>\n",
       "    </tr>\n",
       "    <tr>\n",
       "      <th>age</th>\n",
       "      <td>67</td>\n",
       "    </tr>\n",
       "    <tr>\n",
       "      <th>other_installment_plans</th>\n",
       "      <td>None</td>\n",
       "    </tr>\n",
       "    <tr>\n",
       "      <th>housing</th>\n",
       "      <td>own</td>\n",
       "    </tr>\n",
       "    <tr>\n",
       "      <th>number_of_credits</th>\n",
       "      <td>2</td>\n",
       "    </tr>\n",
       "    <tr>\n",
       "      <th>job</th>\n",
       "      <td>official</td>\n",
       "    </tr>\n",
       "    <tr>\n",
       "      <th>people_liable</th>\n",
       "      <td>1</td>\n",
       "    </tr>\n",
       "    <tr>\n",
       "      <th>telephone</th>\n",
       "      <td>1</td>\n",
       "    </tr>\n",
       "    <tr>\n",
       "      <th>foreign_worker</th>\n",
       "      <td>1</td>\n",
       "    </tr>\n",
       "    <tr>\n",
       "      <th>full_repaid</th>\n",
       "      <td>1</td>\n",
       "    </tr>\n",
       "  </tbody>\n",
       "</table>\n",
       "</div>"
      ],
      "text/plain": [
       "                                        0\n",
       "checking_account_status           below_0\n",
       "duration                                6\n",
       "credit_history           critical_account\n",
       "purpose                          radio_TV\n",
       "amount                               1169\n",
       "savings_account_status            unknown\n",
       "employment_years                  above_7\n",
       "installment_rate                        4\n",
       "personal_status                  M_single\n",
       "other_debtors                        None\n",
       "present_residence                       4\n",
       "property                     real_estate \n",
       "age                                    67\n",
       "other_installment_plans              None\n",
       "housing                               own\n",
       "number_of_credits                       2\n",
       "job                              official\n",
       "people_liable                           1\n",
       "telephone                               1\n",
       "foreign_worker                          1\n",
       "full_repaid                             1"
      ]
     },
     "execution_count": 159,
     "metadata": {},
     "output_type": "execute_result"
    }
   ],
   "source": [
    "raw_dataset.head(1).T"
   ]
  },
  {
   "cell_type": "code",
   "execution_count": null,
   "metadata": {},
   "outputs": [],
   "source": []
  }
 ],
 "metadata": {
  "kernelspec": {
   "display_name": "conda_python3",
   "language": "python",
   "name": "conda_python3"
  },
  "language_info": {
   "codemirror_mode": {
    "name": "ipython",
    "version": 3
   },
   "file_extension": ".py",
   "mimetype": "text/x-python",
   "name": "python",
   "nbconvert_exporter": "python",
   "pygments_lexer": "ipython3",
   "version": "3.6.13"
  }
 },
 "nbformat": 4,
 "nbformat_minor": 2
}
