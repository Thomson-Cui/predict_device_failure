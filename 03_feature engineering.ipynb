{
 "cells": [
  {
   "cell_type": "code",
   "execution_count": null,
   "metadata": {},
   "outputs": [],
   "source": [
    "import pandas as pd\n",
    "df=pd.read_csv('device_failure.csv', encoding = \"ISO-8859-1\")"
   ]
  },
  {
   "cell_type": "code",
   "execution_count": null,
   "metadata": {},
   "outputs": [],
   "source": [
    "# device ID"
   ]
  },
  {
   "cell_type": "code",
   "execution_count": null,
   "metadata": {},
   "outputs": [],
   "source": [
    "# We can group devices into 6 categories based on their device ID code\n",
    "df['prefix']=df['device'].apply(lambda row: row[:4])\n",
    "df['prefix']=df['prefix'].apply(lambda row: 'Z1F1' if row == 'Z1F2' else row)\n",
    "df['prefix'].value_counts()"
   ]
  },
  {
   "cell_type": "code",
   "execution_count": null,
   "metadata": {},
   "outputs": [],
   "source": [
    "# time since launch"
   ]
  },
  {
   "cell_type": "code",
   "execution_count": null,
   "metadata": {},
   "outputs": [],
   "source": [
    "# Rolling average of previous status codes\n",
    "    # how to handle first 5 days"
   ]
  },
  {
   "cell_type": "code",
   "execution_count": null,
   "metadata": {},
   "outputs": [],
   "source": [
    "# convert categorical features to dummies\n",
    "    # 6 attributes have very high percentage of zero values. These could be error codes or some other indicator\n",
    "    # The attributes are all integers, but many have the appearance of being error codes, \n",
    "    # with a large percentage of 0 values and large gaps between frequent occurances. \n",
    "    #This is common with devices that may have error codes that are bit encoded (eg. 2,4,8,16...1024, etc.)."
   ]
  },
  {
   "cell_type": "code",
   "execution_count": null,
   "metadata": {},
   "outputs": [],
   "source": [
    "# then create interaction terms\n",
    "    #including interaction terms of attribute 2 and 4 with time (T0). \n",
    "    #This should accomodate for the changing hazard ratios."
   ]
  },
  {
   "cell_type": "code",
   "execution_count": null,
   "metadata": {},
   "outputs": [],
   "source": [
    "# resampling for imbalanced classes?"
   ]
  }
 ],
 "metadata": {
  "kernelspec": {
   "display_name": "Python 3",
   "language": "python",
   "name": "python3"
  },
  "language_info": {
   "codemirror_mode": {
    "name": "ipython",
    "version": 3
   },
   "file_extension": ".py",
   "mimetype": "text/x-python",
   "name": "python",
   "nbconvert_exporter": "python",
   "pygments_lexer": "ipython3",
   "version": "3.6.6"
  }
 },
 "nbformat": 4,
 "nbformat_minor": 2
}
