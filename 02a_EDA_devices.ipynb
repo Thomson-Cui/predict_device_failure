{
 "cells": [
  {
   "cell_type": "markdown",
   "metadata": {},
   "source": [
    "# Data Exploration - Device Level"
   ]
  },
  {
   "cell_type": "code",
   "execution_count": 1,
   "metadata": {},
   "outputs": [],
   "source": [
    "import pandas as pd\n",
    "import numpy as np\n",
    "from pathlib import Path\n",
    "import re\n",
    "import pickle"
   ]
  },
  {
   "cell_type": "code",
   "execution_count": 2,
   "metadata": {},
   "outputs": [
    {
     "data": {
      "text/html": [
       "<script type=\"text/javascript\">window.PlotlyConfig = {MathJaxConfig: 'local'};</script><script type=\"text/javascript\">if (window.MathJax) {MathJax.Hub.Config({SVG: {font: \"STIX-Web\"}});}</script><script>requirejs.config({paths: { 'plotly': ['https://cdn.plot.ly/plotly-latest.min']},});if(!window._Plotly) {require(['plotly'],function(plotly) {window._Plotly=plotly;});}</script>"
      ],
      "text/vnd.plotly.v1+html": [
       "<script type=\"text/javascript\">window.PlotlyConfig = {MathJaxConfig: 'local'};</script><script type=\"text/javascript\">if (window.MathJax) {MathJax.Hub.Config({SVG: {font: \"STIX-Web\"}});}</script><script>requirejs.config({paths: { 'plotly': ['https://cdn.plot.ly/plotly-latest.min']},});if(!window._Plotly) {require(['plotly'],function(plotly) {window._Plotly=plotly;});}</script>"
      ]
     },
     "metadata": {},
     "output_type": "display_data"
    }
   ],
   "source": [
    "from plotly.offline import download_plotlyjs, init_notebook_mode, plot, iplot\n",
    "init_notebook_mode(connected=True)\n",
    "import plotly.io as pio\n",
    "import plotly.plotly as py\n",
    "import plotly.graph_objs as go\n",
    "from plotly.graph_objs import *"
   ]
  },
  {
   "cell_type": "code",
   "execution_count": 3,
   "metadata": {},
   "outputs": [],
   "source": [
    "# define data paths\n",
    "data_path=Path.joinpath(Path.cwd(), 'data', 'clean_df.pkl')"
   ]
  },
  {
   "cell_type": "code",
   "execution_count": 4,
   "metadata": {},
   "outputs": [
    {
     "name": "stdout",
     "output_type": "stream",
     "text": [
      "(124164, 11)\n"
     ]
    }
   ],
   "source": [
    "# read clean datafile\n",
    "df=pd.read_pickle(data_path)\n",
    "print(df.shape)"
   ]
  },
  {
   "cell_type": "markdown",
   "metadata": {},
   "source": [
    "## Group on device ID, keep max value"
   ]
  },
  {
   "cell_type": "code",
   "execution_count": 5,
   "metadata": {},
   "outputs": [
    {
     "name": "stdout",
     "output_type": "stream",
     "text": [
      "(1163, 3)\n"
     ]
    }
   ],
   "source": [
    "# creates new dataframe: one row for each device (reduces dimensions from 124K to 1163)\n",
    "dfmax=df.groupby('device').max().reset_index(drop=False)\n",
    "dfmax=dfmax[['device', 'date', 'failure']]\n",
    "print(dfmax.shape)"
   ]
  },
  {
   "cell_type": "code",
   "execution_count": 6,
   "metadata": {},
   "outputs": [
    {
     "data": {
      "text/plain": [
       "['S1F023H2', 'S1F03YZM', 'S1F09DZQ', 'S1F0CTDN']"
      ]
     },
     "execution_count": 6,
     "metadata": {},
     "output_type": "execute_result"
    }
   ],
   "source": [
    "# Make a list of devices that eventually failed.\n",
    "fails=list(dfmax.loc[dfmax['failure']==1]['device'])\n",
    "fails[:4]"
   ]
  },
  {
   "cell_type": "markdown",
   "metadata": {},
   "source": [
    "## Create a variable for Device ID types"
   ]
  },
  {
   "cell_type": "code",
   "execution_count": 7,
   "metadata": {},
   "outputs": [
    {
     "data": {
      "text/html": [
       "<div>\n",
       "<style>\n",
       "    .dataframe thead tr:only-child th {\n",
       "        text-align: right;\n",
       "    }\n",
       "\n",
       "    .dataframe thead th {\n",
       "        text-align: left;\n",
       "    }\n",
       "\n",
       "    .dataframe tbody tr th {\n",
       "        vertical-align: top;\n",
       "    }\n",
       "</style>\n",
       "<table border=\"1\" class=\"dataframe\">\n",
       "  <thead>\n",
       "    <tr style=\"text-align: right;\">\n",
       "      <th></th>\n",
       "      <th>device</th>\n",
       "      <th>date</th>\n",
       "      <th>failure</th>\n",
       "    </tr>\n",
       "  </thead>\n",
       "  <tbody>\n",
       "    <tr>\n",
       "      <th>0</th>\n",
       "      <td>S1F01085</td>\n",
       "      <td>2015-01-06</td>\n",
       "      <td>0</td>\n",
       "    </tr>\n",
       "    <tr>\n",
       "      <th>1</th>\n",
       "      <td>S1F0166B</td>\n",
       "      <td>2015-01-06</td>\n",
       "      <td>0</td>\n",
       "    </tr>\n",
       "    <tr>\n",
       "      <th>2</th>\n",
       "      <td>S1F01E6Y</td>\n",
       "      <td>2015-02-17</td>\n",
       "      <td>0</td>\n",
       "    </tr>\n",
       "    <tr>\n",
       "      <th>3</th>\n",
       "      <td>S1F01JE0</td>\n",
       "      <td>2015-01-06</td>\n",
       "      <td>0</td>\n",
       "    </tr>\n",
       "    <tr>\n",
       "      <th>4</th>\n",
       "      <td>S1F01R2B</td>\n",
       "      <td>2015-08-24</td>\n",
       "      <td>0</td>\n",
       "    </tr>\n",
       "  </tbody>\n",
       "</table>\n",
       "</div>"
      ],
      "text/plain": [
       "     device       date  failure\n",
       "0  S1F01085 2015-01-06        0\n",
       "1  S1F0166B 2015-01-06        0\n",
       "2  S1F01E6Y 2015-02-17        0\n",
       "3  S1F01JE0 2015-01-06        0\n",
       "4  S1F01R2B 2015-08-24        0"
      ]
     },
     "execution_count": 7,
     "metadata": {},
     "output_type": "execute_result"
    }
   ],
   "source": [
    "dfmax.head()"
   ]
  },
  {
   "cell_type": "code",
   "execution_count": 8,
   "metadata": {},
   "outputs": [
    {
     "data": {
      "text/plain": [
       "S1F0    387\n",
       "W1F0    281\n",
       "Z1F0    149\n",
       "S1F1    139\n",
       "W1F1    137\n",
       "Z1F1     70\n",
       "Name: prefix, dtype: int64"
      ]
     },
     "execution_count": 8,
     "metadata": {},
     "output_type": "execute_result"
    }
   ],
   "source": [
    "# We can group devices into 6 categories based on their device ID code\n",
    "dfmax['prefix']=dfmax['device'].apply(lambda row: row[:4])\n",
    "dfmax['prefix']=dfmax['prefix'].apply(lambda row: 'Z1F1' if row == 'Z1F2' else row)\n",
    "dfmax['prefix'].value_counts()"
   ]
  },
  {
   "cell_type": "code",
   "execution_count": 9,
   "metadata": {},
   "outputs": [],
   "source": [
    "df_prefix=dfmax[['device', 'prefix']]"
   ]
  },
  {
   "cell_type": "code",
   "execution_count": 10,
   "metadata": {},
   "outputs": [
    {
     "name": "stdout",
     "output_type": "stream",
     "text": [
      "(124164, 11)\n",
      "(124164, 12)\n"
     ]
    }
   ],
   "source": [
    "# Copy that variable into the primary dataset\n",
    "print(df.shape)\n",
    "df_prefix\n",
    "df=pd.merge(df, df_prefix, on='device', how='left')\n",
    "print(df.shape)"
   ]
  },
  {
   "cell_type": "markdown",
   "metadata": {},
   "source": [
    "## Devices removed early"
   ]
  },
  {
   "cell_type": "code",
   "execution_count": 11,
   "metadata": {},
   "outputs": [
    {
     "data": {
      "text/plain": [
       "313"
      ]
     },
     "execution_count": 11,
     "metadata": {},
     "output_type": "execute_result"
    }
   ],
   "source": [
    "# Over 300 devices are taken from the log in the first 5-6 days. These are outliers and should be removed.\n",
    "dfmax.loc[dfmax['date']<'01-07-2015'].shape[0]"
   ]
  },
  {
   "cell_type": "code",
   "execution_count": 12,
   "metadata": {},
   "outputs": [
    {
     "data": {
      "text/plain": [
       "2015-01-03      1\n",
       "2015-01-04      1\n",
       "2015-01-05    106\n",
       "2015-01-06    205\n",
       "2015-01-07     42\n",
       "2015-01-09      1\n",
       "2015-01-13     23\n",
       "2015-01-14      1\n",
       "2015-01-17      1\n",
       "2015-01-18      1\n",
       "Name: date, dtype: int64"
      ]
     },
     "execution_count": 12,
     "metadata": {},
     "output_type": "execute_result"
    }
   ],
   "source": [
    "# Looks like January 7th was a watershed moment.\n",
    "dfmax['date'].value_counts().sort_index().head(10)"
   ]
  },
  {
   "cell_type": "code",
   "execution_count": 13,
   "metadata": {},
   "outputs": [
    {
     "data": {
      "text/plain": [
       "1"
      ]
     },
     "execution_count": 13,
     "metadata": {},
     "output_type": "execute_result"
    }
   ],
   "source": [
    "# Did any of these early losers actually fail? Yes, one.\n",
    "dfmax.loc[dfmax['date']<'01-07-2015']['failure'].sum()"
   ]
  },
  {
   "cell_type": "code",
   "execution_count": 14,
   "metadata": {},
   "outputs": [
    {
     "name": "stdout",
     "output_type": "stream",
     "text": [
      "       device       date  failure prefix\n",
      "235  S1F0RRB1 2015-01-05        1   S1F0\n"
     ]
    },
    {
     "data": {
      "text/html": [
       "<div>\n",
       "<style>\n",
       "    .dataframe thead tr:only-child th {\n",
       "        text-align: right;\n",
       "    }\n",
       "\n",
       "    .dataframe thead th {\n",
       "        text-align: left;\n",
       "    }\n",
       "\n",
       "    .dataframe tbody tr th {\n",
       "        vertical-align: top;\n",
       "    }\n",
       "</style>\n",
       "<table border=\"1\" class=\"dataframe\">\n",
       "  <thead>\n",
       "    <tr style=\"text-align: right;\">\n",
       "      <th></th>\n",
       "      <th>date</th>\n",
       "      <th>device</th>\n",
       "      <th>failure</th>\n",
       "      <th>attribute1</th>\n",
       "      <th>attribute2</th>\n",
       "      <th>attribute3</th>\n",
       "      <th>attribute4</th>\n",
       "      <th>attribute5</th>\n",
       "      <th>attribute6</th>\n",
       "      <th>attribute7</th>\n",
       "      <th>attribute9</th>\n",
       "      <th>prefix</th>\n",
       "    </tr>\n",
       "  </thead>\n",
       "  <tbody>\n",
       "    <tr>\n",
       "      <th>18392</th>\n",
       "      <td>2015-01-01</td>\n",
       "      <td>S1F0RRB1</td>\n",
       "      <td>0</td>\n",
       "      <td>0.001076</td>\n",
       "      <td>2288</td>\n",
       "      <td>0</td>\n",
       "      <td>37</td>\n",
       "      <td>8</td>\n",
       "      <td>0.002164</td>\n",
       "      <td>24</td>\n",
       "      <td>1</td>\n",
       "      <td>S1F0</td>\n",
       "    </tr>\n",
       "    <tr>\n",
       "      <th>18393</th>\n",
       "      <td>2015-01-02</td>\n",
       "      <td>S1F0RRB1</td>\n",
       "      <td>0</td>\n",
       "      <td>0.001076</td>\n",
       "      <td>64776</td>\n",
       "      <td>0</td>\n",
       "      <td>49</td>\n",
       "      <td>8</td>\n",
       "      <td>0.002164</td>\n",
       "      <td>56</td>\n",
       "      <td>1</td>\n",
       "      <td>S1F0</td>\n",
       "    </tr>\n",
       "    <tr>\n",
       "      <th>18394</th>\n",
       "      <td>2015-01-03</td>\n",
       "      <td>S1F0RRB1</td>\n",
       "      <td>0</td>\n",
       "      <td>0.001076</td>\n",
       "      <td>64776</td>\n",
       "      <td>0</td>\n",
       "      <td>135</td>\n",
       "      <td>8</td>\n",
       "      <td>0.002164</td>\n",
       "      <td>56</td>\n",
       "      <td>1</td>\n",
       "      <td>S1F0</td>\n",
       "    </tr>\n",
       "    <tr>\n",
       "      <th>18395</th>\n",
       "      <td>2015-01-04</td>\n",
       "      <td>S1F0RRB1</td>\n",
       "      <td>0</td>\n",
       "      <td>0.001076</td>\n",
       "      <td>64776</td>\n",
       "      <td>0</td>\n",
       "      <td>763</td>\n",
       "      <td>8</td>\n",
       "      <td>0.002164</td>\n",
       "      <td>56</td>\n",
       "      <td>1</td>\n",
       "      <td>S1F0</td>\n",
       "    </tr>\n",
       "    <tr>\n",
       "      <th>18396</th>\n",
       "      <td>2015-01-05</td>\n",
       "      <td>S1F0RRB1</td>\n",
       "      <td>1</td>\n",
       "      <td>0.001076</td>\n",
       "      <td>64776</td>\n",
       "      <td>0</td>\n",
       "      <td>841</td>\n",
       "      <td>8</td>\n",
       "      <td>0.002164</td>\n",
       "      <td>56</td>\n",
       "      <td>1</td>\n",
       "      <td>S1F0</td>\n",
       "    </tr>\n",
       "  </tbody>\n",
       "</table>\n",
       "</div>"
      ],
      "text/plain": [
       "            date    device  failure  attribute1  attribute2  attribute3  \\\n",
       "18392 2015-01-01  S1F0RRB1        0    0.001076        2288           0   \n",
       "18393 2015-01-02  S1F0RRB1        0    0.001076       64776           0   \n",
       "18394 2015-01-03  S1F0RRB1        0    0.001076       64776           0   \n",
       "18395 2015-01-04  S1F0RRB1        0    0.001076       64776           0   \n",
       "18396 2015-01-05  S1F0RRB1        1    0.001076       64776           0   \n",
       "\n",
       "       attribute4  attribute5  attribute6  attribute7  attribute9 prefix  \n",
       "18392          37           8    0.002164          24           1   S1F0  \n",
       "18393          49           8    0.002164          56           1   S1F0  \n",
       "18394         135           8    0.002164          56           1   S1F0  \n",
       "18395         763           8    0.002164          56           1   S1F0  \n",
       "18396         841           8    0.002164          56           1   S1F0  "
      ]
     },
     "execution_count": 14,
     "metadata": {},
     "output_type": "execute_result"
    }
   ],
   "source": [
    "# Looks like S1F0RRB1 was an early failure.\n",
    "print(dfmax.loc[(dfmax['date']<'01-07-2015') & (dfmax['failure']==1)])\n",
    "# Looks like this actually had some good data going for it. Let's not delete it.\n",
    "df.loc[df['device']=='S1F0RRB1']"
   ]
  },
  {
   "cell_type": "code",
   "execution_count": 15,
   "metadata": {},
   "outputs": [
    {
     "data": {
      "text/plain": [
       "312"
      ]
     },
     "execution_count": 15,
     "metadata": {},
     "output_type": "execute_result"
    }
   ],
   "source": [
    "# Make a list of all the other early losers, and remove them from the primary dataset.\n",
    "early_losers=list(dfmax.loc[(dfmax['date']<'01-07-2015') & (dfmax['failure']==0)]['device'])\n",
    "len(early_losers)"
   ]
  },
  {
   "cell_type": "code",
   "execution_count": 16,
   "metadata": {},
   "outputs": [
    {
     "name": "stdout",
     "output_type": "stream",
     "text": [
      "124164\n",
      "122402\n"
     ]
    }
   ],
   "source": [
    "print(df.shape[0])\n",
    "df=df.loc[~df['device'].isin(early_losers)]\n",
    "print(df.shape[0])"
   ]
  },
  {
   "cell_type": "markdown",
   "metadata": {},
   "source": [
    "## Features with very little variance"
   ]
  },
  {
   "cell_type": "code",
   "execution_count": 17,
   "metadata": {},
   "outputs": [],
   "source": [
    "# std dev of all attributes\n",
    "dfsd=df.groupby('device').std().reset_index(drop=False)\n",
    "dfsd=dfsd[['attribute1', 'attribute2', 'attribute3', 'attribute4',\n",
    "       'attribute5', 'attribute6', 'attribute7', 'attribute9']]"
   ]
  },
  {
   "cell_type": "code",
   "execution_count": 18,
   "metadata": {},
   "outputs": [
    {
     "data": {
      "text/plain": [
       "(851, 2)"
      ]
     },
     "execution_count": 18,
     "metadata": {},
     "output_type": "execute_result"
    }
   ],
   "source": [
    "# list of failed devices\n",
    "dffailed=df.groupby('device')['failure'].max().reset_index(drop=False)\n",
    "dffailed.shape"
   ]
  },
  {
   "cell_type": "code",
   "execution_count": 19,
   "metadata": {},
   "outputs": [],
   "source": [
    "dfsmall=pd.concat([dffailed, dfsd], axis=1)"
   ]
  },
  {
   "cell_type": "code",
   "execution_count": 20,
   "metadata": {},
   "outputs": [
    {
     "data": {
      "text/html": [
       "<div>\n",
       "<style>\n",
       "    .dataframe thead tr:only-child th {\n",
       "        text-align: right;\n",
       "    }\n",
       "\n",
       "    .dataframe thead th {\n",
       "        text-align: left;\n",
       "    }\n",
       "\n",
       "    .dataframe tbody tr th {\n",
       "        vertical-align: top;\n",
       "    }\n",
       "</style>\n",
       "<table border=\"1\" class=\"dataframe\">\n",
       "  <thead>\n",
       "    <tr style=\"text-align: right;\">\n",
       "      <th></th>\n",
       "      <th>device</th>\n",
       "      <th>failure</th>\n",
       "      <th>attribute1</th>\n",
       "      <th>attribute2</th>\n",
       "      <th>attribute3</th>\n",
       "      <th>attribute4</th>\n",
       "      <th>attribute5</th>\n",
       "      <th>attribute6</th>\n",
       "      <th>attribute7</th>\n",
       "      <th>attribute9</th>\n",
       "    </tr>\n",
       "  </thead>\n",
       "  <tbody>\n",
       "    <tr>\n",
       "      <th>0</th>\n",
       "      <td>S1F01E6Y</td>\n",
       "      <td>0</td>\n",
       "      <td>0.000807</td>\n",
       "      <td>0.0</td>\n",
       "      <td>0.0</td>\n",
       "      <td>0.0</td>\n",
       "      <td>0.000000</td>\n",
       "      <td>0.0</td>\n",
       "      <td>0.0</td>\n",
       "      <td>0.0</td>\n",
       "    </tr>\n",
       "    <tr>\n",
       "      <th>1</th>\n",
       "      <td>S1F01R2B</td>\n",
       "      <td>0</td>\n",
       "      <td>0.000936</td>\n",
       "      <td>0.0</td>\n",
       "      <td>0.0</td>\n",
       "      <td>0.0</td>\n",
       "      <td>0.892202</td>\n",
       "      <td>0.0</td>\n",
       "      <td>0.0</td>\n",
       "      <td>0.0</td>\n",
       "    </tr>\n",
       "    <tr>\n",
       "      <th>2</th>\n",
       "      <td>S1F01XDJ</td>\n",
       "      <td>0</td>\n",
       "      <td>0.000959</td>\n",
       "      <td>0.0</td>\n",
       "      <td>0.0</td>\n",
       "      <td>0.0</td>\n",
       "      <td>0.000000</td>\n",
       "      <td>0.0</td>\n",
       "      <td>0.0</td>\n",
       "      <td>0.0</td>\n",
       "    </tr>\n",
       "    <tr>\n",
       "      <th>3</th>\n",
       "      <td>S1F023H2</td>\n",
       "      <td>1</td>\n",
       "      <td>0.000969</td>\n",
       "      <td>0.0</td>\n",
       "      <td>0.0</td>\n",
       "      <td>0.0</td>\n",
       "      <td>0.000000</td>\n",
       "      <td>0.0</td>\n",
       "      <td>0.0</td>\n",
       "      <td>0.0</td>\n",
       "    </tr>\n",
       "    <tr>\n",
       "      <th>4</th>\n",
       "      <td>S1F02A0J</td>\n",
       "      <td>0</td>\n",
       "      <td>0.000896</td>\n",
       "      <td>0.0</td>\n",
       "      <td>0.0</td>\n",
       "      <td>0.0</td>\n",
       "      <td>0.410241</td>\n",
       "      <td>0.0</td>\n",
       "      <td>0.0</td>\n",
       "      <td>0.0</td>\n",
       "    </tr>\n",
       "  </tbody>\n",
       "</table>\n",
       "</div>"
      ],
      "text/plain": [
       "     device  failure  attribute1  attribute2  attribute3  attribute4  \\\n",
       "0  S1F01E6Y        0    0.000807         0.0         0.0         0.0   \n",
       "1  S1F01R2B        0    0.000936         0.0         0.0         0.0   \n",
       "2  S1F01XDJ        0    0.000959         0.0         0.0         0.0   \n",
       "3  S1F023H2        1    0.000969         0.0         0.0         0.0   \n",
       "4  S1F02A0J        0    0.000896         0.0         0.0         0.0   \n",
       "\n",
       "   attribute5  attribute6  attribute7  attribute9  \n",
       "0    0.000000         0.0         0.0         0.0  \n",
       "1    0.892202         0.0         0.0         0.0  \n",
       "2    0.000000         0.0         0.0         0.0  \n",
       "3    0.000000         0.0         0.0         0.0  \n",
       "4    0.410241         0.0         0.0         0.0  "
      ]
     },
     "execution_count": 20,
     "metadata": {},
     "output_type": "execute_result"
    }
   ],
   "source": [
    "dfsmall.head()"
   ]
  },
  {
   "cell_type": "code",
   "execution_count": 21,
   "metadata": {},
   "outputs": [],
   "source": [
    "# Calculate whether an attribute has zero variance for a given device.\n",
    "for col in ['attribute1', 'attribute2', 'attribute3', 'attribute4',\n",
    "       'attribute5', 'attribute6', 'attribute7', 'attribute9']:\n",
    "    dfsmall['novar_'+col]=0\n",
    "    dfsmall.loc[dfsmall[col]==0, 'novar_'+col]=1"
   ]
  },
  {
   "cell_type": "code",
   "execution_count": 22,
   "metadata": {},
   "outputs": [],
   "source": [
    "corrs = dfsmall[['novar_attribute2', 'novar_attribute3', 'novar_attribute4',\n",
    "       'novar_attribute5', 'novar_attribute6', 'novar_attribute7', 'novar_attribute9', 'failure']].corr()\n",
    "# There's neg correlation between failure and zero variance in attributes 2, 4, and 7.\n",
    "# Devices with non-zero variance were more likely to fail."
   ]
  },
  {
   "cell_type": "code",
   "execution_count": 23,
   "metadata": {},
   "outputs": [
    {
     "data": {
      "text/html": [
       "<div>\n",
       "<style>\n",
       "    .dataframe thead tr:only-child th {\n",
       "        text-align: right;\n",
       "    }\n",
       "\n",
       "    .dataframe thead th {\n",
       "        text-align: left;\n",
       "    }\n",
       "\n",
       "    .dataframe tbody tr th {\n",
       "        vertical-align: top;\n",
       "    }\n",
       "</style>\n",
       "<table border=\"1\" class=\"dataframe\">\n",
       "  <thead>\n",
       "    <tr style=\"text-align: right;\">\n",
       "      <th></th>\n",
       "      <th>novar_attribute2</th>\n",
       "      <th>novar_attribute3</th>\n",
       "      <th>novar_attribute4</th>\n",
       "      <th>novar_attribute5</th>\n",
       "      <th>novar_attribute6</th>\n",
       "      <th>novar_attribute7</th>\n",
       "      <th>novar_attribute9</th>\n",
       "      <th>failure</th>\n",
       "    </tr>\n",
       "  </thead>\n",
       "  <tbody>\n",
       "    <tr>\n",
       "      <th>novar_attribute2</th>\n",
       "      <td>1.000000</td>\n",
       "      <td>0.046097</td>\n",
       "      <td>0.392979</td>\n",
       "      <td>0.002456</td>\n",
       "      <td>-0.035057</td>\n",
       "      <td>0.303040</td>\n",
       "      <td>0.039278</td>\n",
       "      <td>-0.406620</td>\n",
       "    </tr>\n",
       "    <tr>\n",
       "      <th>novar_attribute3</th>\n",
       "      <td>0.046097</td>\n",
       "      <td>1.000000</td>\n",
       "      <td>0.044756</td>\n",
       "      <td>0.085749</td>\n",
       "      <td>0.009815</td>\n",
       "      <td>0.064203</td>\n",
       "      <td>0.241613</td>\n",
       "      <td>0.004210</td>\n",
       "    </tr>\n",
       "    <tr>\n",
       "      <th>novar_attribute4</th>\n",
       "      <td>0.392979</td>\n",
       "      <td>0.044756</td>\n",
       "      <td>1.000000</td>\n",
       "      <td>0.095409</td>\n",
       "      <td>-0.022144</td>\n",
       "      <td>0.473711</td>\n",
       "      <td>0.018529</td>\n",
       "      <td>-0.508201</td>\n",
       "    </tr>\n",
       "    <tr>\n",
       "      <th>novar_attribute5</th>\n",
       "      <td>0.002456</td>\n",
       "      <td>0.085749</td>\n",
       "      <td>0.095409</td>\n",
       "      <td>1.000000</td>\n",
       "      <td>-0.058147</td>\n",
       "      <td>0.083130</td>\n",
       "      <td>0.114314</td>\n",
       "      <td>-0.052461</td>\n",
       "    </tr>\n",
       "    <tr>\n",
       "      <th>novar_attribute6</th>\n",
       "      <td>-0.035057</td>\n",
       "      <td>0.009815</td>\n",
       "      <td>-0.022144</td>\n",
       "      <td>-0.058147</td>\n",
       "      <td>1.000000</td>\n",
       "      <td>-0.005635</td>\n",
       "      <td>0.057488</td>\n",
       "      <td>0.068729</td>\n",
       "    </tr>\n",
       "    <tr>\n",
       "      <th>novar_attribute7</th>\n",
       "      <td>0.303040</td>\n",
       "      <td>0.064203</td>\n",
       "      <td>0.473711</td>\n",
       "      <td>0.083130</td>\n",
       "      <td>-0.005635</td>\n",
       "      <td>1.000000</td>\n",
       "      <td>0.047457</td>\n",
       "      <td>-0.439856</td>\n",
       "    </tr>\n",
       "    <tr>\n",
       "      <th>novar_attribute9</th>\n",
       "      <td>0.039278</td>\n",
       "      <td>0.241613</td>\n",
       "      <td>0.018529</td>\n",
       "      <td>0.114314</td>\n",
       "      <td>0.057488</td>\n",
       "      <td>0.047457</td>\n",
       "      <td>1.000000</td>\n",
       "      <td>-0.045483</td>\n",
       "    </tr>\n",
       "    <tr>\n",
       "      <th>failure</th>\n",
       "      <td>-0.406620</td>\n",
       "      <td>0.004210</td>\n",
       "      <td>-0.508201</td>\n",
       "      <td>-0.052461</td>\n",
       "      <td>0.068729</td>\n",
       "      <td>-0.439856</td>\n",
       "      <td>-0.045483</td>\n",
       "      <td>1.000000</td>\n",
       "    </tr>\n",
       "  </tbody>\n",
       "</table>\n",
       "</div>"
      ],
      "text/plain": [
       "                  novar_attribute2  novar_attribute3  novar_attribute4  \\\n",
       "novar_attribute2          1.000000          0.046097          0.392979   \n",
       "novar_attribute3          0.046097          1.000000          0.044756   \n",
       "novar_attribute4          0.392979          0.044756          1.000000   \n",
       "novar_attribute5          0.002456          0.085749          0.095409   \n",
       "novar_attribute6         -0.035057          0.009815         -0.022144   \n",
       "novar_attribute7          0.303040          0.064203          0.473711   \n",
       "novar_attribute9          0.039278          0.241613          0.018529   \n",
       "failure                  -0.406620          0.004210         -0.508201   \n",
       "\n",
       "                  novar_attribute5  novar_attribute6  novar_attribute7  \\\n",
       "novar_attribute2          0.002456         -0.035057          0.303040   \n",
       "novar_attribute3          0.085749          0.009815          0.064203   \n",
       "novar_attribute4          0.095409         -0.022144          0.473711   \n",
       "novar_attribute5          1.000000         -0.058147          0.083130   \n",
       "novar_attribute6         -0.058147          1.000000         -0.005635   \n",
       "novar_attribute7          0.083130         -0.005635          1.000000   \n",
       "novar_attribute9          0.114314          0.057488          0.047457   \n",
       "failure                  -0.052461          0.068729         -0.439856   \n",
       "\n",
       "                  novar_attribute9   failure  \n",
       "novar_attribute2          0.039278 -0.406620  \n",
       "novar_attribute3          0.241613  0.004210  \n",
       "novar_attribute4          0.018529 -0.508201  \n",
       "novar_attribute5          0.114314 -0.052461  \n",
       "novar_attribute6          0.057488  0.068729  \n",
       "novar_attribute7          0.047457 -0.439856  \n",
       "novar_attribute9          1.000000 -0.045483  \n",
       "failure                  -0.045483  1.000000  "
      ]
     },
     "execution_count": 23,
     "metadata": {},
     "output_type": "execute_result"
    }
   ],
   "source": [
    "corrs=pd.DataFrame(corrs)\n",
    "corrs"
   ]
  },
  {
   "cell_type": "code",
   "execution_count": 24,
   "metadata": {},
   "outputs": [],
   "source": [
    "data = [go.Heatmap(z=corrs.values.tolist(), \n",
    "                   x=corrs.columns.tolist(),\n",
    "                   y=corrs.index.tolist(),\n",
    "                   colorscale='Viridis')]\n",
    "layout=go.Layout(\n",
    "        title=\"Heatmap of attributes and failure\")\n",
    "fig = go.Figure(data=data, layout=layout)\n",
    "# iplot(fig)\n",
    "pio.write_image(fig, 'images/heatmap.png')"
   ]
  },
  {
   "cell_type": "markdown",
   "metadata": {},
   "source": [
    "![heatmap](images/heatmap.png)"
   ]
  },
  {
   "cell_type": "code",
   "execution_count": 25,
   "metadata": {},
   "outputs": [],
   "source": [
    "for i in [2,4,7]:\n",
    "    results=dfsmall.groupby('novar_attribute'+str(i))['failure'].mean()\n",
    "    mydata = [go.Bar(\n",
    "        x=results.index,\n",
    "        y=results,\n",
    "        marker=dict(color=['rgba(100,100,500,1)', 'rgba(222,45,38,0.8)'])\n",
    "    )]\n",
    "\n",
    "    mylayout = go.Layout(\n",
    "        title='Attribute '+str(i),\n",
    "        xaxis=dict(title = 'No variance'),\n",
    "        yaxis=dict(title = 'Mean failure'),\n",
    "        width=500,\n",
    "        height=300,\n",
    "    )\n",
    "    fig = go.Figure(data=mydata, layout=mylayout)\n",
    "#     iplot(fig)\n",
    "    pio.write_image(fig, 'images/attribute'+str(i)+'.png')"
   ]
  },
  {
   "cell_type": "markdown",
   "metadata": {},
   "source": [
    "<table><tr>\n",
    "<td> <img src=\"images/attribute2.png\"  style=\"width: 500px;\"/> </td>\n",
    "<td> <img src=\"images/attribute4.png\"  style=\"width: 500px;\"/> </td>\n",
    "<td> <img src=\"images/attribute7.png\"  style=\"width: 500px;\"/> </td>\n",
    "</tr></table>"
   ]
  },
  {
   "cell_type": "code",
   "execution_count": 26,
   "metadata": {},
   "outputs": [],
   "source": [
    "# We'll want to create a measure of standard variance for each feature, and include it in the \"rolling\" lag."
   ]
  },
  {
   "cell_type": "markdown",
   "metadata": {},
   "source": [
    "## Time to failure"
   ]
  },
  {
   "cell_type": "code",
   "execution_count": 27,
   "metadata": {},
   "outputs": [
    {
     "data": {
      "text/plain": [
       "(851, 2)"
      ]
     },
     "execution_count": 27,
     "metadata": {},
     "output_type": "execute_result"
    }
   ],
   "source": [
    "# group on device, with county by date.\n",
    "dfcount=df.groupby('device')['date'].count().reset_index(drop=False)\n",
    "dfcount.shape"
   ]
  },
  {
   "cell_type": "code",
   "execution_count": 28,
   "metadata": {},
   "outputs": [],
   "source": [
    "# Keep only the failures\n",
    "dfcount=dfcount[dfcount['device'].isin(fails)]"
   ]
  },
  {
   "cell_type": "code",
   "execution_count": 29,
   "metadata": {},
   "outputs": [],
   "source": [
    "# Failures peak at 19 and 125 days\n",
    "data = [go.Histogram(x=dfcount['date'],\n",
    "                    xbins=dict(size=5)\n",
    "                   )]\n",
    "layout = go.Layout(\n",
    "    title = 'Device Failure by Length of Life', # Graph title\n",
    "    yaxis = dict(title = 'Number of failures'), # x-axis label\n",
    "    xaxis = dict(title = 'Days since launch'), # y-axis label\n",
    "    \n",
    ")\n",
    "fig = go.Figure(data=data, layout=layout)\n",
    "# iplot(fig)\n",
    "pio.write_image(fig, 'images/histogram.png')"
   ]
  },
  {
   "cell_type": "markdown",
   "metadata": {},
   "source": [
    "![hist](images/histogram.png)"
   ]
  },
  {
   "cell_type": "code",
   "execution_count": 30,
   "metadata": {},
   "outputs": [],
   "source": [
    "# Be sure to include a measure of time since launch as a predictor."
   ]
  },
  {
   "cell_type": "markdown",
   "metadata": {},
   "source": [
    "## Overwrite the dataset"
   ]
  },
  {
   "cell_type": "code",
   "execution_count": 31,
   "metadata": {},
   "outputs": [
    {
     "name": "stdout",
     "output_type": "stream",
     "text": [
      "(122402, 12)\n"
     ]
    }
   ],
   "source": [
    "# read clean datafile\n",
    "df.to_pickle(data_path)\n",
    "print(df.shape)"
   ]
  },
  {
   "cell_type": "code",
   "execution_count": null,
   "metadata": {},
   "outputs": [],
   "source": []
  }
 ],
 "metadata": {
  "kernelspec": {
   "display_name": "Python 3",
   "language": "python",
   "name": "python3"
  },
  "language_info": {
   "codemirror_mode": {
    "name": "ipython",
    "version": 3
   },
   "file_extension": ".py",
   "mimetype": "text/x-python",
   "name": "python",
   "nbconvert_exporter": "python",
   "pygments_lexer": "ipython3",
   "version": "3.6.7"
  }
 },
 "nbformat": 4,
 "nbformat_minor": 2
}
